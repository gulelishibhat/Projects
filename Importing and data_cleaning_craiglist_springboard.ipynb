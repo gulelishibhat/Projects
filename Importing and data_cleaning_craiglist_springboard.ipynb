{
 "cells": [
  {
   "cell_type": "code",
   "execution_count": 252,
   "id": "early-spanish",
   "metadata": {},
   "outputs": [],
   "source": [
    "import numpy as np\n",
    "import pandas as pd\n",
    "import geopandas as gpd\n",
    "from shapely.geometry import Point, Polygon\n",
    "import matplotlib.pyplot as plt"
   ]
  },
  {
   "cell_type": "code",
   "execution_count": 253,
   "id": "listed-injury",
   "metadata": {},
   "outputs": [],
   "source": [
    "#import the csv file we have saved after web scraping from the Craiglist website\n",
    "df_york = pd.read_csv(\"data/web_scrap_craiglist_data_newyork_final.csv\", index_col = 0)\n",
    "df_philly = pd.read_csv(\"data/web_scrap_craiglist_data_philly_final.csv\", index_col = 0)"
   ]
  },
  {
   "cell_type": "code",
   "execution_count": 254,
   "id": "close-tension",
   "metadata": {},
   "outputs": [
    {
     "data": {
      "text/html": [
       "<div>\n",
       "<style scoped>\n",
       "    .dataframe tbody tr th:only-of-type {\n",
       "        vertical-align: middle;\n",
       "    }\n",
       "\n",
       "    .dataframe tbody tr th {\n",
       "        vertical-align: top;\n",
       "    }\n",
       "\n",
       "    .dataframe thead th {\n",
       "        text-align: right;\n",
       "    }\n",
       "</style>\n",
       "<table border=\"1\" class=\"dataframe\">\n",
       "  <thead>\n",
       "    <tr style=\"text-align: right;\">\n",
       "      <th></th>\n",
       "      <th>Unnamed: 0.1</th>\n",
       "      <th>post_title_texts</th>\n",
       "      <th>post_prices</th>\n",
       "      <th>sqfts</th>\n",
       "      <th>post_links</th>\n",
       "      <th>bedroom_counts</th>\n",
       "      <th>post_hoods</th>\n",
       "      <th>post_timing</th>\n",
       "      <th>No_of_bathrooms</th>\n",
       "      <th>No_of_bedrooms</th>\n",
       "      <th>latitude</th>\n",
       "      <th>longitude</th>\n",
       "      <th>pet</th>\n",
       "      <th>laundry</th>\n",
       "      <th>parking</th>\n",
       "      <th>floor</th>\n",
       "      <th>Apartment_type</th>\n",
       "      <th>smoking</th>\n",
       "    </tr>\n",
       "  </thead>\n",
       "  <tbody>\n",
       "    <tr>\n",
       "      <th>0</th>\n",
       "      <td>0</td>\n",
       "      <td>👉 Experience The Virtual Tours at The Piazza</td>\n",
       "      <td>3045</td>\n",
       "      <td>1002.0</td>\n",
       "      <td>https://philadelphia.craigslist.org/apa/d/phil...</td>\n",
       "      <td>2.0</td>\n",
       "      <td>(1050 N Hancock St - Northern Liberties)</td>\n",
       "      <td>2021-02-18 17:22</td>\n",
       "      <td>2Ba</td>\n",
       "      <td>2BR</td>\n",
       "      <td>39.969515</td>\n",
       "      <td>-75.139578</td>\n",
       "      <td>both pets</td>\n",
       "      <td>in unit</td>\n",
       "      <td>no</td>\n",
       "      <td>NaN</td>\n",
       "      <td>multi</td>\n",
       "      <td>NaN</td>\n",
       "    </tr>\n",
       "    <tr>\n",
       "      <th>1</th>\n",
       "      <td>1</td>\n",
       "      <td>Spacious 1 bedroom apartment</td>\n",
       "      <td>1000</td>\n",
       "      <td>NaN</td>\n",
       "      <td>https://philadelphia.craigslist.org/apa/d/phil...</td>\n",
       "      <td>1.0</td>\n",
       "      <td>(South Philadelphia)</td>\n",
       "      <td>2021-02-18 17:19</td>\n",
       "      <td>1Ba</td>\n",
       "      <td>1BR</td>\n",
       "      <td>39.920700</td>\n",
       "      <td>-75.159500</td>\n",
       "      <td>no pet</td>\n",
       "      <td>in unit</td>\n",
       "      <td>off-street</td>\n",
       "      <td>wood</td>\n",
       "      <td>multi</td>\n",
       "      <td>NaN</td>\n",
       "    </tr>\n",
       "    <tr>\n",
       "      <th>2</th>\n",
       "      <td>2</td>\n",
       "      <td>Stainless GE Appliances, Wood Floors, Rooftop ...</td>\n",
       "      <td>2487</td>\n",
       "      <td>NaN</td>\n",
       "      <td>https://philadelphia.craigslist.org/apa/d/phil...</td>\n",
       "      <td>1.0</td>\n",
       "      <td>(Philadelphia)</td>\n",
       "      <td>2021-02-18 17:19</td>\n",
       "      <td>1Ba</td>\n",
       "      <td>1BR</td>\n",
       "      <td>39.959700</td>\n",
       "      <td>-75.202400</td>\n",
       "      <td>no pet</td>\n",
       "      <td>in unit</td>\n",
       "      <td>no</td>\n",
       "      <td>NaN</td>\n",
       "      <td>multi</td>\n",
       "      <td>NaN</td>\n",
       "    </tr>\n",
       "  </tbody>\n",
       "</table>\n",
       "</div>"
      ],
      "text/plain": [
       "   Unnamed: 0.1                                   post_title_texts  \\\n",
       "0             0       👉 Experience The Virtual Tours at The Piazza   \n",
       "1             1                       Spacious 1 bedroom apartment   \n",
       "2             2  Stainless GE Appliances, Wood Floors, Rooftop ...   \n",
       "\n",
       "   post_prices   sqfts                                         post_links  \\\n",
       "0         3045  1002.0  https://philadelphia.craigslist.org/apa/d/phil...   \n",
       "1         1000     NaN  https://philadelphia.craigslist.org/apa/d/phil...   \n",
       "2         2487     NaN  https://philadelphia.craigslist.org/apa/d/phil...   \n",
       "\n",
       "   bedroom_counts                                 post_hoods  \\\n",
       "0             2.0   (1050 N Hancock St - Northern Liberties)   \n",
       "1             1.0                       (South Philadelphia)   \n",
       "2             1.0                             (Philadelphia)   \n",
       "\n",
       "        post_timing No_of_bathrooms No_of_bedrooms   latitude  longitude  \\\n",
       "0  2021-02-18 17:22             2Ba           2BR   39.969515 -75.139578   \n",
       "1  2021-02-18 17:19             1Ba           1BR   39.920700 -75.159500   \n",
       "2  2021-02-18 17:19             1Ba           1BR   39.959700 -75.202400   \n",
       "\n",
       "         pet  laundry     parking floor Apartment_type smoking  \n",
       "0  both pets  in unit          no   NaN          multi     NaN  \n",
       "1     no pet  in unit  off-street  wood          multi     NaN  \n",
       "2     no pet  in unit          no   NaN          multi     NaN  "
      ]
     },
     "execution_count": 254,
     "metadata": {},
     "output_type": "execute_result"
    }
   ],
   "source": [
    "df_philly.head(3)"
   ]
  },
  {
   "cell_type": "markdown",
   "id": "wicked-marsh",
   "metadata": {},
   "source": [
    "# Take care of count of Bathrooms and Bedrooms"
   ]
  },
  {
   "cell_type": "code",
   "execution_count": 255,
   "id": "instructional-presence",
   "metadata": {},
   "outputs": [
    {
     "data": {
      "text/plain": [
       " 1Ba        1702\n",
       " 2Ba         495\n",
       " 1.5Ba       101\n",
       " 3Ba          71\n",
       " 2.5Ba        70\n",
       " 4Ba          10\n",
       " 4.5Ba         1\n",
       " 5Ba           1\n",
       " 3.5Ba         1\n",
       " splitBa       1\n",
       "Name: No_of_bathrooms, dtype: int64"
      ]
     },
     "execution_count": 255,
     "metadata": {},
     "output_type": "execute_result"
    }
   ],
   "source": [
    "df_philly['No_of_bathrooms'].value_counts()"
   ]
  },
  {
   "cell_type": "code",
   "execution_count": 256,
   "id": "comparative-bristol",
   "metadata": {},
   "outputs": [
    {
     "data": {
      "text/plain": [
       "1BR     1019\n",
       "2BR      864\n",
       "3BR      272\n",
       "0BR      241\n",
       "4BR       38\n",
       "5BR       19\n",
       "Name: No_of_bedrooms, dtype: int64"
      ]
     },
     "execution_count": 256,
     "metadata": {},
     "output_type": "execute_result"
    }
   ],
   "source": [
    "df_philly['No_of_bedrooms'].value_counts()"
   ]
  },
  {
   "cell_type": "markdown",
   "id": "fluid-glance",
   "metadata": {},
   "source": [
    "#### We find the sharedBa and 0 Ba listings."
   ]
  },
  {
   "cell_type": "code",
   "execution_count": 257,
   "id": "early-northern",
   "metadata": {},
   "outputs": [
    {
     "data": {
      "text/html": [
       "<div>\n",
       "<style scoped>\n",
       "    .dataframe tbody tr th:only-of-type {\n",
       "        vertical-align: middle;\n",
       "    }\n",
       "\n",
       "    .dataframe tbody tr th {\n",
       "        vertical-align: top;\n",
       "    }\n",
       "\n",
       "    .dataframe thead th {\n",
       "        text-align: right;\n",
       "    }\n",
       "</style>\n",
       "<table border=\"1\" class=\"dataframe\">\n",
       "  <thead>\n",
       "    <tr style=\"text-align: right;\">\n",
       "      <th></th>\n",
       "      <th>Unnamed: 0.1</th>\n",
       "      <th>post_title_texts</th>\n",
       "      <th>post_prices</th>\n",
       "      <th>sqfts</th>\n",
       "      <th>post_links</th>\n",
       "      <th>bedroom_counts</th>\n",
       "      <th>post_hoods</th>\n",
       "      <th>post_timing</th>\n",
       "      <th>No_of_bathrooms</th>\n",
       "      <th>No_of_bedrooms</th>\n",
       "      <th>latitude</th>\n",
       "      <th>longitude</th>\n",
       "      <th>pet</th>\n",
       "      <th>laundry</th>\n",
       "      <th>parking</th>\n",
       "      <th>floor</th>\n",
       "      <th>Apartment_type</th>\n",
       "      <th>smoking</th>\n",
       "    </tr>\n",
       "  </thead>\n",
       "  <tbody>\n",
       "  </tbody>\n",
       "</table>\n",
       "</div>"
      ],
      "text/plain": [
       "Empty DataFrame\n",
       "Columns: [Unnamed: 0.1, post_title_texts, post_prices, sqfts, post_links, bedroom_counts, post_hoods, post_timing, No_of_bathrooms, No_of_bedrooms, latitude, longitude, pet, laundry, parking, floor, Apartment_type, smoking]\n",
       "Index: []"
      ]
     },
     "execution_count": 257,
     "metadata": {},
     "output_type": "execute_result"
    }
   ],
   "source": [
    "#Why we not able to see any listings for 1.5Ba ?\n",
    "df_york[df_york['No_of_bathrooms'] == '1.5Ba']"
   ]
  },
  {
   "cell_type": "code",
   "execution_count": 258,
   "id": "nervous-therapy",
   "metadata": {},
   "outputs": [
    {
     "data": {
      "text/plain": [
       "0       [ 1.5Ba]\n",
       "1         [ 1Ba]\n",
       "2         [ 1Ba]\n",
       "3       [ 1.5Ba]\n",
       "4         [ 1Ba]\n",
       "          ...   \n",
       "2921      [ 1Ba]\n",
       "2922      [ 1Ba]\n",
       "2923      [ 1Ba]\n",
       "2924      [ 1Ba]\n",
       "2925      [ 1Ba]\n",
       "Name: No_of_bathrooms, Length: 2926, dtype: object"
      ]
     },
     "execution_count": 258,
     "metadata": {},
     "output_type": "execute_result"
    }
   ],
   "source": [
    "# We found the space in front so first we want to remove the space\n",
    "df_york['No_of_bathrooms'].str.split(',')"
   ]
  },
  {
   "cell_type": "code",
   "execution_count": 259,
   "id": "oriental-directory",
   "metadata": {},
   "outputs": [],
   "source": [
    "#Replace the space by empty\n",
    "df_york['No_of_bathrooms'] = df_york['No_of_bathrooms'].str.replace(' ', '')\n",
    "df_philly['No_of_bathrooms'] = df_philly['No_of_bathrooms'].str.replace(' ', '')"
   ]
  },
  {
   "cell_type": "code",
   "execution_count": 260,
   "id": "toxic-jackson",
   "metadata": {},
   "outputs": [
    {
     "data": {
      "text/plain": [
       "['Room for rent',\n",
       " '🌸Cozy Room 🌸 in a 💎MAGNIFICENT 4BR/2BA💎',\n",
       " 'Room for rent',\n",
       " '$1395 - STUDIO! ASTOR PL! AMAIZNG LOCATION!',\n",
       " 'Beautiful Large Sunny Rooms in Park Slope Apartment Available!',\n",
       " '🌸Cozy Room 🌸 in a 💎MAGNIFICENT 4BR/2BA💎',\n",
       " 'Room for rent',\n",
       " 'NO FEE - WOODSIDE - ROOM FOR RENT (woodside',\n",
       " 'Free housing for femel',\n",
       " 'Beautiful Large Sunny Rooms in Park Slope Apartment Available!',\n",
       " 'LARGE ROOM  ACROSS FROM S.I. FERRY VIEW NYC  SKYLINE',\n",
       " 'Room for rent']"
      ]
     },
     "execution_count": 260,
     "metadata": {},
     "output_type": "execute_result"
    }
   ],
   "source": [
    "# There is sharedBa let's check the post_links and title to find are they really the one from the apartment.\n",
    "list(df_york[df_york['No_of_bathrooms'] == 'sharedBa'].post_title_texts)"
   ]
  },
  {
   "cell_type": "code",
   "execution_count": 261,
   "id": "virgin-crowd",
   "metadata": {},
   "outputs": [
    {
     "data": {
      "text/plain": [
       "['https://newyork.craigslist.org/brk/apa/d/brooklyn-room-for-rent/7279151509.html',\n",
       " 'https://newyork.craigslist.org/brk/apa/d/brooklyn-cozy-room-in-magnificent-4br/7279141166.html',\n",
       " 'https://newyork.craigslist.org/brk/apa/d/brooklyn-room-for-rent/7278822993.html',\n",
       " 'https://newyork.craigslist.org/mnh/apa/d/new-york-studio-astor-pl-amaizng/7278722077.html',\n",
       " 'https://newyork.craigslist.org/brk/apa/d/brooklyn-beautiful-large-sunny-rooms-in/7278621083.html',\n",
       " 'https://newyork.craigslist.org/brk/apa/d/brooklyn-cozy-room-in-magnificent-4br/7278264088.html',\n",
       " 'https://newyork.craigslist.org/brk/apa/d/brooklyn-room-for-rent/7277833803.html',\n",
       " 'https://newyork.craigslist.org/que/apa/d/woodside-no-fee-woodside-room-for-rent/7277627747.html',\n",
       " 'https://newyork.craigslist.org/brk/apa/d/providence-free-housing-for-femel/7277338115.html',\n",
       " 'https://newyork.craigslist.org/brk/apa/d/brooklyn-beautiful-large-sunny-rooms-in/7277286770.html',\n",
       " 'https://newyork.craigslist.org/stn/apa/d/staten-island-large-room-across-from-si/7277043928.html',\n",
       " 'https://newyork.craigslist.org/brk/apa/d/brooklyn-room-for-rent/7276901234.html']"
      ]
     },
     "execution_count": 261,
     "metadata": {},
     "output_type": "execute_result"
    }
   ],
   "source": [
    "list(df_york[df_york['No_of_bathrooms'] == 'sharedBa'].post_links)"
   ]
  },
  {
   "cell_type": "code",
   "execution_count": 262,
   "id": "productive-hampshire",
   "metadata": {},
   "outputs": [],
   "source": [
    "# The links and the title tells shareBa, these are the listings for renting the room but not any apartment or housing\n",
    "# Since we are dealing with apartment or house, I think we neeed to drop these room rent listings."
   ]
  },
  {
   "cell_type": "code",
   "execution_count": 263,
   "id": "robust-invasion",
   "metadata": {},
   "outputs": [],
   "source": [
    "#dropt the sharedBa\n",
    "df_york = df_york[df_york['No_of_bathrooms'] != 'sharedBa']"
   ]
  },
  {
   "cell_type": "code",
   "execution_count": 264,
   "id": "overhead-copying",
   "metadata": {},
   "outputs": [
    {
     "data": {
      "text/plain": [
       "['https://newyork.craigslist.org/mnh/apa/d/new-york-sunny-flex-bedroom-sq-ft/7279298938.html',\n",
       " 'https://newyork.craigslist.org/mnh/apa/d/new-york-no-fee-35-mth-freeflex/7279135669.html',\n",
       " 'https://newyork.craigslist.org/mnh/apa/d/new-york-no-fee3mos-freeflex-4reall/7279133214.html',\n",
       " 'https://newyork.craigslist.org/que/apa/d/astoria-private-balcony-island-kitchen/7278792123.html',\n",
       " 'https://newyork.craigslist.org/mnh/apa/d/new-york-sunny-flex-bedroom-sq-ft/7278442934.html',\n",
       " 'https://newyork.craigslist.org/mnh/apa/d/new-york-bank-street/7277862765.html',\n",
       " 'https://newyork.craigslist.org/que/apa/d/astoria-private-balcony-island-kitchen/7276652648.html']"
      ]
     },
     "execution_count": 264,
     "metadata": {},
     "output_type": "execute_result"
    }
   ],
   "source": [
    "list(df_york[df_york['No_of_bathrooms'] == '0Ba'].post_links)"
   ]
  },
  {
   "cell_type": "code",
   "execution_count": 265,
   "id": "distinct-perry",
   "metadata": {},
   "outputs": [],
   "source": [
    "# The link tells 0Ba listings,  they actually have Bathroom but it is missing in the post\n",
    "#Want to replace by the mode which is 1Ba\n",
    "df_york['No_of_bathrooms']= df_york['No_of_bathrooms'].replace('0Ba', '1Ba')\n",
    "df_philly['No_of_bathrooms']= df_philly['No_of_bathrooms'].replace('0Ba', '1Ba')"
   ]
  },
  {
   "cell_type": "code",
   "execution_count": 266,
   "id": "mobile-people",
   "metadata": {},
   "outputs": [],
   "source": [
    "#We find the 1 listing splitBa' in philly.\n",
    "list(df_philly[df_philly['No_of_bathrooms'] == 'splitBa'].post_title_texts)\n",
    "#It seems like it is actually post for buying the house than selling, price is missing so it is better to drop\n",
    "df_philly = df_philly[df_philly['No_of_bathrooms'] != 'splitBa']"
   ]
  },
  {
   "cell_type": "code",
   "execution_count": 267,
   "id": "constitutional-experience",
   "metadata": {},
   "outputs": [
    {
     "data": {
      "text/plain": [
       "array(['2Ba', '1Ba', '1.5Ba', '4.5Ba', '3Ba', '2.5Ba', '4Ba', '3.5Ba',\n",
       "       '5Ba'], dtype=object)"
      ]
     },
     "execution_count": 267,
     "metadata": {},
     "output_type": "execute_result"
    }
   ],
   "source": [
    "df_philly['No_of_bathrooms'].unique()"
   ]
  },
  {
   "cell_type": "code",
   "execution_count": 268,
   "id": "opposed-accounting",
   "metadata": {},
   "outputs": [
    {
     "data": {
      "text/plain": [
       "array(['1.5Ba', '1Ba', '2Ba', '6Ba', '2.5Ba', '3Ba', '4Ba', '4.5Ba',\n",
       "       '8Ba'], dtype=object)"
      ]
     },
     "execution_count": 268,
     "metadata": {},
     "output_type": "execute_result"
    }
   ],
   "source": [
    "df_york['No_of_bathrooms'].unique()"
   ]
  },
  {
   "cell_type": "markdown",
   "id": "military-mechanics",
   "metadata": {},
   "source": [
    "###### Now change the object type into the float type"
   ]
  },
  {
   "cell_type": "code",
   "execution_count": 269,
   "id": "coordinated-august",
   "metadata": {},
   "outputs": [],
   "source": [
    "#replace the string Ba with empty\n",
    "df_york['No_of_bathrooms']= df_york['No_of_bathrooms'].str.replace('Ba', '')\n",
    "df_philly['No_of_bathrooms']= df_philly['No_of_bathrooms'].str.replace('Ba', '')"
   ]
  },
  {
   "cell_type": "code",
   "execution_count": 270,
   "id": "first-there",
   "metadata": {},
   "outputs": [],
   "source": [
    "#Change to float\n",
    "df_york['No_of_bathrooms']= df_york['No_of_bathrooms'].astype(float)\n",
    "df_philly['No_of_bathrooms']= df_philly['No_of_bathrooms'].astype(float)"
   ]
  },
  {
   "cell_type": "code",
   "execution_count": 271,
   "id": "arctic-traffic",
   "metadata": {},
   "outputs": [
    {
     "data": {
      "text/plain": [
       "True     2212\n",
       "False     240\n",
       "dtype: int64"
      ]
     },
     "execution_count": 271,
     "metadata": {},
     "output_type": "execute_result"
    }
   ],
   "source": [
    "#We have two columns giving the informatin of bedroom , lets check first if two columns are same\n",
    "(df_philly['No_of_bedrooms'].str.replace('BR ', '').astype(float) == df_philly['bedroom_counts']).value_counts()\n",
    "#lets check if there is any difference"
   ]
  },
  {
   "cell_type": "code",
   "execution_count": 272,
   "id": "intermediate-horse",
   "metadata": {},
   "outputs": [
    {
     "name": "stdout",
     "output_type": "stream",
     "text": [
      "240\n"
     ]
    }
   ],
   "source": [
    "# False is of the null values\n",
    "print(df_philly['bedroom_counts'].isnull().sum())\n",
    "#Drop one column let's drop No_of_bedrooms\n",
    "df_philly = df_philly.drop(columns = 'No_of_bedrooms')\n",
    "df_york = df_york.drop(columns = 'No_of_bedrooms')"
   ]
  },
  {
   "cell_type": "markdown",
   "id": "linear-raleigh",
   "metadata": {},
   "source": [
    "# Duplicate Rows drop"
   ]
  },
  {
   "cell_type": "markdown",
   "id": "normal-financing",
   "metadata": {},
   "source": [
    "#### Check the duplicate Rows "
   ]
  },
  {
   "cell_type": "code",
   "execution_count": 273,
   "id": "familiar-spoke",
   "metadata": {},
   "outputs": [],
   "source": [
    "#lets drop first two columns that are Unnamed\n",
    "df_philly = df_philly.drop(columns = ['Unnamed: 0.1'])\n",
    "df_york= df_york.drop(columns = ['Unnamed: 0.1'])"
   ]
  },
  {
   "cell_type": "code",
   "execution_count": 274,
   "id": "electric-circus",
   "metadata": {},
   "outputs": [],
   "source": [
    "#drop post all duplicated\n",
    "df_philly.drop_duplicates(inplace = True)\n",
    "df_york.drop_duplicates(inplace = True)"
   ]
  },
  {
   "cell_type": "code",
   "execution_count": 275,
   "id": "amino-horizontal",
   "metadata": {},
   "outputs": [],
   "source": [
    "#check for rows with some features duplicate\n",
    "col_names = ['post_title_texts', 'post_prices', 'post_hoods']\n",
    "duplicates= df_philly[df_philly.duplicated(subset = col_names)]"
   ]
  },
  {
   "cell_type": "code",
   "execution_count": 276,
   "id": "different-costa",
   "metadata": {
    "scrolled": true
   },
   "outputs": [
    {
     "data": {
      "text/html": [
       "<div>\n",
       "<style scoped>\n",
       "    .dataframe tbody tr th:only-of-type {\n",
       "        vertical-align: middle;\n",
       "    }\n",
       "\n",
       "    .dataframe tbody tr th {\n",
       "        vertical-align: top;\n",
       "    }\n",
       "\n",
       "    .dataframe thead th {\n",
       "        text-align: right;\n",
       "    }\n",
       "</style>\n",
       "<table border=\"1\" class=\"dataframe\">\n",
       "  <thead>\n",
       "    <tr style=\"text-align: right;\">\n",
       "      <th></th>\n",
       "      <th>post_title_texts</th>\n",
       "      <th>post_prices</th>\n",
       "      <th>sqfts</th>\n",
       "      <th>post_links</th>\n",
       "      <th>bedroom_counts</th>\n",
       "      <th>post_hoods</th>\n",
       "      <th>post_timing</th>\n",
       "      <th>No_of_bathrooms</th>\n",
       "      <th>latitude</th>\n",
       "      <th>longitude</th>\n",
       "      <th>pet</th>\n",
       "      <th>laundry</th>\n",
       "      <th>parking</th>\n",
       "      <th>floor</th>\n",
       "      <th>Apartment_type</th>\n",
       "      <th>smoking</th>\n",
       "    </tr>\n",
       "  </thead>\n",
       "  <tbody>\n",
       "    <tr>\n",
       "      <th>676</th>\n",
       "      <td>*** 2 BEDROOMS AND 1 BATH APARTMENT AVAILABLE ...</td>\n",
       "      <td>1200</td>\n",
       "      <td>NaN</td>\n",
       "      <td>https://philadelphia.craigslist.org/apa/d/phil...</td>\n",
       "      <td>2.0</td>\n",
       "      <td>(Cobbs Creek)</td>\n",
       "      <td>2021-02-18 09:35</td>\n",
       "      <td>1.0</td>\n",
       "      <td>39.956392</td>\n",
       "      <td>-75.225795</td>\n",
       "      <td>cats</td>\n",
       "      <td>in unit</td>\n",
       "      <td>no</td>\n",
       "      <td>NaN</td>\n",
       "      <td>multi</td>\n",
       "      <td>NaN</td>\n",
       "    </tr>\n",
       "    <tr>\n",
       "      <th>1266</th>\n",
       "      <td>**All Apts Receive One Month Rent Free!! Heat ...</td>\n",
       "      <td>910</td>\n",
       "      <td>NaN</td>\n",
       "      <td>https://philadelphia.craigslist.org/apa/d/phil...</td>\n",
       "      <td>NaN</td>\n",
       "      <td>(Washington Square West)</td>\n",
       "      <td>2021-02-17 15:50</td>\n",
       "      <td>1.0</td>\n",
       "      <td>39.948681</td>\n",
       "      <td>-75.162197</td>\n",
       "      <td>cats</td>\n",
       "      <td>on site</td>\n",
       "      <td>no</td>\n",
       "      <td>NaN</td>\n",
       "      <td>multi</td>\n",
       "      <td>NaN</td>\n",
       "    </tr>\n",
       "    <tr>\n",
       "      <th>1256</th>\n",
       "      <td>**All Apts Receive One Month Rent Free!! Heat ...</td>\n",
       "      <td>910</td>\n",
       "      <td>NaN</td>\n",
       "      <td>https://philadelphia.craigslist.org/apa/d/phil...</td>\n",
       "      <td>NaN</td>\n",
       "      <td>(Washington Square West)</td>\n",
       "      <td>2021-02-17 15:51</td>\n",
       "      <td>1.0</td>\n",
       "      <td>39.948681</td>\n",
       "      <td>-75.162197</td>\n",
       "      <td>cats</td>\n",
       "      <td>on site</td>\n",
       "      <td>no</td>\n",
       "      <td>wood</td>\n",
       "      <td>multi</td>\n",
       "      <td>NaN</td>\n",
       "    </tr>\n",
       "    <tr>\n",
       "      <th>1269</th>\n",
       "      <td>**All One Bedroom Apts Receive One Month Free ...</td>\n",
       "      <td>1265</td>\n",
       "      <td>NaN</td>\n",
       "      <td>https://philadelphia.craigslist.org/apa/d/phil...</td>\n",
       "      <td>1.0</td>\n",
       "      <td>(Washington Square West)</td>\n",
       "      <td>2021-02-17 15:49</td>\n",
       "      <td>1.0</td>\n",
       "      <td>39.948681</td>\n",
       "      <td>-75.162197</td>\n",
       "      <td>cats</td>\n",
       "      <td>on site</td>\n",
       "      <td>no</td>\n",
       "      <td>wood</td>\n",
       "      <td>multi</td>\n",
       "      <td>NaN</td>\n",
       "    </tr>\n",
       "    <tr>\n",
       "      <th>1271</th>\n",
       "      <td>**All Studio Apts Receive One Month Free Rent!!</td>\n",
       "      <td>910</td>\n",
       "      <td>NaN</td>\n",
       "      <td>https://philadelphia.craigslist.org/apa/d/phil...</td>\n",
       "      <td>NaN</td>\n",
       "      <td>(Washington Square West)</td>\n",
       "      <td>2021-02-17 15:49</td>\n",
       "      <td>1.0</td>\n",
       "      <td>39.948681</td>\n",
       "      <td>-75.162197</td>\n",
       "      <td>cats</td>\n",
       "      <td>on site</td>\n",
       "      <td>no</td>\n",
       "      <td>NaN</td>\n",
       "      <td>multi</td>\n",
       "      <td>NaN</td>\n",
       "    </tr>\n",
       "    <tr>\n",
       "      <th>...</th>\n",
       "      <td>...</td>\n",
       "      <td>...</td>\n",
       "      <td>...</td>\n",
       "      <td>...</td>\n",
       "      <td>...</td>\n",
       "      <td>...</td>\n",
       "      <td>...</td>\n",
       "      <td>...</td>\n",
       "      <td>...</td>\n",
       "      <td>...</td>\n",
       "      <td>...</td>\n",
       "      <td>...</td>\n",
       "      <td>...</td>\n",
       "      <td>...</td>\n",
       "      <td>...</td>\n",
       "      <td>...</td>\n",
       "    </tr>\n",
       "    <tr>\n",
       "      <th>2106</th>\n",
       "      <td>[RARELY AVAILABLE] 2 Bedroom Apartment</td>\n",
       "      <td>2160</td>\n",
       "      <td>970.0</td>\n",
       "      <td>https://philadelphia.craigslist.org/apa/d/bala...</td>\n",
       "      <td>2.0</td>\n",
       "      <td>(3902 City Ave)</td>\n",
       "      <td>2021-02-16 23:27</td>\n",
       "      <td>2.0</td>\n",
       "      <td>40.008551</td>\n",
       "      <td>-75.210766</td>\n",
       "      <td>both pets</td>\n",
       "      <td>in unit</td>\n",
       "      <td>off-street</td>\n",
       "      <td>NaN</td>\n",
       "      <td>multi</td>\n",
       "      <td>NaN</td>\n",
       "    </tr>\n",
       "    <tr>\n",
       "      <th>700</th>\n",
       "      <td>⭐⭐⭐UPDATED 2 BD &amp; 1 BA APARTMENT LOCATED IN NO...</td>\n",
       "      <td>800</td>\n",
       "      <td>785.0</td>\n",
       "      <td>https://philadelphia.craigslist.org/apa/d/phil...</td>\n",
       "      <td>2.0</td>\n",
       "      <td>(NORTHEAST/TACONY)</td>\n",
       "      <td>2021-02-18 09:25</td>\n",
       "      <td>1.0</td>\n",
       "      <td>40.025404</td>\n",
       "      <td>-75.042844</td>\n",
       "      <td>cats</td>\n",
       "      <td>in unit</td>\n",
       "      <td>no</td>\n",
       "      <td>NaN</td>\n",
       "      <td>multi</td>\n",
       "      <td>NaN</td>\n",
       "    </tr>\n",
       "    <tr>\n",
       "      <th>2088</th>\n",
       "      <td>⭐⭐⭐UPDATED 2 BD &amp; 1 BA APARTMENT LOCATED IN NO...</td>\n",
       "      <td>800</td>\n",
       "      <td>785.0</td>\n",
       "      <td>https://philadelphia.craigslist.org/apa/d/phil...</td>\n",
       "      <td>2.0</td>\n",
       "      <td>(NORTHEAST/TACONY)</td>\n",
       "      <td>2021-02-17 03:31</td>\n",
       "      <td>1.0</td>\n",
       "      <td>40.025404</td>\n",
       "      <td>-75.042844</td>\n",
       "      <td>cats</td>\n",
       "      <td>in unit</td>\n",
       "      <td>no</td>\n",
       "      <td>NaN</td>\n",
       "      <td>multi</td>\n",
       "      <td>NaN</td>\n",
       "    </tr>\n",
       "    <tr>\n",
       "      <th>2252</th>\n",
       "      <td>📲 Don't Miss Out On Hamilton Court's Virtual L...</td>\n",
       "      <td>3795</td>\n",
       "      <td>1310.0</td>\n",
       "      <td>https://philadelphia.craigslist.org/apa/d/phil...</td>\n",
       "      <td>3.0</td>\n",
       "      <td>(101 S. 39th Street - UPENN)</td>\n",
       "      <td>2021-02-16 17:54</td>\n",
       "      <td>1.0</td>\n",
       "      <td>39.955341</td>\n",
       "      <td>-75.199940</td>\n",
       "      <td>both pets</td>\n",
       "      <td>on site</td>\n",
       "      <td>no</td>\n",
       "      <td>NaN</td>\n",
       "      <td>multi</td>\n",
       "      <td>NaN</td>\n",
       "    </tr>\n",
       "    <tr>\n",
       "      <th>2109</th>\n",
       "      <td>📲 Don't Miss Out On Presidential City's Virtua...</td>\n",
       "      <td>1483</td>\n",
       "      <td>550.0</td>\n",
       "      <td>https://philadelphia.craigslist.org/apa/d/bala...</td>\n",
       "      <td>1.0</td>\n",
       "      <td>(3902 City Ave)</td>\n",
       "      <td>2021-02-16 23:19</td>\n",
       "      <td>1.0</td>\n",
       "      <td>40.008551</td>\n",
       "      <td>-75.210766</td>\n",
       "      <td>both pets</td>\n",
       "      <td>in unit</td>\n",
       "      <td>off-street</td>\n",
       "      <td>NaN</td>\n",
       "      <td>multi</td>\n",
       "      <td>NaN</td>\n",
       "    </tr>\n",
       "  </tbody>\n",
       "</table>\n",
       "<p>541 rows × 16 columns</p>\n",
       "</div>"
      ],
      "text/plain": [
       "                                       post_title_texts  post_prices   sqfts  \\\n",
       "676   *** 2 BEDROOMS AND 1 BATH APARTMENT AVAILABLE ...         1200     NaN   \n",
       "1266  **All Apts Receive One Month Rent Free!! Heat ...          910     NaN   \n",
       "1256  **All Apts Receive One Month Rent Free!! Heat ...          910     NaN   \n",
       "1269  **All One Bedroom Apts Receive One Month Free ...         1265     NaN   \n",
       "1271    **All Studio Apts Receive One Month Free Rent!!          910     NaN   \n",
       "...                                                 ...          ...     ...   \n",
       "2106             [RARELY AVAILABLE] 2 Bedroom Apartment         2160   970.0   \n",
       "700   ⭐⭐⭐UPDATED 2 BD & 1 BA APARTMENT LOCATED IN NO...          800   785.0   \n",
       "2088  ⭐⭐⭐UPDATED 2 BD & 1 BA APARTMENT LOCATED IN NO...          800   785.0   \n",
       "2252  📲 Don't Miss Out On Hamilton Court's Virtual L...         3795  1310.0   \n",
       "2109  📲 Don't Miss Out On Presidential City's Virtua...         1483   550.0   \n",
       "\n",
       "                                             post_links  bedroom_counts  \\\n",
       "676   https://philadelphia.craigslist.org/apa/d/phil...             2.0   \n",
       "1266  https://philadelphia.craigslist.org/apa/d/phil...             NaN   \n",
       "1256  https://philadelphia.craigslist.org/apa/d/phil...             NaN   \n",
       "1269  https://philadelphia.craigslist.org/apa/d/phil...             1.0   \n",
       "1271  https://philadelphia.craigslist.org/apa/d/phil...             NaN   \n",
       "...                                                 ...             ...   \n",
       "2106  https://philadelphia.craigslist.org/apa/d/bala...             2.0   \n",
       "700   https://philadelphia.craigslist.org/apa/d/phil...             2.0   \n",
       "2088  https://philadelphia.craigslist.org/apa/d/phil...             2.0   \n",
       "2252  https://philadelphia.craigslist.org/apa/d/phil...             3.0   \n",
       "2109  https://philadelphia.craigslist.org/apa/d/bala...             1.0   \n",
       "\n",
       "                         post_hoods       post_timing  No_of_bathrooms  \\\n",
       "676                   (Cobbs Creek)  2021-02-18 09:35              1.0   \n",
       "1266       (Washington Square West)  2021-02-17 15:50              1.0   \n",
       "1256       (Washington Square West)  2021-02-17 15:51              1.0   \n",
       "1269       (Washington Square West)  2021-02-17 15:49              1.0   \n",
       "1271       (Washington Square West)  2021-02-17 15:49              1.0   \n",
       "...                             ...               ...              ...   \n",
       "2106                (3902 City Ave)  2021-02-16 23:27              2.0   \n",
       "700              (NORTHEAST/TACONY)  2021-02-18 09:25              1.0   \n",
       "2088             (NORTHEAST/TACONY)  2021-02-17 03:31              1.0   \n",
       "2252   (101 S. 39th Street - UPENN)  2021-02-16 17:54              1.0   \n",
       "2109                (3902 City Ave)  2021-02-16 23:19              1.0   \n",
       "\n",
       "       latitude  longitude        pet  laundry     parking floor  \\\n",
       "676   39.956392 -75.225795       cats  in unit          no   NaN   \n",
       "1266  39.948681 -75.162197       cats  on site          no   NaN   \n",
       "1256  39.948681 -75.162197       cats  on site          no  wood   \n",
       "1269  39.948681 -75.162197       cats  on site          no  wood   \n",
       "1271  39.948681 -75.162197       cats  on site          no   NaN   \n",
       "...         ...        ...        ...      ...         ...   ...   \n",
       "2106  40.008551 -75.210766  both pets  in unit  off-street   NaN   \n",
       "700   40.025404 -75.042844       cats  in unit          no   NaN   \n",
       "2088  40.025404 -75.042844       cats  in unit          no   NaN   \n",
       "2252  39.955341 -75.199940  both pets  on site          no   NaN   \n",
       "2109  40.008551 -75.210766  both pets  in unit  off-street   NaN   \n",
       "\n",
       "     Apartment_type smoking  \n",
       "676           multi     NaN  \n",
       "1266          multi     NaN  \n",
       "1256          multi     NaN  \n",
       "1269          multi     NaN  \n",
       "1271          multi     NaN  \n",
       "...             ...     ...  \n",
       "2106          multi     NaN  \n",
       "700           multi     NaN  \n",
       "2088          multi     NaN  \n",
       "2252          multi     NaN  \n",
       "2109          multi     NaN  \n",
       "\n",
       "[541 rows x 16 columns]"
      ]
     },
     "execution_count": 276,
     "metadata": {},
     "output_type": "execute_result"
    }
   ],
   "source": [
    "duplicates.sort_values(by = 'post_title_texts')"
   ]
  },
  {
   "cell_type": "code",
   "execution_count": 277,
   "id": "empty-rebecca",
   "metadata": {},
   "outputs": [],
   "source": [
    "#drop the duplicates post with price , title and post hoods values duplicated\n",
    "df_philly.drop_duplicates(subset = col_names,inplace = True)\n",
    "df_york.drop_duplicates(subset = col_names,inplace = True)"
   ]
  },
  {
   "cell_type": "markdown",
   "id": "breeding-plaintiff",
   "metadata": {},
   "source": [
    "# The missing values "
   ]
  },
  {
   "cell_type": "code",
   "execution_count": 278,
   "id": "meaningful-dietary",
   "metadata": {},
   "outputs": [
    {
     "data": {
      "text/plain": [
       "post_title_texts     0.000000\n",
       "post_prices          5.555556\n",
       "sqfts               74.484127\n",
       "post_links           0.000000\n",
       "bedroom_counts      10.357143\n",
       "post_hoods           0.000000\n",
       "post_timing          0.000000\n",
       "No_of_bathrooms      0.000000\n",
       "latitude             0.000000\n",
       "longitude            0.000000\n",
       "pet                  0.000000\n",
       "laundry              0.000000\n",
       "parking              0.000000\n",
       "floor               59.841270\n",
       "Apartment_type       0.000000\n",
       "smoking             85.714286\n",
       "dtype: float64"
      ]
     },
     "execution_count": 278,
     "metadata": {},
     "output_type": "execute_result"
    }
   ],
   "source": [
    "#see the percentage of the null values in the column \n",
    "df_york.isnull().sum()/len(df_york)*100"
   ]
  },
  {
   "cell_type": "code",
   "execution_count": 279,
   "id": "legal-still",
   "metadata": {},
   "outputs": [],
   "source": [
    "#Surprising around 74% of sqfts column is missing in Newyork far more than that in Philadelphia 21%\n",
    "#People don't want to talk about the area of the house or apartment in Newyork while listing for rent"
   ]
  },
  {
   "cell_type": "code",
   "execution_count": 280,
   "id": "representative-convenience",
   "metadata": {},
   "outputs": [
    {
     "data": {
      "text/plain": [
       "post_title_texts     0.000000\n",
       "post_prices          0.000000\n",
       "sqfts               21.190476\n",
       "post_links           0.000000\n",
       "bedroom_counts       7.341270\n",
       "post_hoods           0.000000\n",
       "post_timing          0.000000\n",
       "No_of_bathrooms      0.000000\n",
       "latitude             0.158730\n",
       "longitude            0.158730\n",
       "pet                  0.000000\n",
       "laundry              0.000000\n",
       "parking              0.000000\n",
       "floor               59.642857\n",
       "Apartment_type       0.000000\n",
       "smoking             50.634921\n",
       "dtype: float64"
      ]
     },
     "execution_count": 280,
     "metadata": {},
     "output_type": "execute_result"
    }
   ],
   "source": [
    "df_philly.isnull().sum()/len(df_york)*100"
   ]
  },
  {
   "cell_type": "markdown",
   "id": "adjacent-skirt",
   "metadata": {},
   "source": [
    "##### Bedroom missing"
   ]
  },
  {
   "cell_type": "code",
   "execution_count": 281,
   "id": "surprised-leave",
   "metadata": {},
   "outputs": [],
   "source": [
    "#it doesn't work for Nan so replace by 'missing'\n",
    "df_york['bedroom_counts'] = df_york['bedroom_counts'].astype(object)\n",
    "df_york['bedroom_counts'] = df_york['bedroom_counts'].fillna('missing')\n",
    "df_philly['bedroom_counts'] = df_philly['bedroom_counts'].astype(object)\n",
    "df_philly['bedroom_counts'] = df_philly['bedroom_counts'].fillna('missing')"
   ]
  },
  {
   "cell_type": "code",
   "execution_count": 282,
   "id": "intermediate-screw",
   "metadata": {},
   "outputs": [],
   "source": [
    "def replace_missing_brs(post_title):\n",
    "    '''replace the missing bedroom counts from the  matching title texts'''\n",
    "    if 'studio' in post_title.lower():\n",
    "        return 0\n",
    "    elif '1br' in post_title.lower().split():\n",
    "        return 1\n",
    "    elif '1bed' in post_title.lower().split():\n",
    "        return 1\n",
    "    elif 'onebed' in post_title.lower().split():\n",
    "        return 1\n",
    "    elif 'one bedroom' in post_title.lower():\n",
    "        return 1\n",
    "    elif '2br' in post_title.lower().split():\n",
    "        return 2\n",
    "    elif '2 bed' in post_title.lower():\n",
    "        return 2\n",
    "    elif '3br' in post_title.lower().split():\n",
    "        return 3\n",
    "    elif '3 bedrooms' in post_title.lower():\n",
    "        return 3\n",
    "    elif '4br' in post_title.lower().split():\n",
    "        return 4\n",
    "    elif '4bd' in post_title.lower().split():\n",
    "        return 4\n",
    "    elif '4bed' in post_title.lower().split():\n",
    "        return 4\n",
    "    else:\n",
    "        pass"
   ]
  },
  {
   "cell_type": "code",
   "execution_count": 283,
   "id": "fitted-korea",
   "metadata": {},
   "outputs": [],
   "source": [
    "#connect the bedroom number from the text_title\n",
    "df_york['bedroom_counts'] = df_york.apply(lambda x: replace_missing_brs(x['post_title_texts']) if x['bedroom_counts'] == 'missing' else x['bedroom_counts'], axis=1)\n",
    "df_philly['bedroom_counts'] = df_philly.apply(lambda x: replace_missing_brs(x['post_title_texts']) if x['bedroom_counts'] == 'missing' else x['bedroom_counts'], axis=1)"
   ]
  },
  {
   "cell_type": "code",
   "execution_count": 284,
   "id": "thrown-hunter",
   "metadata": {},
   "outputs": [
    {
     "name": "stdout",
     "output_type": "stream",
     "text": [
      "1.0    849\n",
      "2.0    763\n",
      "3.0    525\n",
      "0.0    204\n",
      "4.0    107\n",
      "NaN     53\n",
      "5.0     15\n",
      "6.0      3\n",
      "7.0      1\n",
      "Name: bedroom_counts, dtype: int64\n",
      "1.0    805\n",
      "2.0    685\n",
      "3.0    187\n",
      "NaN     93\n",
      "0.0     91\n",
      "4.0     31\n",
      "5.0     19\n",
      "Name: bedroom_counts, dtype: int64\n"
     ]
    }
   ],
   "source": [
    "#the NaN is dropped to 53 from 261 this has a \n",
    "print(df_york['bedroom_counts'].value_counts(dropna = False))\n",
    "print(df_philly['bedroom_counts'].value_counts(dropna = False))"
   ]
  },
  {
   "cell_type": "markdown",
   "id": "chief-approval",
   "metadata": {},
   "source": [
    "### missing sqfts for philly"
   ]
  },
  {
   "cell_type": "code",
   "execution_count": 285,
   "id": "related-gnome",
   "metadata": {},
   "outputs": [],
   "source": [
    "#better to drop the column sqfts for Newyork\n",
    "#df_york.drop(['sqfts', 'floor', 'smoking'], axis=1)\n",
    "#df_philly.drop(['floor', 'smoking'], axis=1)"
   ]
  },
  {
   "cell_type": "code",
   "execution_count": 286,
   "id": "female-portrait",
   "metadata": {},
   "outputs": [],
   "source": [
    "missing_area = df_philly[df_philly['sqfts'].isna()]\n",
    "complete_area = df_philly[~df_philly['sqfts'].isna()]"
   ]
  },
  {
   "cell_type": "code",
   "execution_count": 287,
   "id": "acceptable-retirement",
   "metadata": {},
   "outputs": [],
   "source": [
    "df_philly_sort = df_philly.sort_values(by = 'bedroom_counts')"
   ]
  },
  {
   "cell_type": "code",
   "execution_count": 288,
   "id": "utility-rings",
   "metadata": {},
   "outputs": [
    {
     "data": {
      "text/plain": [
       "<AxesSubplot:>"
      ]
     },
     "execution_count": 288,
     "metadata": {},
     "output_type": "execute_result"
    },
    {
     "data": {
      "image/png": "[encoded data removed]",
      "text/plain": [
       "<Figure size 1800x720 with 2 Axes>"
      ]
     },
     "metadata": {
      "needs_background": "light"
     },
     "output_type": "display_data"
    }
   ],
   "source": [
    "#the missing rows are random\n",
    "import missingno as msno\n",
    "msno.matrix(df_philly_sort)"
   ]
  },
  {
   "cell_type": "code",
   "execution_count": 289,
   "id": "subject-inside",
   "metadata": {},
   "outputs": [
    {
     "data": {
      "text/plain": [
       "bedroom_counts  Apartment_type\n",
       "0.0             multi              444.976190\n",
       "1.0             double            1100.000000\n",
       "                multi              859.334507\n",
       "                single            2696.000000\n",
       "2.0             double            1250.000000\n",
       "                multi             1077.385776\n",
       "                single            1396.934783\n",
       "3.0             multi             1350.610390\n",
       "                single            1543.433962\n",
       "4.0             double            3305.000000\n",
       "                multi             1839.833333\n",
       "                single            1931.400000\n",
       "5.0             multi             1412.900000\n",
       "                single            4500.000000\n",
       "Name: sqfts, dtype: float64"
      ]
     },
     "execution_count": 289,
     "metadata": {},
     "output_type": "execute_result"
    }
   ],
   "source": [
    "df_philly.groupby(['bedroom_counts','Apartment_type'])['sqfts'].mean()"
   ]
  },
  {
   "cell_type": "code",
   "execution_count": 290,
   "id": "accepted-meditation",
   "metadata": {},
   "outputs": [
    {
     "data": {
      "text/plain": [
       "1.0    227\n",
       "2.0    173\n",
       "3.0     57\n",
       "0.0     49\n",
       "5.0      8\n",
       "4.0      8\n",
       "Name: bedroom_counts, dtype: int64"
      ]
     },
     "execution_count": 290,
     "metadata": {},
     "output_type": "execute_result"
    }
   ],
   "source": [
    "missing_area['bedroom_counts'].value_counts()"
   ]
  },
  {
   "cell_type": "code",
   "execution_count": 291,
   "id": "collective-token",
   "metadata": {},
   "outputs": [
    {
     "name": "stdout",
     "output_type": "stream",
     "text": [
      "bedroom_counts\n",
      "0.0    1171.472527\n",
      "1.0    1428.099379\n",
      "2.0    1809.656934\n",
      "3.0    2063.657754\n",
      "4.0    2343.129032\n",
      "5.0    3317.368421\n",
      "Name: post_prices, dtype: float64\n"
     ]
    },
    {
     "data": {
      "text/plain": [
       "bedroom_counts\n",
       "0.0     444.976190\n",
       "1.0     888.349481\n",
       "2.0    1106.769531\n",
       "3.0    1429.223077\n",
       "4.0    1943.347826\n",
       "5.0    1693.545455\n",
       "Name: sqfts, dtype: float64"
      ]
     },
     "execution_count": 291,
     "metadata": {},
     "output_type": "execute_result"
    }
   ],
   "source": [
    "#we can clearly see as the bedroom increases the average price is increasing so is the square foot\n",
    "print(df_philly.groupby('bedroom_counts')['post_prices'].mean())\n",
    "df_philly.groupby(['bedroom_counts'])['sqfts'].mean()"
   ]
  },
  {
   "cell_type": "code",
   "execution_count": 292,
   "id": "ambient-semiconductor",
   "metadata": {},
   "outputs": [],
   "source": [
    "#fill with average of the respective bedrooms\n",
    "df_philly['sqfts'] = df_philly['sqfts'].fillna(df_philly.groupby(['bedroom_counts', 'Apartment_type'])['sqfts'].transform('mean'))"
   ]
  },
  {
   "cell_type": "code",
   "execution_count": 293,
   "id": "offshore-population",
   "metadata": {},
   "outputs": [],
   "source": [
    "df_york['sqfts'] = df_york['sqfts'].fillna(df_york.groupby(['bedroom_counts', 'Apartment_type'])['sqfts'].transform('mean'))"
   ]
  },
  {
   "cell_type": "code",
   "execution_count": 294,
   "id": "blocked-chinese",
   "metadata": {},
   "outputs": [],
   "source": [
    "df_york_sort = df_york.sort_values(by = 'bedroom_counts')"
   ]
  },
  {
   "cell_type": "code",
   "execution_count": 295,
   "id": "polyphonic-apparatus",
   "metadata": {},
   "outputs": [],
   "source": [
    "missing_area_york = df_york[df_york['sqfts'].isna()]\n",
    "complete_area_york = df_york[~df_york['sqfts'].isna()]"
   ]
  },
  {
   "cell_type": "code",
   "execution_count": 296,
   "id": "heated-history",
   "metadata": {},
   "outputs": [
    {
     "data": {
      "text/html": [
       "<div>\n",
       "<style scoped>\n",
       "    .dataframe tbody tr th:only-of-type {\n",
       "        vertical-align: middle;\n",
       "    }\n",
       "\n",
       "    .dataframe tbody tr th {\n",
       "        vertical-align: top;\n",
       "    }\n",
       "\n",
       "    .dataframe thead th {\n",
       "        text-align: right;\n",
       "    }\n",
       "</style>\n",
       "<table border=\"1\" class=\"dataframe\">\n",
       "  <thead>\n",
       "    <tr style=\"text-align: right;\">\n",
       "      <th></th>\n",
       "      <th>post_title_texts</th>\n",
       "      <th>post_prices</th>\n",
       "      <th>sqfts</th>\n",
       "      <th>post_links</th>\n",
       "      <th>bedroom_counts</th>\n",
       "      <th>post_hoods</th>\n",
       "      <th>post_timing</th>\n",
       "      <th>No_of_bathrooms</th>\n",
       "      <th>latitude</th>\n",
       "      <th>longitude</th>\n",
       "      <th>pet</th>\n",
       "      <th>laundry</th>\n",
       "      <th>parking</th>\n",
       "      <th>floor</th>\n",
       "      <th>Apartment_type</th>\n",
       "      <th>smoking</th>\n",
       "    </tr>\n",
       "  </thead>\n",
       "  <tbody>\n",
       "    <tr>\n",
       "      <th>4</th>\n",
       "      <td>LUX BUILDING: STU - ROOFTOP - SCREENING RM - S...</td>\n",
       "      <td>1903.0</td>\n",
       "      <td>NaN</td>\n",
       "      <td>https://newyork.craigslist.org/mnh/apa/d/new-y...</td>\n",
       "      <td>NaN</td>\n",
       "      <td>(Financial District)</td>\n",
       "      <td>2021-02-18 16:42</td>\n",
       "      <td>1.0</td>\n",
       "      <td>40.705600</td>\n",
       "      <td>-74.008300</td>\n",
       "      <td>both pets</td>\n",
       "      <td>on site</td>\n",
       "      <td>no</td>\n",
       "      <td>NaN</td>\n",
       "      <td>multi</td>\n",
       "      <td>NaN</td>\n",
       "    </tr>\n",
       "    <tr>\n",
       "      <th>7</th>\n",
       "      <td>GOOD AMENITY RICH: LUX BUILDING - ROOFTOP - SC...</td>\n",
       "      <td>1938.0</td>\n",
       "      <td>NaN</td>\n",
       "      <td>https://newyork.craigslist.org/mnh/apa/d/new-y...</td>\n",
       "      <td>NaN</td>\n",
       "      <td>(Financial District)</td>\n",
       "      <td>2021-02-18 16:34</td>\n",
       "      <td>1.0</td>\n",
       "      <td>40.705600</td>\n",
       "      <td>-74.008300</td>\n",
       "      <td>no pet</td>\n",
       "      <td>on site</td>\n",
       "      <td>no</td>\n",
       "      <td>NaN</td>\n",
       "      <td>multi</td>\n",
       "      <td>NaN</td>\n",
       "    </tr>\n",
       "    <tr>\n",
       "      <th>92</th>\n",
       "      <td>Humongous LOFT in GLOVEMAN FACTORY,  LAUNDRY, ...</td>\n",
       "      <td>3550.0</td>\n",
       "      <td>NaN</td>\n",
       "      <td>https://newyork.craigslist.org/brk/apa/d/brook...</td>\n",
       "      <td>NaN</td>\n",
       "      <td>(Williamsburg/ L Graham)</td>\n",
       "      <td>2021-02-18 13:52</td>\n",
       "      <td>1.0</td>\n",
       "      <td>40.712378</td>\n",
       "      <td>-73.944032</td>\n",
       "      <td>both pets</td>\n",
       "      <td>on site</td>\n",
       "      <td>no</td>\n",
       "      <td>wood</td>\n",
       "      <td>multi</td>\n",
       "      <td>NaN</td>\n",
       "    </tr>\n",
       "    <tr>\n",
       "      <th>176</th>\n",
       "      <td>Apartment for rent</td>\n",
       "      <td>1400.0</td>\n",
       "      <td>NaN</td>\n",
       "      <td>https://newyork.craigslist.org/lgi/apa/d/frank...</td>\n",
       "      <td>NaN</td>\n",
       "      <td>(Franklin Square)</td>\n",
       "      <td>2021-02-18 11:57</td>\n",
       "      <td>1.0</td>\n",
       "      <td>40.701000</td>\n",
       "      <td>-73.675800</td>\n",
       "      <td>no pet</td>\n",
       "      <td>on site</td>\n",
       "      <td>no</td>\n",
       "      <td>NaN</td>\n",
       "      <td>multi</td>\n",
       "      <td>no smoking</td>\n",
       "    </tr>\n",
       "    <tr>\n",
       "      <th>317</th>\n",
       "      <td>7 Bedroom 3 Bathroom Bushwick Duplex Loft 2000...</td>\n",
       "      <td>4500.0</td>\n",
       "      <td>NaN</td>\n",
       "      <td>https://newyork.craigslist.org/brk/apa/d/brook...</td>\n",
       "      <td>7.0</td>\n",
       "      <td>(Bushwick)</td>\n",
       "      <td>2021-02-18 00:20</td>\n",
       "      <td>3.0</td>\n",
       "      <td>40.688050</td>\n",
       "      <td>-73.918800</td>\n",
       "      <td>both pets</td>\n",
       "      <td>on site</td>\n",
       "      <td>no</td>\n",
       "      <td>wood</td>\n",
       "      <td>multi</td>\n",
       "      <td>NaN</td>\n",
       "    </tr>\n",
       "    <tr>\n",
       "      <th>451</th>\n",
       "      <td>1 BEDROOM DUPLEX APARTMENT IN PRIME CLINTON HI...</td>\n",
       "      <td>2150.0</td>\n",
       "      <td>NaN</td>\n",
       "      <td>https://newyork.craigslist.org/brk/apa/d/brook...</td>\n",
       "      <td>1.0</td>\n",
       "      <td>(CLINTON HILL)</td>\n",
       "      <td>2021-02-17 16:46</td>\n",
       "      <td>1.5</td>\n",
       "      <td>40.701200</td>\n",
       "      <td>-73.943600</td>\n",
       "      <td>both pets</td>\n",
       "      <td>in unit</td>\n",
       "      <td>no</td>\n",
       "      <td>NaN</td>\n",
       "      <td>double</td>\n",
       "      <td>NaN</td>\n",
       "    </tr>\n",
       "    <tr>\n",
       "      <th>491</th>\n",
       "      <td>huuuuuuuge</td>\n",
       "      <td>2275.0</td>\n",
       "      <td>NaN</td>\n",
       "      <td>https://newyork.craigslist.org/mnh/apa/d/new-y...</td>\n",
       "      <td>NaN</td>\n",
       "      <td>(West Village)</td>\n",
       "      <td>2021-02-17 15:32</td>\n",
       "      <td>1.0</td>\n",
       "      <td>40.737738</td>\n",
       "      <td>-73.992888</td>\n",
       "      <td>both pets</td>\n",
       "      <td>no laundry</td>\n",
       "      <td>no</td>\n",
       "      <td>NaN</td>\n",
       "      <td>multi</td>\n",
       "      <td>NaN</td>\n",
       "    </tr>\n",
       "    <tr>\n",
       "      <th>494</th>\n",
       "      <td>Huuuuuuuuge and sunny</td>\n",
       "      <td>1925.0</td>\n",
       "      <td>NaN</td>\n",
       "      <td>https://newyork.craigslist.org/mnh/apa/d/new-y...</td>\n",
       "      <td>NaN</td>\n",
       "      <td>(Chelsea)</td>\n",
       "      <td>2021-02-17 15:30</td>\n",
       "      <td>1.0</td>\n",
       "      <td>40.744290</td>\n",
       "      <td>-73.998985</td>\n",
       "      <td>both pets</td>\n",
       "      <td>no laundry</td>\n",
       "      <td>no</td>\n",
       "      <td>NaN</td>\n",
       "      <td>multi</td>\n",
       "      <td>NaN</td>\n",
       "    </tr>\n",
       "    <tr>\n",
       "      <th>677</th>\n",
       "      <td>Gorgeous apartment in Turtle Bay !</td>\n",
       "      <td>1788.0</td>\n",
       "      <td>NaN</td>\n",
       "      <td>https://newyork.craigslist.org/mnh/apa/d/new-y...</td>\n",
       "      <td>NaN</td>\n",
       "      <td>(Midtown East)</td>\n",
       "      <td>2021-02-17 12:11</td>\n",
       "      <td>1.0</td>\n",
       "      <td>40.751700</td>\n",
       "      <td>-73.970700</td>\n",
       "      <td>no pet</td>\n",
       "      <td>on site</td>\n",
       "      <td>no</td>\n",
       "      <td>wood</td>\n",
       "      <td>multi</td>\n",
       "      <td>NaN</td>\n",
       "    </tr>\n",
       "    <tr>\n",
       "      <th>729</th>\n",
       "      <td>Rent Stabilized Apartment- Best location!</td>\n",
       "      <td>2300.0</td>\n",
       "      <td>NaN</td>\n",
       "      <td>https://newyork.craigslist.org/mnh/apa/d/new-y...</td>\n",
       "      <td>NaN</td>\n",
       "      <td>(Greenwich Village)</td>\n",
       "      <td>2021-02-17 11:21</td>\n",
       "      <td>1.0</td>\n",
       "      <td>40.725500</td>\n",
       "      <td>-73.998300</td>\n",
       "      <td>cats</td>\n",
       "      <td>no laundry</td>\n",
       "      <td>no</td>\n",
       "      <td>wood</td>\n",
       "      <td>multi</td>\n",
       "      <td>NaN</td>\n",
       "    </tr>\n",
       "    <tr>\n",
       "      <th>802</th>\n",
       "      <td>apt for rent</td>\n",
       "      <td>1275.0</td>\n",
       "      <td>NaN</td>\n",
       "      <td>https://newyork.craigslist.org/brx/apa/d/bronx...</td>\n",
       "      <td>NaN</td>\n",
       "      <td>(manhattan college vicinity kingsbridge)</td>\n",
       "      <td>2021-02-17 10:14</td>\n",
       "      <td>1.0</td>\n",
       "      <td>40.879800</td>\n",
       "      <td>-73.906700</td>\n",
       "      <td>no pet</td>\n",
       "      <td>no laundry</td>\n",
       "      <td>no</td>\n",
       "      <td>NaN</td>\n",
       "      <td>multi</td>\n",
       "      <td>no smoking</td>\n",
       "    </tr>\n",
       "    <tr>\n",
       "      <th>811</th>\n",
       "      <td>NEW! Spacious &amp; Sunny STU  Separate Kitchen | ...</td>\n",
       "      <td>1690.0</td>\n",
       "      <td>NaN</td>\n",
       "      <td>https://newyork.craigslist.org/mnh/apa/d/new-y...</td>\n",
       "      <td>NaN</td>\n",
       "      <td>(Midtown West)</td>\n",
       "      <td>2021-02-17 09:58</td>\n",
       "      <td>1.0</td>\n",
       "      <td>40.761236</td>\n",
       "      <td>-73.989487</td>\n",
       "      <td>both pets</td>\n",
       "      <td>on site</td>\n",
       "      <td>no</td>\n",
       "      <td>wood</td>\n",
       "      <td>multi</td>\n",
       "      <td>NaN</td>\n",
       "    </tr>\n",
       "    <tr>\n",
       "      <th>824</th>\n",
       "      <td>Rare Bright Airy Nolita Loft Oasis___Amazing L...</td>\n",
       "      <td>2495.0</td>\n",
       "      <td>NaN</td>\n",
       "      <td>https://newyork.craigslist.org/mnh/apa/d/new-y...</td>\n",
       "      <td>NaN</td>\n",
       "      <td>(Nolita / Bowery)</td>\n",
       "      <td>2021-02-17 09:47</td>\n",
       "      <td>1.0</td>\n",
       "      <td>40.721619</td>\n",
       "      <td>-73.995464</td>\n",
       "      <td>no pet</td>\n",
       "      <td>no laundry</td>\n",
       "      <td>no</td>\n",
       "      <td>NaN</td>\n",
       "      <td>multi</td>\n",
       "      <td>NaN</td>\n",
       "    </tr>\n",
       "    <tr>\n",
       "      <th>904</th>\n",
       "      <td>Newly renovated apartment with open kitchen an...</td>\n",
       "      <td>1850.0</td>\n",
       "      <td>NaN</td>\n",
       "      <td>https://newyork.craigslist.org/mnh/apa/d/new-y...</td>\n",
       "      <td>NaN</td>\n",
       "      <td>(Financial District)</td>\n",
       "      <td>2021-02-16 21:42</td>\n",
       "      <td>1.0</td>\n",
       "      <td>40.708500</td>\n",
       "      <td>-74.013500</td>\n",
       "      <td>both pets</td>\n",
       "      <td>on site</td>\n",
       "      <td>no</td>\n",
       "      <td>wood</td>\n",
       "      <td>multi</td>\n",
       "      <td>NaN</td>\n",
       "    </tr>\n",
       "    <tr>\n",
       "      <th>963</th>\n",
       "      <td>Peaceful, Modern West Village Apartment for Rent</td>\n",
       "      <td>3500.0</td>\n",
       "      <td>NaN</td>\n",
       "      <td>https://newyork.craigslist.org/mnh/apa/d/new-y...</td>\n",
       "      <td>NaN</td>\n",
       "      <td>(West Village)</td>\n",
       "      <td>2021-02-16 18:51</td>\n",
       "      <td>1.0</td>\n",
       "      <td>40.733900</td>\n",
       "      <td>-74.005400</td>\n",
       "      <td>cats</td>\n",
       "      <td>on site</td>\n",
       "      <td>no</td>\n",
       "      <td>wood</td>\n",
       "      <td>multi</td>\n",
       "      <td>NaN</td>\n",
       "    </tr>\n",
       "    <tr>\n",
       "      <th>1013</th>\n",
       "      <td>NO FEE *2 MO FREE!* Balcony + ROOF-DECK, Elv, ...</td>\n",
       "      <td>2095.0</td>\n",
       "      <td>NaN</td>\n",
       "      <td>https://newyork.craigslist.org/mnh/apa/d/new-y...</td>\n",
       "      <td>NaN</td>\n",
       "      <td>(Gramercy)</td>\n",
       "      <td>2021-02-16 17:24</td>\n",
       "      <td>1.0</td>\n",
       "      <td>40.737500</td>\n",
       "      <td>-73.981300</td>\n",
       "      <td>no pet</td>\n",
       "      <td>on site</td>\n",
       "      <td>no</td>\n",
       "      <td>wood</td>\n",
       "      <td>multi</td>\n",
       "      <td>NaN</td>\n",
       "    </tr>\n",
       "    <tr>\n",
       "      <th>1029</th>\n",
       "      <td>Super huge 6br/2.5bath triplex+private backyar...</td>\n",
       "      <td>4000.0</td>\n",
       "      <td>NaN</td>\n",
       "      <td>https://newyork.craigslist.org/brk/apa/d/brook...</td>\n",
       "      <td>6.0</td>\n",
       "      <td>(Bed Stuy @ Myrtle Ave JMZ+ Myrtle/WilloughbyG)</td>\n",
       "      <td>2021-02-16 16:43</td>\n",
       "      <td>2.5</td>\n",
       "      <td>40.692317</td>\n",
       "      <td>-73.939898</td>\n",
       "      <td>both pets</td>\n",
       "      <td>on site</td>\n",
       "      <td>no</td>\n",
       "      <td>wood</td>\n",
       "      <td>double</td>\n",
       "      <td>NaN</td>\n",
       "    </tr>\n",
       "    <tr>\n",
       "      <th>1096</th>\n",
       "      <td>BRAND NEW: LUX AMENITY - POOL - W/D IN UNIT - ...</td>\n",
       "      <td>1887.0</td>\n",
       "      <td>NaN</td>\n",
       "      <td>https://newyork.craigslist.org/mnh/apa/d/new-y...</td>\n",
       "      <td>NaN</td>\n",
       "      <td>(Financial District)</td>\n",
       "      <td>2021-02-16 14:30</td>\n",
       "      <td>1.0</td>\n",
       "      <td>40.710100</td>\n",
       "      <td>-74.001300</td>\n",
       "      <td>no pet</td>\n",
       "      <td>in unit</td>\n",
       "      <td>no</td>\n",
       "      <td>NaN</td>\n",
       "      <td>multi</td>\n",
       "      <td>NaN</td>\n",
       "    </tr>\n",
       "    <tr>\n",
       "      <th>1181</th>\n",
       "      <td>93 HECKER ST. RENTAL</td>\n",
       "      <td>975.0</td>\n",
       "      <td>NaN</td>\n",
       "      <td>https://newyork.craigslist.org/stn/apa/d/state...</td>\n",
       "      <td>NaN</td>\n",
       "      <td>(TOTTENVILLE)</td>\n",
       "      <td>2021-02-16 12:32</td>\n",
       "      <td>1.0</td>\n",
       "      <td>40.508500</td>\n",
       "      <td>-74.244500</td>\n",
       "      <td>no pet</td>\n",
       "      <td>no laundry</td>\n",
       "      <td>no</td>\n",
       "      <td>NaN</td>\n",
       "      <td>multi</td>\n",
       "      <td>NaN</td>\n",
       "    </tr>\n",
       "    <tr>\n",
       "      <th>1311</th>\n",
       "      <td>Sun Lit Open Nolita Floor Thru Loft Oasis___Am...</td>\n",
       "      <td>3995.0</td>\n",
       "      <td>NaN</td>\n",
       "      <td>https://newyork.craigslist.org/mnh/apa/d/new-y...</td>\n",
       "      <td>NaN</td>\n",
       "      <td>(Nolita / Bowery)</td>\n",
       "      <td>2021-02-16 10:49</td>\n",
       "      <td>1.0</td>\n",
       "      <td>40.722301</td>\n",
       "      <td>-73.997123</td>\n",
       "      <td>no pet</td>\n",
       "      <td>no laundry</td>\n",
       "      <td>no</td>\n",
       "      <td>NaN</td>\n",
       "      <td>multi</td>\n",
       "      <td>NaN</td>\n",
       "    </tr>\n",
       "    <tr>\n",
       "      <th>1361</th>\n",
       "      <td>$950 Dongan Hills SIUH</td>\n",
       "      <td>950.0</td>\n",
       "      <td>NaN</td>\n",
       "      <td>https://newyork.craigslist.org/stn/apa/d/state...</td>\n",
       "      <td>NaN</td>\n",
       "      <td>(SIUH Dongan Hills/ Ocean Breeze)</td>\n",
       "      <td>2021-02-16 09:32</td>\n",
       "      <td>1.0</td>\n",
       "      <td>40.597300</td>\n",
       "      <td>-74.076800</td>\n",
       "      <td>no pet</td>\n",
       "      <td>no laundry</td>\n",
       "      <td>no</td>\n",
       "      <td>NaN</td>\n",
       "      <td>multi</td>\n",
       "      <td>NaN</td>\n",
       "    </tr>\n",
       "    <tr>\n",
       "      <th>1413</th>\n",
       "      <td>THE FORT GREEN SECRET</td>\n",
       "      <td>1775.0</td>\n",
       "      <td>NaN</td>\n",
       "      <td>https://newyork.craigslist.org/brk/apa/d/brook...</td>\n",
       "      <td>NaN</td>\n",
       "      <td>(FORT GREEN)</td>\n",
       "      <td>2021-02-16 06:46</td>\n",
       "      <td>1.0</td>\n",
       "      <td>40.686691</td>\n",
       "      <td>-73.973544</td>\n",
       "      <td>both pets</td>\n",
       "      <td>no laundry</td>\n",
       "      <td>no</td>\n",
       "      <td>wood</td>\n",
       "      <td>multi</td>\n",
       "      <td>NaN</td>\n",
       "    </tr>\n",
       "    <tr>\n",
       "      <th>1529</th>\n",
       "      <td>Prospect heights / Crown heights - Prospect Pa...</td>\n",
       "      <td>1550.0</td>\n",
       "      <td>NaN</td>\n",
       "      <td>https://newyork.craigslist.org/brk/apa/d/brook...</td>\n",
       "      <td>NaN</td>\n",
       "      <td>(Prospect Park / Crown Heights / Prospect hei...</td>\n",
       "      <td>2021-02-15 18:01</td>\n",
       "      <td>1.0</td>\n",
       "      <td>40.671715</td>\n",
       "      <td>-73.958530</td>\n",
       "      <td>both pets</td>\n",
       "      <td>on site</td>\n",
       "      <td>no</td>\n",
       "      <td>wood</td>\n",
       "      <td>multi</td>\n",
       "      <td>NaN</td>\n",
       "    </tr>\n",
       "    <tr>\n",
       "      <th>1824</th>\n",
       "      <td>3 MONTHS FREE~~~CITY  VIEWS~~~WASHER/DRYER IN ...</td>\n",
       "      <td>1970.0</td>\n",
       "      <td>NaN</td>\n",
       "      <td>https://newyork.craigslist.org/mnh/apa/d/new-y...</td>\n",
       "      <td>NaN</td>\n",
       "      <td>(TriBeCa)</td>\n",
       "      <td>2021-02-15 11:29</td>\n",
       "      <td>1.0</td>\n",
       "      <td>40.718500</td>\n",
       "      <td>-74.002500</td>\n",
       "      <td>no pet</td>\n",
       "      <td>in unit</td>\n",
       "      <td>no</td>\n",
       "      <td>NaN</td>\n",
       "      <td>multi</td>\n",
       "      <td>NaN</td>\n",
       "    </tr>\n",
       "    <tr>\n",
       "      <th>1888</th>\n",
       "      <td>((NO FEE)) AMAZING LOCATION 3 BIG CLOSET'S SUB...</td>\n",
       "      <td>1485.0</td>\n",
       "      <td>NaN</td>\n",
       "      <td>https://newyork.craigslist.org/que/apa/d/astor...</td>\n",
       "      <td>NaN</td>\n",
       "      <td>(ASTORIA)</td>\n",
       "      <td>2021-02-15 10:36</td>\n",
       "      <td>1.0</td>\n",
       "      <td>40.770600</td>\n",
       "      <td>-73.926500</td>\n",
       "      <td>cats</td>\n",
       "      <td>no laundry</td>\n",
       "      <td>no</td>\n",
       "      <td>NaN</td>\n",
       "      <td>multi</td>\n",
       "      <td>NaN</td>\n",
       "    </tr>\n",
       "    <tr>\n",
       "      <th>2016</th>\n",
       "      <td>1 BED DUPLEX APARTMENT WITH A PRIVATE BACKYARD...</td>\n",
       "      <td>2150.0</td>\n",
       "      <td>NaN</td>\n",
       "      <td>https://newyork.craigslist.org/brk/apa/d/brook...</td>\n",
       "      <td>1.0</td>\n",
       "      <td>(CLINTON HILL)</td>\n",
       "      <td>2021-02-14 20:11</td>\n",
       "      <td>1.5</td>\n",
       "      <td>40.692400</td>\n",
       "      <td>-73.966600</td>\n",
       "      <td>both pets</td>\n",
       "      <td>in unit</td>\n",
       "      <td>no</td>\n",
       "      <td>NaN</td>\n",
       "      <td>double</td>\n",
       "      <td>NaN</td>\n",
       "    </tr>\n",
       "    <tr>\n",
       "      <th>2175</th>\n",
       "      <td>🔥🔥🔥APARTMENT FOR RENT: CALL YOUR LOCAL EXPERT:...</td>\n",
       "      <td>1200.0</td>\n",
       "      <td>NaN</td>\n",
       "      <td>https://newyork.craigslist.org/que/apa/d/queen...</td>\n",
       "      <td>NaN</td>\n",
       "      <td>(Jamaica, Astoria, Brooklyn, Bellerose)</td>\n",
       "      <td>2021-02-14 12:12</td>\n",
       "      <td>1.0</td>\n",
       "      <td>40.720800</td>\n",
       "      <td>-73.743300</td>\n",
       "      <td>no pet</td>\n",
       "      <td>no laundry</td>\n",
       "      <td>no</td>\n",
       "      <td>NaN</td>\n",
       "      <td>multi</td>\n",
       "      <td>NaN</td>\n",
       "    </tr>\n",
       "    <tr>\n",
       "      <th>2281</th>\n",
       "      <td>4 MONTHS FREE--NET RENT AMORTIZED--NEW TO MARK...</td>\n",
       "      <td>1689.0</td>\n",
       "      <td>NaN</td>\n",
       "      <td>https://newyork.craigslist.org/mnh/apa/d/new-y...</td>\n",
       "      <td>NaN</td>\n",
       "      <td>(Financial District)</td>\n",
       "      <td>2021-02-14 08:00</td>\n",
       "      <td>1.0</td>\n",
       "      <td>40.707387</td>\n",
       "      <td>-74.005482</td>\n",
       "      <td>both pets</td>\n",
       "      <td>no laundry</td>\n",
       "      <td>no</td>\n",
       "      <td>NaN</td>\n",
       "      <td>multi</td>\n",
       "      <td>NaN</td>\n",
       "    </tr>\n",
       "    <tr>\n",
       "      <th>2282</th>\n",
       "      <td>--NET RENT AMORTIZED--TOP FLOOR--LUXURY LIVING--</td>\n",
       "      <td>1729.0</td>\n",
       "      <td>NaN</td>\n",
       "      <td>https://newyork.craigslist.org/mnh/apa/d/new-y...</td>\n",
       "      <td>NaN</td>\n",
       "      <td>(Financial District)</td>\n",
       "      <td>2021-02-14 07:59</td>\n",
       "      <td>1.0</td>\n",
       "      <td>40.714300</td>\n",
       "      <td>-74.006000</td>\n",
       "      <td>both pets</td>\n",
       "      <td>on site</td>\n",
       "      <td>no</td>\n",
       "      <td>NaN</td>\n",
       "      <td>multi</td>\n",
       "      <td>NaN</td>\n",
       "    </tr>\n",
       "    <tr>\n",
       "      <th>2301</th>\n",
       "      <td>Renovated Extra Wide E. Williamsburg 1200 sq f...</td>\n",
       "      <td>3000.0</td>\n",
       "      <td>NaN</td>\n",
       "      <td>https://newyork.craigslist.org/brk/apa/d/brook...</td>\n",
       "      <td>NaN</td>\n",
       "      <td>(Williamsburg)</td>\n",
       "      <td>2021-02-14 01:33</td>\n",
       "      <td>1.0</td>\n",
       "      <td>40.705459</td>\n",
       "      <td>-73.937860</td>\n",
       "      <td>cats</td>\n",
       "      <td>on site</td>\n",
       "      <td>no</td>\n",
       "      <td>wood</td>\n",
       "      <td>multi</td>\n",
       "      <td>NaN</td>\n",
       "    </tr>\n",
       "    <tr>\n",
       "      <th>2359</th>\n",
       "      <td>BEDSTUY BUILDING FOR SALE! MOTIVATED SELLER!</td>\n",
       "      <td>0.0</td>\n",
       "      <td>NaN</td>\n",
       "      <td>https://newyork.craigslist.org/brk/apa/d/brook...</td>\n",
       "      <td>NaN</td>\n",
       "      <td>(BEDSTUY)</td>\n",
       "      <td>2021-02-13 18:37</td>\n",
       "      <td>8.0</td>\n",
       "      <td>40.695004</td>\n",
       "      <td>-73.952489</td>\n",
       "      <td>no pet</td>\n",
       "      <td>no laundry</td>\n",
       "      <td>off-street</td>\n",
       "      <td>wood</td>\n",
       "      <td>multi</td>\n",
       "      <td>NaN</td>\n",
       "    </tr>\n",
       "    <tr>\n",
       "      <th>2516</th>\n",
       "      <td>NO FEE! NO SEC DEPOSIT Doorman Building 718-35...</td>\n",
       "      <td>1595.0</td>\n",
       "      <td>NaN</td>\n",
       "      <td>https://newyork.craigslist.org/brk/apa/d/jamai...</td>\n",
       "      <td>NaN</td>\n",
       "      <td>(Jamaica Estates)</td>\n",
       "      <td>2021-02-13 11:10</td>\n",
       "      <td>1.0</td>\n",
       "      <td>40.714460</td>\n",
       "      <td>-73.780961</td>\n",
       "      <td>no pet</td>\n",
       "      <td>no laundry</td>\n",
       "      <td>no</td>\n",
       "      <td>NaN</td>\n",
       "      <td>multi</td>\n",
       "      <td>NaN</td>\n",
       "    </tr>\n",
       "    <tr>\n",
       "      <th>2560</th>\n",
       "      <td>117 Sullivan HEART of SOHO, OH SAT/SUN 11-2, S...</td>\n",
       "      <td>1695.0</td>\n",
       "      <td>NaN</td>\n",
       "      <td>https://newyork.craigslist.org/mnh/apa/d/new-y...</td>\n",
       "      <td>NaN</td>\n",
       "      <td>(SoHo)</td>\n",
       "      <td>2021-02-13 10:06</td>\n",
       "      <td>1.0</td>\n",
       "      <td>40.726413</td>\n",
       "      <td>-74.002597</td>\n",
       "      <td>no pet</td>\n",
       "      <td>no laundry</td>\n",
       "      <td>no</td>\n",
       "      <td>NaN</td>\n",
       "      <td>multi</td>\n",
       "      <td>NaN</td>\n",
       "    </tr>\n",
       "    <tr>\n",
       "      <th>2607</th>\n",
       "      <td>LUXURY LIVING--FIDI CLASSIC--LONG TERMS LEASE-...</td>\n",
       "      <td>1699.0</td>\n",
       "      <td>NaN</td>\n",
       "      <td>https://newyork.craigslist.org/mnh/apa/d/new-y...</td>\n",
       "      <td>NaN</td>\n",
       "      <td>(Financial District)</td>\n",
       "      <td>2021-02-13 08:29</td>\n",
       "      <td>1.0</td>\n",
       "      <td>40.705600</td>\n",
       "      <td>-74.008300</td>\n",
       "      <td>both pets</td>\n",
       "      <td>in unit</td>\n",
       "      <td>no</td>\n",
       "      <td>NaN</td>\n",
       "      <td>multi</td>\n",
       "      <td>NaN</td>\n",
       "    </tr>\n",
       "    <tr>\n",
       "      <th>2609</th>\n",
       "      <td>RENT AMORTIZED--LARGE WINDOWS--FREE AMENITIES-...</td>\n",
       "      <td>1745.0</td>\n",
       "      <td>NaN</td>\n",
       "      <td>https://newyork.craigslist.org/mnh/apa/d/new-y...</td>\n",
       "      <td>NaN</td>\n",
       "      <td>(Financial District)</td>\n",
       "      <td>2021-02-13 08:28</td>\n",
       "      <td>1.0</td>\n",
       "      <td>40.714300</td>\n",
       "      <td>-74.006000</td>\n",
       "      <td>no pet</td>\n",
       "      <td>on site</td>\n",
       "      <td>no</td>\n",
       "      <td>NaN</td>\n",
       "      <td>multi</td>\n",
       "      <td>NaN</td>\n",
       "    </tr>\n",
       "    <tr>\n",
       "      <th>2684</th>\n",
       "      <td>HUGE, 3 Closets, Elevator, Lndry, Drmn, Parking</td>\n",
       "      <td>1500.0</td>\n",
       "      <td>NaN</td>\n",
       "      <td>https://newyork.craigslist.org/brx/apa/d/bronx...</td>\n",
       "      <td>NaN</td>\n",
       "      <td>(Riverdale)</td>\n",
       "      <td>2021-02-12 21:41</td>\n",
       "      <td>1.0</td>\n",
       "      <td>40.901100</td>\n",
       "      <td>-73.905300</td>\n",
       "      <td>both pets</td>\n",
       "      <td>on site</td>\n",
       "      <td>proctected</td>\n",
       "      <td>NaN</td>\n",
       "      <td>multi</td>\n",
       "      <td>NaN</td>\n",
       "    </tr>\n",
       "    <tr>\n",
       "      <th>2748</th>\n",
       "      <td>WASHINGTON HEIGHTS/YESHIVA UNIVERSITY $1399</td>\n",
       "      <td>1399.0</td>\n",
       "      <td>NaN</td>\n",
       "      <td>https://newyork.craigslist.org/mnh/apa/d/new-y...</td>\n",
       "      <td>NaN</td>\n",
       "      <td>(Inwood / Wash Hts)</td>\n",
       "      <td>2021-02-12 18:34</td>\n",
       "      <td>1.0</td>\n",
       "      <td>40.850193</td>\n",
       "      <td>-73.932495</td>\n",
       "      <td>no pet</td>\n",
       "      <td>no laundry</td>\n",
       "      <td>no</td>\n",
       "      <td>NaN</td>\n",
       "      <td>multi</td>\n",
       "      <td>NaN</td>\n",
       "    </tr>\n",
       "    <tr>\n",
       "      <th>2774</th>\n",
       "      <td>➔AMAZING True Luxury~~Move now or March~~!!!NO...</td>\n",
       "      <td>2100.0</td>\n",
       "      <td>NaN</td>\n",
       "      <td>https://newyork.craigslist.org/brk/apa/d/brook...</td>\n",
       "      <td>NaN</td>\n",
       "      <td>(Park Slope/Prospect Ave R train)</td>\n",
       "      <td>2021-02-12 17:24</td>\n",
       "      <td>1.0</td>\n",
       "      <td>40.663834</td>\n",
       "      <td>-73.994516</td>\n",
       "      <td>both pets</td>\n",
       "      <td>on site</td>\n",
       "      <td>no</td>\n",
       "      <td>NaN</td>\n",
       "      <td>multi</td>\n",
       "      <td>NaN</td>\n",
       "    </tr>\n",
       "    <tr>\n",
       "      <th>2796</th>\n",
       "      <td>__LARGE__\"ALL__OPEN__LOFT\"___2 BATHS___LOTS OF...</td>\n",
       "      <td>3199.0</td>\n",
       "      <td>NaN</td>\n",
       "      <td>https://newyork.craigslist.org/brk/apa/d/brook...</td>\n",
       "      <td>NaN</td>\n",
       "      <td>(WILLIAMSBURG__\"L\" MORGAN__\"J &amp; M\" FLUSHING S...</td>\n",
       "      <td>2021-02-12 16:53</td>\n",
       "      <td>2.0</td>\n",
       "      <td>40.703935</td>\n",
       "      <td>-73.934793</td>\n",
       "      <td>both pets</td>\n",
       "      <td>on site</td>\n",
       "      <td>no</td>\n",
       "      <td>NaN</td>\n",
       "      <td>multi</td>\n",
       "      <td>NaN</td>\n",
       "    </tr>\n",
       "    <tr>\n",
       "      <th>2817</th>\n",
       "      <td>Step Into Your Future</td>\n",
       "      <td>1950.0</td>\n",
       "      <td>NaN</td>\n",
       "      <td>https://newyork.craigslist.org/mnh/apa/d/new-y...</td>\n",
       "      <td>NaN</td>\n",
       "      <td>(Financial District)</td>\n",
       "      <td>2021-02-12 16:35</td>\n",
       "      <td>1.0</td>\n",
       "      <td>40.714300</td>\n",
       "      <td>-74.006000</td>\n",
       "      <td>both pets</td>\n",
       "      <td>on site</td>\n",
       "      <td>protected</td>\n",
       "      <td>NaN</td>\n",
       "      <td>multi</td>\n",
       "      <td>no smoking</td>\n",
       "    </tr>\n",
       "  </tbody>\n",
       "</table>\n",
       "</div>"
      ],
      "text/plain": [
       "                                       post_title_texts  post_prices  sqfts  \\\n",
       "4     LUX BUILDING: STU - ROOFTOP - SCREENING RM - S...       1903.0    NaN   \n",
       "7     GOOD AMENITY RICH: LUX BUILDING - ROOFTOP - SC...       1938.0    NaN   \n",
       "92    Humongous LOFT in GLOVEMAN FACTORY,  LAUNDRY, ...       3550.0    NaN   \n",
       "176                                  Apartment for rent       1400.0    NaN   \n",
       "317   7 Bedroom 3 Bathroom Bushwick Duplex Loft 2000...       4500.0    NaN   \n",
       "451   1 BEDROOM DUPLEX APARTMENT IN PRIME CLINTON HI...       2150.0    NaN   \n",
       "491                                          huuuuuuuge       2275.0    NaN   \n",
       "494                               Huuuuuuuuge and sunny       1925.0    NaN   \n",
       "677                  Gorgeous apartment in Turtle Bay !       1788.0    NaN   \n",
       "729           Rent Stabilized Apartment- Best location!       2300.0    NaN   \n",
       "802                                        apt for rent       1275.0    NaN   \n",
       "811   NEW! Spacious & Sunny STU  Separate Kitchen | ...       1690.0    NaN   \n",
       "824   Rare Bright Airy Nolita Loft Oasis___Amazing L...       2495.0    NaN   \n",
       "904   Newly renovated apartment with open kitchen an...       1850.0    NaN   \n",
       "963    Peaceful, Modern West Village Apartment for Rent       3500.0    NaN   \n",
       "1013  NO FEE *2 MO FREE!* Balcony + ROOF-DECK, Elv, ...       2095.0    NaN   \n",
       "1029  Super huge 6br/2.5bath triplex+private backyar...       4000.0    NaN   \n",
       "1096  BRAND NEW: LUX AMENITY - POOL - W/D IN UNIT - ...       1887.0    NaN   \n",
       "1181                               93 HECKER ST. RENTAL        975.0    NaN   \n",
       "1311  Sun Lit Open Nolita Floor Thru Loft Oasis___Am...       3995.0    NaN   \n",
       "1361                             $950 Dongan Hills SIUH        950.0    NaN   \n",
       "1413                              THE FORT GREEN SECRET       1775.0    NaN   \n",
       "1529  Prospect heights / Crown heights - Prospect Pa...       1550.0    NaN   \n",
       "1824  3 MONTHS FREE~~~CITY  VIEWS~~~WASHER/DRYER IN ...       1970.0    NaN   \n",
       "1888  ((NO FEE)) AMAZING LOCATION 3 BIG CLOSET'S SUB...       1485.0    NaN   \n",
       "2016  1 BED DUPLEX APARTMENT WITH A PRIVATE BACKYARD...       2150.0    NaN   \n",
       "2175  🔥🔥🔥APARTMENT FOR RENT: CALL YOUR LOCAL EXPERT:...       1200.0    NaN   \n",
       "2281  4 MONTHS FREE--NET RENT AMORTIZED--NEW TO MARK...       1689.0    NaN   \n",
       "2282   --NET RENT AMORTIZED--TOP FLOOR--LUXURY LIVING--       1729.0    NaN   \n",
       "2301  Renovated Extra Wide E. Williamsburg 1200 sq f...       3000.0    NaN   \n",
       "2359       BEDSTUY BUILDING FOR SALE! MOTIVATED SELLER!          0.0    NaN   \n",
       "2516  NO FEE! NO SEC DEPOSIT Doorman Building 718-35...       1595.0    NaN   \n",
       "2560  117 Sullivan HEART of SOHO, OH SAT/SUN 11-2, S...       1695.0    NaN   \n",
       "2607  LUXURY LIVING--FIDI CLASSIC--LONG TERMS LEASE-...       1699.0    NaN   \n",
       "2609  RENT AMORTIZED--LARGE WINDOWS--FREE AMENITIES-...       1745.0    NaN   \n",
       "2684    HUGE, 3 Closets, Elevator, Lndry, Drmn, Parking       1500.0    NaN   \n",
       "2748        WASHINGTON HEIGHTS/YESHIVA UNIVERSITY $1399       1399.0    NaN   \n",
       "2774  ➔AMAZING True Luxury~~Move now or March~~!!!NO...       2100.0    NaN   \n",
       "2796  __LARGE__\"ALL__OPEN__LOFT\"___2 BATHS___LOTS OF...       3199.0    NaN   \n",
       "2817                              Step Into Your Future       1950.0    NaN   \n",
       "\n",
       "                                             post_links  bedroom_counts  \\\n",
       "4     https://newyork.craigslist.org/mnh/apa/d/new-y...             NaN   \n",
       "7     https://newyork.craigslist.org/mnh/apa/d/new-y...             NaN   \n",
       "92    https://newyork.craigslist.org/brk/apa/d/brook...             NaN   \n",
       "176   https://newyork.craigslist.org/lgi/apa/d/frank...             NaN   \n",
       "317   https://newyork.craigslist.org/brk/apa/d/brook...             7.0   \n",
       "451   https://newyork.craigslist.org/brk/apa/d/brook...             1.0   \n",
       "491   https://newyork.craigslist.org/mnh/apa/d/new-y...             NaN   \n",
       "494   https://newyork.craigslist.org/mnh/apa/d/new-y...             NaN   \n",
       "677   https://newyork.craigslist.org/mnh/apa/d/new-y...             NaN   \n",
       "729   https://newyork.craigslist.org/mnh/apa/d/new-y...             NaN   \n",
       "802   https://newyork.craigslist.org/brx/apa/d/bronx...             NaN   \n",
       "811   https://newyork.craigslist.org/mnh/apa/d/new-y...             NaN   \n",
       "824   https://newyork.craigslist.org/mnh/apa/d/new-y...             NaN   \n",
       "904   https://newyork.craigslist.org/mnh/apa/d/new-y...             NaN   \n",
       "963   https://newyork.craigslist.org/mnh/apa/d/new-y...             NaN   \n",
       "1013  https://newyork.craigslist.org/mnh/apa/d/new-y...             NaN   \n",
       "1029  https://newyork.craigslist.org/brk/apa/d/brook...             6.0   \n",
       "1096  https://newyork.craigslist.org/mnh/apa/d/new-y...             NaN   \n",
       "1181  https://newyork.craigslist.org/stn/apa/d/state...             NaN   \n",
       "1311  https://newyork.craigslist.org/mnh/apa/d/new-y...             NaN   \n",
       "1361  https://newyork.craigslist.org/stn/apa/d/state...             NaN   \n",
       "1413  https://newyork.craigslist.org/brk/apa/d/brook...             NaN   \n",
       "1529  https://newyork.craigslist.org/brk/apa/d/brook...             NaN   \n",
       "1824  https://newyork.craigslist.org/mnh/apa/d/new-y...             NaN   \n",
       "1888  https://newyork.craigslist.org/que/apa/d/astor...             NaN   \n",
       "2016  https://newyork.craigslist.org/brk/apa/d/brook...             1.0   \n",
       "2175  https://newyork.craigslist.org/que/apa/d/queen...             NaN   \n",
       "2281  https://newyork.craigslist.org/mnh/apa/d/new-y...             NaN   \n",
       "2282  https://newyork.craigslist.org/mnh/apa/d/new-y...             NaN   \n",
       "2301  https://newyork.craigslist.org/brk/apa/d/brook...             NaN   \n",
       "2359  https://newyork.craigslist.org/brk/apa/d/brook...             NaN   \n",
       "2516  https://newyork.craigslist.org/brk/apa/d/jamai...             NaN   \n",
       "2560  https://newyork.craigslist.org/mnh/apa/d/new-y...             NaN   \n",
       "2607  https://newyork.craigslist.org/mnh/apa/d/new-y...             NaN   \n",
       "2609  https://newyork.craigslist.org/mnh/apa/d/new-y...             NaN   \n",
       "2684  https://newyork.craigslist.org/brx/apa/d/bronx...             NaN   \n",
       "2748  https://newyork.craigslist.org/mnh/apa/d/new-y...             NaN   \n",
       "2774  https://newyork.craigslist.org/brk/apa/d/brook...             NaN   \n",
       "2796  https://newyork.craigslist.org/brk/apa/d/brook...             NaN   \n",
       "2817  https://newyork.craigslist.org/mnh/apa/d/new-y...             NaN   \n",
       "\n",
       "                                             post_hoods       post_timing  \\\n",
       "4                                  (Financial District)  2021-02-18 16:42   \n",
       "7                                  (Financial District)  2021-02-18 16:34   \n",
       "92                             (Williamsburg/ L Graham)  2021-02-18 13:52   \n",
       "176                                   (Franklin Square)  2021-02-18 11:57   \n",
       "317                                          (Bushwick)  2021-02-18 00:20   \n",
       "451                                      (CLINTON HILL)  2021-02-17 16:46   \n",
       "491                                      (West Village)  2021-02-17 15:32   \n",
       "494                                           (Chelsea)  2021-02-17 15:30   \n",
       "677                                      (Midtown East)  2021-02-17 12:11   \n",
       "729                                 (Greenwich Village)  2021-02-17 11:21   \n",
       "802            (manhattan college vicinity kingsbridge)  2021-02-17 10:14   \n",
       "811                                      (Midtown West)  2021-02-17 09:58   \n",
       "824                                   (Nolita / Bowery)  2021-02-17 09:47   \n",
       "904                                (Financial District)  2021-02-16 21:42   \n",
       "963                                      (West Village)  2021-02-16 18:51   \n",
       "1013                                         (Gramercy)  2021-02-16 17:24   \n",
       "1029    (Bed Stuy @ Myrtle Ave JMZ+ Myrtle/WilloughbyG)  2021-02-16 16:43   \n",
       "1096                               (Financial District)  2021-02-16 14:30   \n",
       "1181                                      (TOTTENVILLE)  2021-02-16 12:32   \n",
       "1311                                  (Nolita / Bowery)  2021-02-16 10:49   \n",
       "1361                  (SIUH Dongan Hills/ Ocean Breeze)  2021-02-16 09:32   \n",
       "1413                                       (FORT GREEN)  2021-02-16 06:46   \n",
       "1529   (Prospect Park / Crown Heights / Prospect hei...  2021-02-15 18:01   \n",
       "1824                                          (TriBeCa)  2021-02-15 11:29   \n",
       "1888                                          (ASTORIA)  2021-02-15 10:36   \n",
       "2016                                     (CLINTON HILL)  2021-02-14 20:11   \n",
       "2175            (Jamaica, Astoria, Brooklyn, Bellerose)  2021-02-14 12:12   \n",
       "2281                               (Financial District)  2021-02-14 08:00   \n",
       "2282                               (Financial District)  2021-02-14 07:59   \n",
       "2301                                     (Williamsburg)  2021-02-14 01:33   \n",
       "2359                                          (BEDSTUY)  2021-02-13 18:37   \n",
       "2516                                  (Jamaica Estates)  2021-02-13 11:10   \n",
       "2560                                             (SoHo)  2021-02-13 10:06   \n",
       "2607                               (Financial District)  2021-02-13 08:29   \n",
       "2609                               (Financial District)  2021-02-13 08:28   \n",
       "2684                                        (Riverdale)  2021-02-12 21:41   \n",
       "2748                                (Inwood / Wash Hts)  2021-02-12 18:34   \n",
       "2774                  (Park Slope/Prospect Ave R train)  2021-02-12 17:24   \n",
       "2796   (WILLIAMSBURG__\"L\" MORGAN__\"J & M\" FLUSHING S...  2021-02-12 16:53   \n",
       "2817                               (Financial District)  2021-02-12 16:35   \n",
       "\n",
       "      No_of_bathrooms   latitude  longitude        pet     laundry  \\\n",
       "4                 1.0  40.705600 -74.008300  both pets     on site   \n",
       "7                 1.0  40.705600 -74.008300     no pet     on site   \n",
       "92                1.0  40.712378 -73.944032  both pets     on site   \n",
       "176               1.0  40.701000 -73.675800     no pet     on site   \n",
       "317               3.0  40.688050 -73.918800  both pets     on site   \n",
       "451               1.5  40.701200 -73.943600  both pets     in unit   \n",
       "491               1.0  40.737738 -73.992888  both pets  no laundry   \n",
       "494               1.0  40.744290 -73.998985  both pets  no laundry   \n",
       "677               1.0  40.751700 -73.970700     no pet     on site   \n",
       "729               1.0  40.725500 -73.998300       cats  no laundry   \n",
       "802               1.0  40.879800 -73.906700     no pet  no laundry   \n",
       "811               1.0  40.761236 -73.989487  both pets     on site   \n",
       "824               1.0  40.721619 -73.995464     no pet  no laundry   \n",
       "904               1.0  40.708500 -74.013500  both pets     on site   \n",
       "963               1.0  40.733900 -74.005400       cats     on site   \n",
       "1013              1.0  40.737500 -73.981300     no pet     on site   \n",
       "1029              2.5  40.692317 -73.939898  both pets     on site   \n",
       "1096              1.0  40.710100 -74.001300     no pet     in unit   \n",
       "1181              1.0  40.508500 -74.244500     no pet  no laundry   \n",
       "1311              1.0  40.722301 -73.997123     no pet  no laundry   \n",
       "1361              1.0  40.597300 -74.076800     no pet  no laundry   \n",
       "1413              1.0  40.686691 -73.973544  both pets  no laundry   \n",
       "1529              1.0  40.671715 -73.958530  both pets     on site   \n",
       "1824              1.0  40.718500 -74.002500     no pet     in unit   \n",
       "1888              1.0  40.770600 -73.926500       cats  no laundry   \n",
       "2016              1.5  40.692400 -73.966600  both pets     in unit   \n",
       "2175              1.0  40.720800 -73.743300     no pet  no laundry   \n",
       "2281              1.0  40.707387 -74.005482  both pets  no laundry   \n",
       "2282              1.0  40.714300 -74.006000  both pets     on site   \n",
       "2301              1.0  40.705459 -73.937860       cats     on site   \n",
       "2359              8.0  40.695004 -73.952489     no pet  no laundry   \n",
       "2516              1.0  40.714460 -73.780961     no pet  no laundry   \n",
       "2560              1.0  40.726413 -74.002597     no pet  no laundry   \n",
       "2607              1.0  40.705600 -74.008300  both pets     in unit   \n",
       "2609              1.0  40.714300 -74.006000     no pet     on site   \n",
       "2684              1.0  40.901100 -73.905300  both pets     on site   \n",
       "2748              1.0  40.850193 -73.932495     no pet  no laundry   \n",
       "2774              1.0  40.663834 -73.994516  both pets     on site   \n",
       "2796              2.0  40.703935 -73.934793  both pets     on site   \n",
       "2817              1.0  40.714300 -74.006000  both pets     on site   \n",
       "\n",
       "         parking floor Apartment_type     smoking  \n",
       "4             no   NaN          multi         NaN  \n",
       "7             no   NaN          multi         NaN  \n",
       "92            no  wood          multi         NaN  \n",
       "176           no   NaN          multi  no smoking  \n",
       "317           no  wood          multi         NaN  \n",
       "451           no   NaN         double         NaN  \n",
       "491           no   NaN          multi         NaN  \n",
       "494           no   NaN          multi         NaN  \n",
       "677           no  wood          multi         NaN  \n",
       "729           no  wood          multi         NaN  \n",
       "802           no   NaN          multi  no smoking  \n",
       "811           no  wood          multi         NaN  \n",
       "824           no   NaN          multi         NaN  \n",
       "904           no  wood          multi         NaN  \n",
       "963           no  wood          multi         NaN  \n",
       "1013          no  wood          multi         NaN  \n",
       "1029          no  wood         double         NaN  \n",
       "1096          no   NaN          multi         NaN  \n",
       "1181          no   NaN          multi         NaN  \n",
       "1311          no   NaN          multi         NaN  \n",
       "1361          no   NaN          multi         NaN  \n",
       "1413          no  wood          multi         NaN  \n",
       "1529          no  wood          multi         NaN  \n",
       "1824          no   NaN          multi         NaN  \n",
       "1888          no   NaN          multi         NaN  \n",
       "2016          no   NaN         double         NaN  \n",
       "2175          no   NaN          multi         NaN  \n",
       "2281          no   NaN          multi         NaN  \n",
       "2282          no   NaN          multi         NaN  \n",
       "2301          no  wood          multi         NaN  \n",
       "2359  off-street  wood          multi         NaN  \n",
       "2516          no   NaN          multi         NaN  \n",
       "2560          no   NaN          multi         NaN  \n",
       "2607          no   NaN          multi         NaN  \n",
       "2609          no   NaN          multi         NaN  \n",
       "2684  proctected   NaN          multi         NaN  \n",
       "2748          no   NaN          multi         NaN  \n",
       "2774          no   NaN          multi         NaN  \n",
       "2796          no   NaN          multi         NaN  \n",
       "2817   protected   NaN          multi  no smoking  "
      ]
     },
     "execution_count": 296,
     "metadata": {},
     "output_type": "execute_result"
    }
   ],
   "source": [
    " missing_area_york"
   ]
  },
  {
   "cell_type": "code",
   "execution_count": 297,
   "id": "swedish-operations",
   "metadata": {},
   "outputs": [
    {
     "name": "stdout",
     "output_type": "stream",
     "text": [
      "<class 'pandas.core.frame.DataFrame'>\n",
      "Int64Index: 2520 entries, 0 to 2924\n",
      "Data columns (total 16 columns):\n",
      " #   Column            Non-Null Count  Dtype  \n",
      "---  ------            --------------  -----  \n",
      " 0   post_title_texts  2520 non-null   object \n",
      " 1   post_prices       2380 non-null   float64\n",
      " 2   sqfts             2480 non-null   float64\n",
      " 3   post_links        2520 non-null   object \n",
      " 4   bedroom_counts    2467 non-null   float64\n",
      " 5   post_hoods        2520 non-null   object \n",
      " 6   post_timing       2520 non-null   object \n",
      " 7   No_of_bathrooms   2520 non-null   float64\n",
      " 8   latitude          2520 non-null   float64\n",
      " 9   longitude         2520 non-null   float64\n",
      " 10  pet               2520 non-null   object \n",
      " 11  laundry           2520 non-null   object \n",
      " 12  parking           2520 non-null   object \n",
      " 13  floor             1012 non-null   object \n",
      " 14  Apartment_type    2520 non-null   object \n",
      " 15  smoking           360 non-null    object \n",
      "dtypes: float64(6), object(10)\n",
      "memory usage: 334.7+ KB\n"
     ]
    }
   ],
   "source": [
    "df_york.info()"
   ]
  },
  {
   "cell_type": "code",
   "execution_count": 298,
   "id": "liked-ukraine",
   "metadata": {},
   "outputs": [
    {
     "data": {
      "text/plain": [
       "<AxesSubplot:>"
      ]
     },
     "execution_count": 298,
     "metadata": {},
     "output_type": "execute_result"
    },
    {
     "data": {
      "image/png": "[encoded data removed]",
      "text/plain": [
       "<Figure size 1800x720 with 2 Axes>"
      ]
     },
     "metadata": {
      "needs_background": "light"
     },
     "output_type": "display_data"
    }
   ],
   "source": [
    "#the missing rows are random\n",
    "import missingno as msno\n",
    "msno.matrix(df_york_sort)"
   ]
  },
  {
   "cell_type": "markdown",
   "id": "controlled-roulette",
   "metadata": {},
   "source": [
    "### missing on the latitude and longitude"
   ]
  },
  {
   "cell_type": "code",
   "execution_count": 299,
   "id": "blank-samoa",
   "metadata": {},
   "outputs": [
    {
     "data": {
      "text/html": [
       "<div>\n",
       "<style scoped>\n",
       "    .dataframe tbody tr th:only-of-type {\n",
       "        vertical-align: middle;\n",
       "    }\n",
       "\n",
       "    .dataframe tbody tr th {\n",
       "        vertical-align: top;\n",
       "    }\n",
       "\n",
       "    .dataframe thead th {\n",
       "        text-align: right;\n",
       "    }\n",
       "</style>\n",
       "<table border=\"1\" class=\"dataframe\">\n",
       "  <thead>\n",
       "    <tr style=\"text-align: right;\">\n",
       "      <th></th>\n",
       "      <th>latitude</th>\n",
       "      <th>post_title_texts</th>\n",
       "      <th>post_hoods</th>\n",
       "    </tr>\n",
       "  </thead>\n",
       "  <tbody>\n",
       "    <tr>\n",
       "      <th>919</th>\n",
       "      <td>NaN</td>\n",
       "      <td>TEMPLE - Several To Choose From w/Security-All...</td>\n",
       "      <td>(Temple - Main Campus 1528 17th)</td>\n",
       "    </tr>\n",
       "    <tr>\n",
       "      <th>1765</th>\n",
       "      <td>NaN</td>\n",
       "      <td>1004 S. Chadwick St- Beautifully Renovated 2 B...</td>\n",
       "      <td>(Graduate Hospital)</td>\n",
       "    </tr>\n",
       "    <tr>\n",
       "      <th>2007</th>\n",
       "      <td>NaN</td>\n",
       "      <td>W Master St, Fantastic 2 BR 2 BA For Rent!</td>\n",
       "      <td>(Philadelphia, PA)</td>\n",
       "    </tr>\n",
       "    <tr>\n",
       "      <th>2101</th>\n",
       "      <td>NaN</td>\n",
       "      <td>Absolutely Charming Single Level Brick &amp; Sidin...</td>\n",
       "      <td>(Chambersburg)</td>\n",
       "    </tr>\n",
       "  </tbody>\n",
       "</table>\n",
       "</div>"
      ],
      "text/plain": [
       "      latitude                                   post_title_texts  \\\n",
       "919        NaN  TEMPLE - Several To Choose From w/Security-All...   \n",
       "1765       NaN  1004 S. Chadwick St- Beautifully Renovated 2 B...   \n",
       "2007       NaN         W Master St, Fantastic 2 BR 2 BA For Rent!   \n",
       "2101       NaN  Absolutely Charming Single Level Brick & Sidin...   \n",
       "\n",
       "                             post_hoods  \n",
       "919    (Temple - Main Campus 1528 17th)  \n",
       "1765                (Graduate Hospital)  \n",
       "2007                 (Philadelphia, PA)  \n",
       "2101                     (Chambersburg)  "
      ]
     },
     "execution_count": 299,
     "metadata": {},
     "output_type": "execute_result"
    }
   ],
   "source": [
    "#There are four rows in philly with missing latitude and longitude\n",
    "df_philly.loc[df_philly['latitude'].isna(), ['latitude', 'post_title_texts', 'post_hoods']]"
   ]
  },
  {
   "cell_type": "code",
   "execution_count": 300,
   "id": "related-boost",
   "metadata": {},
   "outputs": [
    {
     "name": "stdout",
     "output_type": "stream",
     "text": [
      "                                      post_title_texts  post_prices  \\\n",
      "919  TEMPLE - Several To Choose From w/Security-All...         1000   \n",
      "920  TEMPLE-2 Bdrm Apt. w/Huge Living &Bdrms,Free W...         1000   \n",
      "\n",
      "           sqfts                                         post_links  \\\n",
      "919  1077.385776  https://philadelphia.craigslist.org/apa/d/temp...   \n",
      "920  1077.385776  https://philadelphia.craigslist.org/apa/d/phil...   \n",
      "\n",
      "     bedroom_counts                          post_hoods       post_timing  \\\n",
      "919             2.0    (Temple - Main Campus 1528 17th)  2021-02-18 00:08   \n",
      "920             2.0   (Temple -Main Campus/1528 N.17th)  2021-02-18 00:08   \n",
      "\n",
      "     No_of_bathrooms  latitude  longitude     pet  laundry parking floor  \\\n",
      "919              1.0       NaN        NaN  no pet  on site      no   NaN   \n",
      "920              1.0   39.9811    -75.174    cats  on site      no   NaN   \n",
      "\n",
      "    Apartment_type smoking  \n",
      "919          multi     NaN  \n",
      "920          multi     NaN  \n"
     ]
    },
    {
     "name": "stderr",
     "output_type": "stream",
     "text": [
      "/opt/anaconda3/envs/Geo_pandas37/lib/python3.7/site-packages/pandas/core/strings/accessor.py:101: UserWarning: This pattern has match groups. To actually get the groups, use str.extract.\n",
      "  return func(self, *args, **kwargs)\n"
     ]
    }
   ],
   "source": [
    "#replace the latitude and longitude by matching the post_hoods\n",
    "print(df_philly[df_philly['post_hoods'].str.contains('(Temple - Main Campus|1528)')])\n",
    "df_philly.loc[919, ['latitude', 'longitude']] = 39.9811, -75.174"
   ]
  },
  {
   "cell_type": "code",
   "execution_count": 301,
   "id": "mounted-settlement",
   "metadata": {},
   "outputs": [
    {
     "name": "stdout",
     "output_type": "stream",
     "text": [
      "                                       post_title_texts  post_prices  \\\n",
      "57     Charming 2 Bedroom property in Graduate Hospital         1900   \n",
      "64    PRICE IMPROVEMENT! Updated Cozy 1BR W/ Private...         1100   \n",
      "72       Sunny, Spacious, Stylish, Walkable, A True Gem         1905   \n",
      "177   Sunny, Spacious, Stylish, Great Location, A Tr...         2005   \n",
      "477   Prime Location, spacious sunny units, walkable...         1905   \n",
      "505   Well Known Location! Awesome 1BD Easy Highway ...         1295   \n",
      "961   Unbeatable Location! Terrific 1BD with Easy Ac...         1295   \n",
      "1356  Prime location, sunny spacious units, walkable...         2840   \n",
      "1531   Business Center, Surface Parking, Fitness Center         1865   \n",
      "1723               Sunny, stylish, spacious, a true gem         1835   \n",
      "1765  1004 S. Chadwick St- Beautifully Renovated 2 B...         2060   \n",
      "1775  2116 South St, Unit 3- Bi-level Apt Right on S...         1395   \n",
      "1778  619 S. 19th Street Unit 2- Spacious Bi-level w...         1500   \n",
      "1779  Royal Theater, 1520 South St, Unit 304- Junior...         1446   \n",
      "1792  1622 South St, 2R- Newly Renovated Bi-Level 2 ...         1550   \n",
      "1798  626 S. 19th Street, 2nd Floor- 2 BDRM with Ren...         1495   \n",
      "1810  2100 St. Albans St, Upper- Spacious Bi-Level A...         1850   \n",
      "1811  Royal Theater, 1520 South St, Unit 501- Sunny ...         1325   \n",
      "1815  2126 Montrose St- 2 Bedroom House in Best Grad...         2400   \n",
      "1843  1530 Christian Street, Unit 2- Modern Apt w/ W...         1765   \n",
      "1849  Royal Theater, 1520 South St, Unit 610-Skyline...         1255   \n",
      "2234  Skyline Views! Stunning 2 Bed, 2 Bath apt + W/...         2650   \n",
      "\n",
      "            sqfts                                         post_links  \\\n",
      "57    1100.000000  https://philadelphia.craigslist.org/apa/d/char...   \n",
      "64     859.334507  https://philadelphia.craigslist.org/apa/d/phil...   \n",
      "72     967.000000  https://philadelphia.craigslist.org/apa/d/phil...   \n",
      "177    879.000000  https://philadelphia.craigslist.org/apa/d/phil...   \n",
      "477    967.000000  https://philadelphia.craigslist.org/apa/d/phil...   \n",
      "505    859.334507  https://philadelphia.craigslist.org/apa/d/phil...   \n",
      "961    859.334507  https://philadelphia.craigslist.org/apa/d/phil...   \n",
      "1356  1118.000000  https://philadelphia.craigslist.org/apa/d/phil...   \n",
      "1531   859.000000  https://philadelphia.craigslist.org/apa/d/phil...   \n",
      "1723   804.000000  https://philadelphia.craigslist.org/apa/d/phil...   \n",
      "1765  1396.934783  https://philadelphia.craigslist.org/apa/d/1004...   \n",
      "1775   859.334507  https://philadelphia.craigslist.org/apa/d/phil...   \n",
      "1778  1077.385776  https://philadelphia.craigslist.org/apa/d/phil...   \n",
      "1779   859.334507  https://philadelphia.craigslist.org/apa/d/phil...   \n",
      "1792  1077.385776  https://philadelphia.craigslist.org/apa/d/phil...   \n",
      "1798  1077.385776  https://philadelphia.craigslist.org/apa/d/phil...   \n",
      "1810  1077.385776  https://philadelphia.craigslist.org/apa/d/phil...   \n",
      "1811   444.976190  https://philadelphia.craigslist.org/apa/d/phil...   \n",
      "1815  1150.000000  https://philadelphia.craigslist.org/apa/d/phil...   \n",
      "1843  1077.385776  https://philadelphia.craigslist.org/apa/d/phil...   \n",
      "1849          NaN  https://philadelphia.craigslist.org/apa/d/phil...   \n",
      "2234  1077.385776  https://philadelphia.craigslist.org/apa/d/phil...   \n",
      "\n",
      "      bedroom_counts                                       post_hoods  \\\n",
      "57               2.0                              (Graduate Hospital)   \n",
      "64               1.0            (Graduate Hospital, Philadelphia, PA)   \n",
      "72               1.0           (Graduate Hospital-Rittenhouse Square)   \n",
      "177              2.0           (Graduate Hospital-Rittenhouse Square)   \n",
      "477              1.0                              (Graduate Hospital)   \n",
      "505              1.0                              (Graduate Hospital)   \n",
      "961              1.0                              (Graduate Hospital)   \n",
      "1356             2.0                              (Graduate Hospital)   \n",
      "1531             1.0                              (Graduate Hospital)   \n",
      "1723             1.0           (Rittenhouse Square-Graduate Hospital)   \n",
      "1765             2.0                              (Graduate Hospital)   \n",
      "1775             1.0                              (Graduate Hospital)   \n",
      "1778             2.0                              (Graduate Hospital)   \n",
      "1779             1.0                              (Graduate Hospital)   \n",
      "1792             2.0                              (Graduate Hospital)   \n",
      "1798             2.0                              (Graduate Hospital)   \n",
      "1810             2.0                              (Graduate Hospital)   \n",
      "1811             0.0                              (Graduate Hospital)   \n",
      "1815             2.0                              (Graduate Hospital)   \n",
      "1843             2.0                              (Graduate Hospital)   \n",
      "1849             NaN                              (Graduate Hospital)   \n",
      "2234             2.0   (1642 South St > Graduate Hospital > South St)   \n",
      "\n",
      "           post_timing  No_of_bathrooms   latitude  longitude        pet  \\\n",
      "57    2021-02-18 16:21              1.5  39.941232 -75.175581  both pets   \n",
      "64    2021-02-18 16:10              1.0  39.945414 -75.179732       cats   \n",
      "72    2021-02-18 15:58              1.0  39.945513 -75.172173  both pets   \n",
      "177   2021-02-18 13:46              2.0  39.945513 -75.172173  both pets   \n",
      "477   2021-02-18 10:53              1.0  39.945513 -75.172173  both pets   \n",
      "505   2021-02-18 10:36              1.0  39.937900 -75.179400  both pets   \n",
      "961   2021-02-17 21:07              1.0  39.937900 -75.179400  both pets   \n",
      "1356  2021-02-17 14:30              2.0  39.945513 -75.172173  both pets   \n",
      "1531  2021-02-17 12:22              1.0  39.945513 -75.172173  both pets   \n",
      "1723  2021-02-17 10:21              1.0  39.945513 -75.172173  both pets   \n",
      "1765  2021-02-17 10:00              2.0        NaN        NaN     no pet   \n",
      "1775  2021-02-17 10:00              1.0  39.945111 -75.177245     no pet   \n",
      "1778  2021-02-17 10:00              1.0  39.944158 -75.173578     no pet   \n",
      "1779  2021-02-17 10:00              1.0  39.943889 -75.167504       dogs   \n",
      "1792  2021-02-17 09:59              1.0  39.944050 -75.168762     no pet   \n",
      "1798  2021-02-17 09:59              1.0  39.943996 -75.173821     no pet   \n",
      "1810  2021-02-17 09:59              1.5  39.942662 -75.177505     no pet   \n",
      "1811  2021-02-17 09:59              1.0  39.943889 -75.167504       dogs   \n",
      "1815  2021-02-17 09:58              1.0  39.941022 -75.178295     no pet   \n",
      "1843  2021-02-17 09:58              1.0  39.940220 -75.168961     no pet   \n",
      "1849  2021-02-17 09:58              1.0  39.943889 -75.167504       dogs   \n",
      "2234  2021-02-16 18:15              2.0  39.944050 -75.168762     no pet   \n",
      "\n",
      "         laundry     parking   floor Apartment_type     smoking  \n",
      "57       in unit          no     NaN          multi         NaN  \n",
      "64    no laundry          no  carpet          multi  no smoking  \n",
      "72       in unit  off-street     NaN          multi  no smoking  \n",
      "177      in unit  off-street     NaN          multi  no smoking  \n",
      "477      in unit  off-street     NaN          multi  no smoking  \n",
      "505      in unit          no     NaN          multi         NaN  \n",
      "961      in unit          no     NaN          multi         NaN  \n",
      "1356     in unit  off-street     NaN          multi  no smoking  \n",
      "1531     in unit  off-street     NaN          multi  no smoking  \n",
      "1723     in unit  off-street     NaN          multi  no smoking  \n",
      "1765     in unit          no     NaN         single  no smoking  \n",
      "1775     in unit          no     NaN          multi  no smoking  \n",
      "1778     on site          no     NaN          multi  no smoking  \n",
      "1779     in unit          no     NaN          multi  no smoking  \n",
      "1792     in unit          no     NaN          multi  no smoking  \n",
      "1798     on site          no     NaN          multi  no smoking  \n",
      "1810     in unit          no     NaN          multi  no smoking  \n",
      "1811     in unit          no     NaN          multi  no smoking  \n",
      "1815     in unit          no     NaN         single  no smoking  \n",
      "1843     in unit          no     NaN          multi  no smoking  \n",
      "1849     in unit          no     NaN          multi  no smoking  \n",
      "2234     in unit          no    wood          multi  no smoking  \n"
     ]
    },
    {
     "name": "stderr",
     "output_type": "stream",
     "text": [
      "/opt/anaconda3/envs/Geo_pandas37/lib/python3.7/site-packages/pandas/core/strings/accessor.py:101: UserWarning: This pattern has match groups. To actually get the groups, use str.extract.\n",
      "  return func(self, *args, **kwargs)\n"
     ]
    }
   ],
   "source": [
    "print(df_philly[df_philly['post_hoods'].str.contains('(Graduate Hospital|Chadwick)')])\n",
    "df_philly.loc[1765, ['latitude', 'longitude']] = 39.945414, -75.179732"
   ]
  },
  {
   "cell_type": "code",
   "execution_count": 302,
   "id": "quick-cliff",
   "metadata": {},
   "outputs": [
    {
     "name": "stdout",
     "output_type": "stream",
     "text": [
      "Empty DataFrame\n",
      "Columns: [post_title_texts, post_prices, sqfts, post_links, bedroom_counts, post_hoods, post_timing, No_of_bathrooms, latitude, longitude, pet, laundry, parking, floor, Apartment_type, smoking]\n",
      "Index: []\n"
     ]
    }
   ],
   "source": [
    "print(df_philly[df_philly['post_hoods'].str.contains('Chamesburg')])\n",
    "#There were no matching post_hoods so we will drop this row"
   ]
  },
  {
   "cell_type": "markdown",
   "id": "flying-spread",
   "metadata": {},
   "source": [
    "# Outliers in Price"
   ]
  },
  {
   "cell_type": "code",
   "execution_count": 303,
   "id": "sublime-edmonton",
   "metadata": {},
   "outputs": [
    {
     "data": {
      "image/png": "[encoded data removed]",
      "text/plain": [
       "<Figure size 432x288 with 1 Axes>"
      ]
     },
     "metadata": {
      "needs_background": "light"
     },
     "output_type": "display_data"
    }
   ],
   "source": [
    "import seaborn as sns\n",
    "#Newyork boxplot\n",
    "ax = sns.boxplot(x=df_york[\"post_prices\"])"
   ]
  },
  {
   "cell_type": "code",
   "execution_count": 304,
   "id": "republican-concord",
   "metadata": {},
   "outputs": [
    {
     "data": {
      "image/png": "[encoded data removed]",
      "text/plain": [
       "<Figure size 432x288 with 1 Axes>"
      ]
     },
     "metadata": {
      "needs_background": "light"
     },
     "output_type": "display_data"
    }
   ],
   "source": [
    "#Philly price box plot\n",
    "ax = sns.boxplot(x=df_philly[\"post_prices\"])"
   ]
  },
  {
   "cell_type": "code",
   "execution_count": 305,
   "id": "communist-setting",
   "metadata": {},
   "outputs": [
    {
     "name": "stdout",
     "output_type": "stream",
     "text": [
      "                                       post_title_texts  post_prices   sqfts  \\\n",
      "2171  5 BED 5.2 BATHS 2 CAR GAR. SOCIETY HILL T. HOU...         8500  4500.0   \n",
      "\n",
      "                                             post_links  bedroom_counts  \\\n",
      "2171  https://philadelphia.craigslist.org/apa/d/phil...             5.0   \n",
      "\n",
      "           post_hoods       post_timing  No_of_bathrooms  latitude  longitude  \\\n",
      "2171   (SOCIETY HILL)  2021-02-16 20:57              5.0   39.9474   -75.1473   \n",
      "\n",
      "         pet  laundry     parking floor Apartment_type smoking  \n",
      "2171  no pet  in unit  proctected   NaN         single     NaN  \n"
     ]
    }
   ],
   "source": [
    "#remove one extreme value for philly\n",
    "print(df_philly[df_philly['post_prices']>6000])\n",
    "df_philly = df_philly[df_philly['post_prices']<6000]"
   ]
  },
  {
   "cell_type": "code",
   "execution_count": 306,
   "id": "agreed-scope",
   "metadata": {},
   "outputs": [
    {
     "data": {
      "text/html": [
       "<div>\n",
       "<style scoped>\n",
       "    .dataframe tbody tr th:only-of-type {\n",
       "        vertical-align: middle;\n",
       "    }\n",
       "\n",
       "    .dataframe tbody tr th {\n",
       "        vertical-align: top;\n",
       "    }\n",
       "\n",
       "    .dataframe thead th {\n",
       "        text-align: right;\n",
       "    }\n",
       "</style>\n",
       "<table border=\"1\" class=\"dataframe\">\n",
       "  <thead>\n",
       "    <tr style=\"text-align: right;\">\n",
       "      <th></th>\n",
       "      <th>post_title_texts</th>\n",
       "      <th>post_prices</th>\n",
       "      <th>sqfts</th>\n",
       "      <th>post_links</th>\n",
       "      <th>bedroom_counts</th>\n",
       "      <th>post_hoods</th>\n",
       "      <th>post_timing</th>\n",
       "      <th>No_of_bathrooms</th>\n",
       "      <th>latitude</th>\n",
       "      <th>longitude</th>\n",
       "      <th>pet</th>\n",
       "      <th>laundry</th>\n",
       "      <th>parking</th>\n",
       "      <th>floor</th>\n",
       "      <th>Apartment_type</th>\n",
       "      <th>smoking</th>\n",
       "    </tr>\n",
       "  </thead>\n",
       "  <tbody>\n",
       "    <tr>\n",
       "      <th>167</th>\n",
       "      <td>Luxury 10,000 sq ft Colonial Estate in Sterlin...</td>\n",
       "      <td>18900.0</td>\n",
       "      <td>10000.0</td>\n",
       "      <td>https://newyork.craigslist.org/wch/apa/d/harri...</td>\n",
       "      <td>5.0</td>\n",
       "      <td>(Harrison)</td>\n",
       "      <td>2021-02-18 12:13</td>\n",
       "      <td>6.0</td>\n",
       "      <td>40.98403</td>\n",
       "      <td>-73.733941</td>\n",
       "      <td>no pet</td>\n",
       "      <td>on site</td>\n",
       "      <td>proctected</td>\n",
       "      <td>NaN</td>\n",
       "      <td>single</td>\n",
       "      <td>NaN</td>\n",
       "    </tr>\n",
       "  </tbody>\n",
       "</table>\n",
       "</div>"
      ],
      "text/plain": [
       "                                      post_title_texts  post_prices    sqfts  \\\n",
       "167  Luxury 10,000 sq ft Colonial Estate in Sterlin...      18900.0  10000.0   \n",
       "\n",
       "                                            post_links  bedroom_counts  \\\n",
       "167  https://newyork.craigslist.org/wch/apa/d/harri...             5.0   \n",
       "\n",
       "      post_hoods       post_timing  No_of_bathrooms  latitude  longitude  \\\n",
       "167   (Harrison)  2021-02-18 12:13              6.0  40.98403 -73.733941   \n",
       "\n",
       "        pet  laundry     parking floor Apartment_type smoking  \n",
       "167  no pet  on site  proctected   NaN         single     NaN  "
      ]
     },
     "execution_count": 306,
     "metadata": {},
     "output_type": "execute_result"
    }
   ],
   "source": [
    "#observe one extreme outlier\n",
    "df_york[df_york['post_prices']>17500]"
   ]
  },
  {
   "cell_type": "code",
   "execution_count": 307,
   "id": "absent-probe",
   "metadata": {},
   "outputs": [],
   "source": [
    "#remove one extreme value from newyork listing\n",
    "df_york = df_york[df_york['post_prices']<17500]"
   ]
  },
  {
   "cell_type": "code",
   "execution_count": 308,
   "id": "monetary-surrey",
   "metadata": {},
   "outputs": [
    {
     "data": {
      "text/plain": [
       "Text(0.5, 1.0, 'histogram for post price newyork')"
      ]
     },
     "execution_count": 308,
     "metadata": {},
     "output_type": "execute_result"
    },
    {
     "data": {
      "image/png": "[encoded data removed]",
      "text/plain": [
       "<Figure size 360x360 with 1 Axes>"
      ]
     },
     "metadata": {
      "needs_background": "light"
     },
     "output_type": "display_data"
    }
   ],
   "source": [
    "#make a histogram of the post_prices\n",
    "ax = sns.displot(df_york['post_prices'])\n",
    "plt.title(\"histogram for post price newyork\")"
   ]
  },
  {
   "cell_type": "code",
   "execution_count": 309,
   "id": "compliant-adjustment",
   "metadata": {},
   "outputs": [
    {
     "data": {
      "text/plain": [
       "Text(0.5, 1.0, 'histogram for post_price philly')"
      ]
     },
     "execution_count": 309,
     "metadata": {},
     "output_type": "execute_result"
    },
    {
     "data": {
      "image/png": "[encoded data removed]",
      "text/plain": [
       "<Figure size 360x360 with 1 Axes>"
      ]
     },
     "metadata": {
      "needs_background": "light"
     },
     "output_type": "display_data"
    }
   ],
   "source": [
    "#make a histogram of the post_prices for philly\n",
    "ax = sns.displot(df_philly['post_prices'])\n",
    "plt.title('histogram for post_price philly')"
   ]
  },
  {
   "cell_type": "code",
   "execution_count": 310,
   "id": "graphic-thursday",
   "metadata": {},
   "outputs": [
    {
     "data": {
      "image/png": "[encoded data removed]",
      "text/plain": [
       "<Figure size 432x288 with 1 Axes>"
      ]
     },
     "metadata": {
      "needs_background": "light"
     },
     "output_type": "display_data"
    }
   ],
   "source": [
    "df_york.plot(x='bedroom_counts', y='post_prices', kind='scatter', title = 'newyork');"
   ]
  },
  {
   "cell_type": "code",
   "execution_count": 311,
   "id": "secret-sight",
   "metadata": {},
   "outputs": [
    {
     "data": {
      "image/png": "[encoded data removed]",
      "text/plain": [
       "<Figure size 432x288 with 1 Axes>"
      ]
     },
     "metadata": {
      "needs_background": "light"
     },
     "output_type": "display_data"
    }
   ],
   "source": [
    "df_philly.plot(x='bedroom_counts', y='post_prices', kind='scatter', title = 'Philly');"
   ]
  },
  {
   "cell_type": "markdown",
   "id": "liquid-nursing",
   "metadata": {},
   "source": [
    "### we can clearly see some housing price are near to the $0, we need to take care of them"
   ]
  },
  {
   "cell_type": "code",
   "execution_count": 312,
   "id": "prerequisite-coupon",
   "metadata": {},
   "outputs": [
    {
     "data": {
      "text/html": [
       "<div>\n",
       "<style scoped>\n",
       "    .dataframe tbody tr th:only-of-type {\n",
       "        vertical-align: middle;\n",
       "    }\n",
       "\n",
       "    .dataframe tbody tr th {\n",
       "        vertical-align: top;\n",
       "    }\n",
       "\n",
       "    .dataframe thead th {\n",
       "        text-align: right;\n",
       "    }\n",
       "</style>\n",
       "<table border=\"1\" class=\"dataframe\">\n",
       "  <thead>\n",
       "    <tr style=\"text-align: right;\">\n",
       "      <th></th>\n",
       "      <th>post_title_texts</th>\n",
       "      <th>post_prices</th>\n",
       "      <th>bedroom_counts</th>\n",
       "    </tr>\n",
       "  </thead>\n",
       "  <tbody>\n",
       "    <tr>\n",
       "      <th>76</th>\n",
       "      <td>大學點海景一房/兩房一廳出租Sea View College Point 1BR/2BR f...</td>\n",
       "      <td>0.0</td>\n",
       "      <td>2.0</td>\n",
       "    </tr>\n",
       "    <tr>\n",
       "      <th>288</th>\n",
       "      <td>Nice studio apartment</td>\n",
       "      <td>350.0</td>\n",
       "      <td>1.0</td>\n",
       "    </tr>\n",
       "    <tr>\n",
       "      <th>2359</th>\n",
       "      <td>BEDSTUY BUILDING FOR SALE! MOTIVATED SELLER!</td>\n",
       "      <td>0.0</td>\n",
       "      <td>NaN</td>\n",
       "    </tr>\n",
       "    <tr>\n",
       "      <th>2811</th>\n",
       "      <td>$1,6oo 1Bed 1Bath (2-Units!) w/Backyard+RearPorch</td>\n",
       "      <td>1.0</td>\n",
       "      <td>1.0</td>\n",
       "    </tr>\n",
       "    <tr>\n",
       "      <th>2849</th>\n",
       "      <td>$1,7oo 1Bed 1Bath LOFT w/Rooftop</td>\n",
       "      <td>1.0</td>\n",
       "      <td>1.0</td>\n",
       "    </tr>\n",
       "    <tr>\n",
       "      <th>2854</th>\n",
       "      <td>$2,1oo FLEX 3Bed/2Bed-1Bath 1st Floor w/Garage</td>\n",
       "      <td>2.0</td>\n",
       "      <td>2.0</td>\n",
       "    </tr>\n",
       "    <tr>\n",
       "      <th>2857</th>\n",
       "      <td>$2,3oo 2BR w/2Baths+Elevator+Laundry+2Rooftops...</td>\n",
       "      <td>2.0</td>\n",
       "      <td>2.0</td>\n",
       "    </tr>\n",
       "    <tr>\n",
       "      <th>2859</th>\n",
       "      <td>$2,4oo 3Bed 1Bath off Steinway St</td>\n",
       "      <td>2.0</td>\n",
       "      <td>3.0</td>\n",
       "    </tr>\n",
       "  </tbody>\n",
       "</table>\n",
       "</div>"
      ],
      "text/plain": [
       "                                       post_title_texts  post_prices  \\\n",
       "76    大學點海景一房/兩房一廳出租Sea View College Point 1BR/2BR f...          0.0   \n",
       "288                               Nice studio apartment        350.0   \n",
       "2359       BEDSTUY BUILDING FOR SALE! MOTIVATED SELLER!          0.0   \n",
       "2811  $1,6oo 1Bed 1Bath (2-Units!) w/Backyard+RearPorch          1.0   \n",
       "2849                   $1,7oo 1Bed 1Bath LOFT w/Rooftop          1.0   \n",
       "2854     $2,1oo FLEX 3Bed/2Bed-1Bath 1st Floor w/Garage          2.0   \n",
       "2857  $2,3oo 2BR w/2Baths+Elevator+Laundry+2Rooftops...          2.0   \n",
       "2859                  $2,4oo 3Bed 1Bath off Steinway St          2.0   \n",
       "\n",
       "      bedroom_counts  \n",
       "76               2.0  \n",
       "288              1.0  \n",
       "2359             NaN  \n",
       "2811             1.0  \n",
       "2849             1.0  \n",
       "2854             2.0  \n",
       "2857             2.0  \n",
       "2859             3.0  "
      ]
     },
     "execution_count": 312,
     "metadata": {},
     "output_type": "execute_result"
    }
   ],
   "source": [
    "#There is price in the post_title_texts for five of the apartment with price of $1 and $2 \n",
    "#one apartment has price $0 \n",
    "#it's written studio in text but the number of bedroom is 1 for studio room \n",
    "df_york[df_york['post_prices']<500][['post_title_texts', 'post_prices', 'bedroom_counts']]"
   ]
  },
  {
   "cell_type": "code",
   "execution_count": 313,
   "id": "institutional-conjunction",
   "metadata": {},
   "outputs": [],
   "source": [
    "#also we can see the last '00' is written with 'oo' so it is like difficult to extrac\n",
    "#There are just five rows so it's not necessary to create any funciton to replace them i did manually\n",
    "df_york.loc[2811, 'post_prices'] = 1600\n",
    "df_york.loc[2849, 'post_prices'] = 1700\n",
    "df_york.loc[2854, 'post_prices'] = 2100\n",
    "df_york.loc[2857, 'post_prices'] = 2300\n",
    "df_york.loc[2859, 'post_prices'] = 2400"
   ]
  },
  {
   "cell_type": "code",
   "execution_count": 314,
   "id": "acknowledged-deficit",
   "metadata": {},
   "outputs": [],
   "source": [
    "#Replacing one $0 post price by mean of bedrooms and Apartment type\n",
    "df_york.loc[76, 'post_prices'] = df_york.groupby(['bedroom_counts', 'Apartment_type'])['post_prices'].mean()[2][2]"
   ]
  },
  {
   "cell_type": "code",
   "execution_count": 315,
   "id": "preliminary-thompson",
   "metadata": {},
   "outputs": [
    {
     "data": {
      "text/html": [
       "<div>\n",
       "<style scoped>\n",
       "    .dataframe tbody tr th:only-of-type {\n",
       "        vertical-align: middle;\n",
       "    }\n",
       "\n",
       "    .dataframe tbody tr th {\n",
       "        vertical-align: top;\n",
       "    }\n",
       "\n",
       "    .dataframe thead th {\n",
       "        text-align: right;\n",
       "    }\n",
       "</style>\n",
       "<table border=\"1\" class=\"dataframe\">\n",
       "  <thead>\n",
       "    <tr style=\"text-align: right;\">\n",
       "      <th></th>\n",
       "      <th>post_title_texts</th>\n",
       "      <th>post_prices</th>\n",
       "      <th>bedroom_counts</th>\n",
       "      <th>Apartment_type</th>\n",
       "    </tr>\n",
       "  </thead>\n",
       "  <tbody>\n",
       "    <tr>\n",
       "      <th>166</th>\n",
       "      <td>Rad house in West Philly seeking roommate, ACA...</td>\n",
       "      <td>300</td>\n",
       "      <td>1.0</td>\n",
       "      <td>multi</td>\n",
       "    </tr>\n",
       "    <tr>\n",
       "      <th>544</th>\n",
       "      <td>Newly Renovated Apartments</td>\n",
       "      <td>0</td>\n",
       "      <td>1.0</td>\n",
       "      <td>multi</td>\n",
       "    </tr>\n",
       "    <tr>\n",
       "      <th>1559</th>\n",
       "      <td>Affordable Senior Living!!!</td>\n",
       "      <td>460</td>\n",
       "      <td>1.0</td>\n",
       "      <td>multi</td>\n",
       "    </tr>\n",
       "    <tr>\n",
       "      <th>1568</th>\n",
       "      <td>Immediate Move In For 1 Bedroom / 1 Bathroom</td>\n",
       "      <td>490</td>\n",
       "      <td>1.0</td>\n",
       "      <td>multi</td>\n",
       "    </tr>\n",
       "    <tr>\n",
       "      <th>2162</th>\n",
       "      <td>ROOM  FOR RENT in Frencisville</td>\n",
       "      <td>450</td>\n",
       "      <td>1.0</td>\n",
       "      <td>single</td>\n",
       "    </tr>\n",
       "  </tbody>\n",
       "</table>\n",
       "</div>"
      ],
      "text/plain": [
       "                                       post_title_texts  post_prices  \\\n",
       "166   Rad house in West Philly seeking roommate, ACA...          300   \n",
       "544                          Newly Renovated Apartments            0   \n",
       "1559                        Affordable Senior Living!!!          460   \n",
       "1568       Immediate Move In For 1 Bedroom / 1 Bathroom          490   \n",
       "2162                     ROOM  FOR RENT in Frencisville          450   \n",
       "\n",
       "      bedroom_counts Apartment_type  \n",
       "166              1.0          multi  \n",
       "544              1.0          multi  \n",
       "1559             1.0          multi  \n",
       "1568             1.0          multi  \n",
       "2162             1.0         single  "
      ]
     },
     "execution_count": 315,
     "metadata": {},
     "output_type": "execute_result"
    }
   ],
   "source": [
    "#There is just one post with price 0 # for philly\n",
    "df_philly[df_philly['post_prices']<500][['post_title_texts', 'post_prices', 'bedroom_counts', 'Apartment_type']]"
   ]
  },
  {
   "cell_type": "code",
   "execution_count": 316,
   "id": "seventh-daisy",
   "metadata": {},
   "outputs": [],
   "source": [
    "#Replacing one $0 post price by mean of bedrooms and Apartment type \n",
    "df_philly.loc[544, 'post_prices'] = df_philly.groupby(['bedroom_counts', 'Apartment_type'])['post_prices'].mean()[1][1]"
   ]
  },
  {
   "cell_type": "markdown",
   "id": "needed-beijing",
   "metadata": {},
   "source": [
    "### Replace the studio with 1bedroom to 0 bedroom"
   ]
  },
  {
   "cell_type": "code",
   "execution_count": 317,
   "id": "coupled-bernard",
   "metadata": {},
   "outputs": [],
   "source": [
    "df_york['studio_bed_1'] = df_york.loc[df_york['bedroom_counts']== 1, 'post_title_texts'].str.find('studio')"
   ]
  },
  {
   "cell_type": "code",
   "execution_count": 318,
   "id": "centered-fifteen",
   "metadata": {},
   "outputs": [],
   "source": [
    "df_philly['studio_bed_1'] = df_philly.loc[df_philly['bedroom_counts']== 1, 'post_title_texts'].str.find('studio')"
   ]
  },
  {
   "cell_type": "code",
   "execution_count": 319,
   "id": "weighted-cleaners",
   "metadata": {},
   "outputs": [
    {
     "data": {
      "text/plain": [
       "-1.0     799\n",
       " 19.0      1\n",
       " 11.0      1\n",
       " 16.0      1\n",
       " 21.0      1\n",
       " 6.0       1\n",
       "Name: studio_bed_1, dtype: int64"
      ]
     },
     "execution_count": 319,
     "metadata": {},
     "output_type": "execute_result"
    }
   ],
   "source": [
    "df_philly['studio_bed_1'].value_counts()"
   ]
  },
  {
   "cell_type": "code",
   "execution_count": 320,
   "id": "local-installation",
   "metadata": {},
   "outputs": [
    {
     "data": {
      "text/plain": [
       "-1.0    798\n",
       " 0.0      2\n",
       " 5.0      1\n",
       "Name: studio_bed_1, dtype: int64"
      ]
     },
     "execution_count": 320,
     "metadata": {},
     "output_type": "execute_result"
    }
   ],
   "source": [
    "df_york['studio_bed_1'].value_counts()"
   ]
  },
  {
   "cell_type": "code",
   "execution_count": 321,
   "id": "cognitive-fluid",
   "metadata": {},
   "outputs": [
    {
     "name": "stdout",
     "output_type": "stream",
     "text": [
      "     post_title_texts  bedroom_counts\n",
      "1409     Great studio             1.0\n",
      "                           post_title_texts  bedroom_counts\n",
      "1345  Fairmount/Art Museum studio with loft             1.0\n",
      "                                       post_title_texts  bedroom_counts\n",
      "2310  Soaking tubs, Yoga studio, Elevators, Grilling...             1.0\n",
      "                             post_title_texts  bedroom_counts\n",
      "1352  Convenient studio in heart of Fairmount             1.0\n",
      "                                       post_title_texts  bedroom_counts\n",
      "2159  Quaint Narberth studio, high floor w/balcony n...             1.0\n"
     ]
    }
   ],
   "source": [
    "print(df_philly.loc[df_philly['studio_bed_1']== 6.0, ['post_title_texts','bedroom_counts']])\n",
    "print(df_philly.loc[df_philly['studio_bed_1']==21.0,['post_title_texts','bedroom_counts']])\n",
    "print(df_philly.loc[df_philly['studio_bed_1']==19.0,['post_title_texts','bedroom_counts']])\n",
    "print(df_philly.loc[df_philly['studio_bed_1']==11.0,['post_title_texts','bedroom_counts']])\n",
    "print(df_philly.loc[df_philly['studio_bed_1']==16.0,['post_title_texts','bedroom_counts']])"
   ]
  },
  {
   "cell_type": "code",
   "execution_count": 322,
   "id": "individual-projector",
   "metadata": {},
   "outputs": [
    {
     "name": "stdout",
     "output_type": "stream",
     "text": [
      "                                       post_title_texts  bedroom_counts\n",
      "2477   studio all included rent stabilization 1mothfree             1.0\n",
      "2479  studio all included rent stabilization 1month ...             1.0\n",
      "          post_title_texts  bedroom_counts\n",
      "288  Nice studio apartment             1.0\n"
     ]
    }
   ],
   "source": [
    "print(df_york.loc[df_york['studio_bed_1']==0.0, ['post_title_texts','bedroom_counts']])\n",
    "print(df_york.loc[df_york['studio_bed_1']==5.0, ['post_title_texts', 'bedroom_counts']])"
   ]
  },
  {
   "cell_type": "code",
   "execution_count": 323,
   "id": "loving-insured",
   "metadata": {},
   "outputs": [],
   "source": [
    "#There are just three replaceing manually with 0 \n",
    "df_york.loc[2477, 'bedroom_counts'] = 0\n",
    "df_york.loc[2479, 'bedroom_counts'] = 0\n",
    "df_york.loc[288, 'bedroom_counts'] = 0"
   ]
  },
  {
   "cell_type": "code",
   "execution_count": 324,
   "id": "extreme-search",
   "metadata": {},
   "outputs": [],
   "source": [
    "#Manually replacing the bedroom to 0\n",
    "df_philly.loc[1409, 'bedroom_counts'] = 0\n",
    "df_philly.loc[1345, 'bedroom_counts'] = 0\n",
    "df_philly.loc[2310, 'bedroom_counts'] = 0\n",
    "df_philly.loc[1352, 'bedroom_counts'] = 0\n",
    "df_philly.loc[2159, 'bedroom_counts'] = 0"
   ]
  },
  {
   "cell_type": "markdown",
   "id": "dependent-excerpt",
   "metadata": {},
   "source": [
    "## There are list of apartments which are highly unusal in sqfts"
   ]
  },
  {
   "cell_type": "code",
   "execution_count": 325,
   "id": "given-fabric",
   "metadata": {},
   "outputs": [
    {
     "data": {
      "text/html": [
       "<div>\n",
       "<style scoped>\n",
       "    .dataframe tbody tr th:only-of-type {\n",
       "        vertical-align: middle;\n",
       "    }\n",
       "\n",
       "    .dataframe tbody tr th {\n",
       "        vertical-align: top;\n",
       "    }\n",
       "\n",
       "    .dataframe thead th {\n",
       "        text-align: right;\n",
       "    }\n",
       "</style>\n",
       "<table border=\"1\" class=\"dataframe\">\n",
       "  <thead>\n",
       "    <tr style=\"text-align: right;\">\n",
       "      <th></th>\n",
       "      <th>post_title_texts</th>\n",
       "      <th>post_prices</th>\n",
       "      <th>sqfts</th>\n",
       "      <th>post_links</th>\n",
       "      <th>bedroom_counts</th>\n",
       "      <th>post_hoods</th>\n",
       "      <th>post_timing</th>\n",
       "      <th>No_of_bathrooms</th>\n",
       "      <th>latitude</th>\n",
       "      <th>longitude</th>\n",
       "      <th>pet</th>\n",
       "      <th>laundry</th>\n",
       "      <th>parking</th>\n",
       "      <th>floor</th>\n",
       "      <th>Apartment_type</th>\n",
       "      <th>smoking</th>\n",
       "      <th>studio_bed_1</th>\n",
       "    </tr>\n",
       "  </thead>\n",
       "  <tbody>\n",
       "    <tr>\n",
       "      <th>248</th>\n",
       "      <td>Beautiful Exton Community</td>\n",
       "      <td>1634.0</td>\n",
       "      <td>2.0</td>\n",
       "      <td>https://philadelphia.craigslist.org/apa/d/exto...</td>\n",
       "      <td>2.0</td>\n",
       "      <td>(Exton PA)</td>\n",
       "      <td>2021-02-18 12:42</td>\n",
       "      <td>2.0</td>\n",
       "      <td>40.0468</td>\n",
       "      <td>-75.6432</td>\n",
       "      <td>both pets</td>\n",
       "      <td>in unit</td>\n",
       "      <td>off-street</td>\n",
       "      <td>NaN</td>\n",
       "      <td>multi</td>\n",
       "      <td>NaN</td>\n",
       "      <td>NaN</td>\n",
       "    </tr>\n",
       "  </tbody>\n",
       "</table>\n",
       "</div>"
      ],
      "text/plain": [
       "              post_title_texts  post_prices  sqfts  \\\n",
       "248  Beautiful Exton Community       1634.0    2.0   \n",
       "\n",
       "                                            post_links  bedroom_counts  \\\n",
       "248  https://philadelphia.craigslist.org/apa/d/exto...             2.0   \n",
       "\n",
       "      post_hoods       post_timing  No_of_bathrooms  latitude  longitude  \\\n",
       "248   (Exton PA)  2021-02-18 12:42              2.0   40.0468   -75.6432   \n",
       "\n",
       "           pet  laundry     parking floor Apartment_type smoking  studio_bed_1  \n",
       "248  both pets  in unit  off-street   NaN          multi     NaN           NaN  "
      ]
     },
     "execution_count": 325,
     "metadata": {},
     "output_type": "execute_result"
    }
   ],
   "source": [
    "df_philly[df_philly['sqfts']<96]"
   ]
  },
  {
   "cell_type": "code",
   "execution_count": 326,
   "id": "restricted-romania",
   "metadata": {},
   "outputs": [
    {
     "data": {
      "text/plain": [
       "8"
      ]
     },
     "execution_count": 326,
     "metadata": {},
     "output_type": "execute_result"
    }
   ],
   "source": [
    "len(df_philly[df_philly['sqfts']>5000])"
   ]
  },
  {
   "cell_type": "code",
   "execution_count": 327,
   "id": "prepared-adjustment",
   "metadata": {},
   "outputs": [],
   "source": [
    "df_philly.loc[df_philly['sqfts']<96, 'sqfts'] =  df_philly.groupby(['bedroom_counts', 'Apartment_type'])['sqfts'].transform('mean')"
   ]
  },
  {
   "cell_type": "code",
   "execution_count": 328,
   "id": "preceding-repository",
   "metadata": {},
   "outputs": [],
   "source": [
    "df_philly.loc[df_philly['sqfts']>5000, 'sqfts'] = df_philly.groupby(['bedroom_counts', 'Apartment_type'])['sqfts'].transform('mean')"
   ]
  },
  {
   "cell_type": "markdown",
   "id": "composed-chosen",
   "metadata": {},
   "source": [
    "## Dropping the columns with more than 50% missing values and unwanted columns "
   ]
  },
  {
   "cell_type": "code",
   "execution_count": 329,
   "id": "numerical-methodology",
   "metadata": {},
   "outputs": [],
   "source": [
    "#drop the we created colum studio_bed_1\n",
    "df_york= df_york.drop(columns = ['studio_bed_1','floor','smoking'], axis = 1)\n",
    "df_philly = df_philly.drop(columns = ['studio_bed_1','floor', 'smoking'], axis = 1)"
   ]
  },
  {
   "cell_type": "markdown",
   "id": "quarterly-industry",
   "metadata": {},
   "source": [
    "### drop the missing values  of bedrooms counts"
   ]
  },
  {
   "cell_type": "code",
   "execution_count": 330,
   "id": "manufactured-oriental",
   "metadata": {},
   "outputs": [],
   "source": [
    "#drop the missing bedroom rows\n",
    "df_york = df_york.dropna(subset = ['bedroom_counts'])\n",
    "df_philly = df_philly.dropna(subset = ['bedroom_counts', 'latitude', 'longitude'])"
   ]
  },
  {
   "cell_type": "code",
   "execution_count": 331,
   "id": "spare-sodium",
   "metadata": {},
   "outputs": [
    {
     "name": "stdout",
     "output_type": "stream",
     "text": [
      "<class 'pandas.core.frame.DataFrame'>\n",
      "Int64Index: 1814 entries, 0 to 2452\n",
      "Data columns (total 14 columns):\n",
      " #   Column            Non-Null Count  Dtype  \n",
      "---  ------            --------------  -----  \n",
      " 0   post_title_texts  1814 non-null   object \n",
      " 1   post_prices       1814 non-null   float64\n",
      " 2   sqfts             1814 non-null   float64\n",
      " 3   post_links        1814 non-null   object \n",
      " 4   bedroom_counts    1814 non-null   float64\n",
      " 5   post_hoods        1814 non-null   object \n",
      " 6   post_timing       1814 non-null   object \n",
      " 7   No_of_bathrooms   1814 non-null   float64\n",
      " 8   latitude          1814 non-null   float64\n",
      " 9   longitude         1814 non-null   float64\n",
      " 10  pet               1814 non-null   object \n",
      " 11  laundry           1814 non-null   object \n",
      " 12  parking           1814 non-null   object \n",
      " 13  Apartment_type    1814 non-null   object \n",
      "dtypes: float64(6), object(8)\n",
      "memory usage: 212.6+ KB\n"
     ]
    }
   ],
   "source": [
    "df_philly.info()"
   ]
  },
  {
   "cell_type": "code",
   "execution_count": 332,
   "id": "damaged-lodging",
   "metadata": {},
   "outputs": [
    {
     "name": "stdout",
     "output_type": "stream",
     "text": [
      "<class 'pandas.core.frame.DataFrame'>\n",
      "Int64Index: 2326 entries, 0 to 2924\n",
      "Data columns (total 14 columns):\n",
      " #   Column            Non-Null Count  Dtype  \n",
      "---  ------            --------------  -----  \n",
      " 0   post_title_texts  2326 non-null   object \n",
      " 1   post_prices       2326 non-null   float64\n",
      " 2   sqfts             2322 non-null   float64\n",
      " 3   post_links        2326 non-null   object \n",
      " 4   bedroom_counts    2326 non-null   float64\n",
      " 5   post_hoods        2326 non-null   object \n",
      " 6   post_timing       2326 non-null   object \n",
      " 7   No_of_bathrooms   2326 non-null   float64\n",
      " 8   latitude          2326 non-null   float64\n",
      " 9   longitude         2326 non-null   float64\n",
      " 10  pet               2326 non-null   object \n",
      " 11  laundry           2326 non-null   object \n",
      " 12  parking           2326 non-null   object \n",
      " 13  Apartment_type    2326 non-null   object \n",
      "dtypes: float64(6), object(8)\n",
      "memory usage: 272.6+ KB\n"
     ]
    }
   ],
   "source": [
    "df_york.info()"
   ]
  },
  {
   "cell_type": "code",
   "execution_count": 333,
   "id": "handy-pound",
   "metadata": {},
   "outputs": [
    {
     "data": {
      "text/html": [
       "<div>\n",
       "<style scoped>\n",
       "    .dataframe tbody tr th:only-of-type {\n",
       "        vertical-align: middle;\n",
       "    }\n",
       "\n",
       "    .dataframe tbody tr th {\n",
       "        vertical-align: top;\n",
       "    }\n",
       "\n",
       "    .dataframe thead th {\n",
       "        text-align: right;\n",
       "    }\n",
       "</style>\n",
       "<table border=\"1\" class=\"dataframe\">\n",
       "  <thead>\n",
       "    <tr style=\"text-align: right;\">\n",
       "      <th></th>\n",
       "      <th>post_title_texts</th>\n",
       "      <th>post_prices</th>\n",
       "      <th>sqfts</th>\n",
       "      <th>post_links</th>\n",
       "      <th>bedroom_counts</th>\n",
       "      <th>post_hoods</th>\n",
       "      <th>post_timing</th>\n",
       "      <th>No_of_bathrooms</th>\n",
       "      <th>latitude</th>\n",
       "      <th>longitude</th>\n",
       "      <th>pet</th>\n",
       "      <th>laundry</th>\n",
       "      <th>parking</th>\n",
       "      <th>Apartment_type</th>\n",
       "    </tr>\n",
       "  </thead>\n",
       "  <tbody>\n",
       "    <tr>\n",
       "      <th>317</th>\n",
       "      <td>7 Bedroom 3 Bathroom Bushwick Duplex Loft 2000...</td>\n",
       "      <td>4500.0</td>\n",
       "      <td>NaN</td>\n",
       "      <td>https://newyork.craigslist.org/brk/apa/d/brook...</td>\n",
       "      <td>7.0</td>\n",
       "      <td>(Bushwick)</td>\n",
       "      <td>2021-02-18 00:20</td>\n",
       "      <td>3.0</td>\n",
       "      <td>40.688050</td>\n",
       "      <td>-73.918800</td>\n",
       "      <td>both pets</td>\n",
       "      <td>on site</td>\n",
       "      <td>no</td>\n",
       "      <td>multi</td>\n",
       "    </tr>\n",
       "    <tr>\n",
       "      <th>451</th>\n",
       "      <td>1 BEDROOM DUPLEX APARTMENT IN PRIME CLINTON HI...</td>\n",
       "      <td>2150.0</td>\n",
       "      <td>NaN</td>\n",
       "      <td>https://newyork.craigslist.org/brk/apa/d/brook...</td>\n",
       "      <td>1.0</td>\n",
       "      <td>(CLINTON HILL)</td>\n",
       "      <td>2021-02-17 16:46</td>\n",
       "      <td>1.5</td>\n",
       "      <td>40.701200</td>\n",
       "      <td>-73.943600</td>\n",
       "      <td>both pets</td>\n",
       "      <td>in unit</td>\n",
       "      <td>no</td>\n",
       "      <td>double</td>\n",
       "    </tr>\n",
       "    <tr>\n",
       "      <th>1029</th>\n",
       "      <td>Super huge 6br/2.5bath triplex+private backyar...</td>\n",
       "      <td>4000.0</td>\n",
       "      <td>NaN</td>\n",
       "      <td>https://newyork.craigslist.org/brk/apa/d/brook...</td>\n",
       "      <td>6.0</td>\n",
       "      <td>(Bed Stuy @ Myrtle Ave JMZ+ Myrtle/WilloughbyG)</td>\n",
       "      <td>2021-02-16 16:43</td>\n",
       "      <td>2.5</td>\n",
       "      <td>40.692317</td>\n",
       "      <td>-73.939898</td>\n",
       "      <td>both pets</td>\n",
       "      <td>on site</td>\n",
       "      <td>no</td>\n",
       "      <td>double</td>\n",
       "    </tr>\n",
       "    <tr>\n",
       "      <th>2016</th>\n",
       "      <td>1 BED DUPLEX APARTMENT WITH A PRIVATE BACKYARD...</td>\n",
       "      <td>2150.0</td>\n",
       "      <td>NaN</td>\n",
       "      <td>https://newyork.craigslist.org/brk/apa/d/brook...</td>\n",
       "      <td>1.0</td>\n",
       "      <td>(CLINTON HILL)</td>\n",
       "      <td>2021-02-14 20:11</td>\n",
       "      <td>1.5</td>\n",
       "      <td>40.692400</td>\n",
       "      <td>-73.966600</td>\n",
       "      <td>both pets</td>\n",
       "      <td>in unit</td>\n",
       "      <td>no</td>\n",
       "      <td>double</td>\n",
       "    </tr>\n",
       "  </tbody>\n",
       "</table>\n",
       "</div>"
      ],
      "text/plain": [
       "                                       post_title_texts  post_prices  sqfts  \\\n",
       "317   7 Bedroom 3 Bathroom Bushwick Duplex Loft 2000...       4500.0    NaN   \n",
       "451   1 BEDROOM DUPLEX APARTMENT IN PRIME CLINTON HI...       2150.0    NaN   \n",
       "1029  Super huge 6br/2.5bath triplex+private backyar...       4000.0    NaN   \n",
       "2016  1 BED DUPLEX APARTMENT WITH A PRIVATE BACKYARD...       2150.0    NaN   \n",
       "\n",
       "                                             post_links  bedroom_counts  \\\n",
       "317   https://newyork.craigslist.org/brk/apa/d/brook...             7.0   \n",
       "451   https://newyork.craigslist.org/brk/apa/d/brook...             1.0   \n",
       "1029  https://newyork.craigslist.org/brk/apa/d/brook...             6.0   \n",
       "2016  https://newyork.craigslist.org/brk/apa/d/brook...             1.0   \n",
       "\n",
       "                                            post_hoods       post_timing  \\\n",
       "317                                         (Bushwick)  2021-02-18 00:20   \n",
       "451                                     (CLINTON HILL)  2021-02-17 16:46   \n",
       "1029   (Bed Stuy @ Myrtle Ave JMZ+ Myrtle/WilloughbyG)  2021-02-16 16:43   \n",
       "2016                                    (CLINTON HILL)  2021-02-14 20:11   \n",
       "\n",
       "      No_of_bathrooms   latitude  longitude        pet  laundry parking  \\\n",
       "317               3.0  40.688050 -73.918800  both pets  on site      no   \n",
       "451               1.5  40.701200 -73.943600  both pets  in unit      no   \n",
       "1029              2.5  40.692317 -73.939898  both pets  on site      no   \n",
       "2016              1.5  40.692400 -73.966600  both pets  in unit      no   \n",
       "\n",
       "     Apartment_type  \n",
       "317           multi  \n",
       "451          double  \n",
       "1029         double  \n",
       "2016         double  "
      ]
     },
     "execution_count": 333,
     "metadata": {},
     "output_type": "execute_result"
    }
   ],
   "source": [
    "df_york[df_york['sqfts'].isna()]"
   ]
  },
  {
   "cell_type": "code",
   "execution_count": 334,
   "id": "equivalent-latest",
   "metadata": {},
   "outputs": [],
   "source": [
    "df_york = df_york.dropna(subset = ['sqfts'])"
   ]
  },
  {
   "cell_type": "code",
   "execution_count": 335,
   "id": "fallen-following",
   "metadata": {},
   "outputs": [],
   "source": [
    "df_york.to_csv('data/df_york_cleaned.csv')\n",
    "df_philly.to_csv('data/df_philly_cleaned.csv')"
   ]
  },
  {
   "cell_type": "code",
   "execution_count": 336,
   "id": "twenty-chester",
   "metadata": {},
   "outputs": [
    {
     "data": {
      "image/png": "[encoded data removed]",
      "text/plain": [
       "<Figure size 864x576 with 1 Axes>"
      ]
     },
     "metadata": {
      "needs_background": "light"
     },
     "output_type": "display_data"
    }
   ],
   "source": [
    "plt.subplots(figsize=(12, 8))\n",
    "sns.boxplot(x='bedroom_counts', y='post_prices', hue='Apartment_type', data=df_york)\n",
    "plt.xticks(rotation='vertical')\n",
    "plt.ylabel('Price ($)')\n",
    "plt.xlabel('bedroom_counts');"
   ]
  },
  {
   "cell_type": "code",
   "execution_count": 337,
   "id": "lucky-marine",
   "metadata": {},
   "outputs": [],
   "source": [
    "#We can see the huge outliers in average price for 1,2 and 3 bedrooms for multi\n",
    "# But the inter quartile range is comparatively smaller than 4 and 5 bedroom"
   ]
  },
  {
   "cell_type": "code",
   "execution_count": 338,
   "id": "compatible-dictionary",
   "metadata": {},
   "outputs": [],
   "source": [
    "#we have 8 rows post price greater than 6000\n",
    "df_york_gre = df_york[df_york['post_prices']>4000]"
   ]
  },
  {
   "cell_type": "code",
   "execution_count": 339,
   "id": "historical-kazakhstan",
   "metadata": {},
   "outputs": [],
   "source": [
    "street_map = gpd.read_file('newyork_map/geo_export_1ed09a15-55c0-4cb3-b8d6-9f16c559cb62.shp')"
   ]
  },
  {
   "cell_type": "code",
   "execution_count": 340,
   "id": "behind-convenience",
   "metadata": {},
   "outputs": [],
   "source": [
    "# designate coordinate system\n",
    "crs = {'init':\"EPSG:4326\"}"
   ]
  },
  {
   "cell_type": "code",
   "execution_count": 341,
   "id": "continental-initial",
   "metadata": {},
   "outputs": [
    {
     "name": "stderr",
     "output_type": "stream",
     "text": [
      "/opt/anaconda3/envs/Geo_pandas37/lib/python3.7/site-packages/pyproj/crs/crs.py:53: FutureWarning: '+init=<authority>:<code>' syntax is deprecated. '<authority>:<code>' is the preferred initialization method. When making the change, be mindful of axis order changes: https://pyproj4.github.io/pyproj/stable/gotchas.html#axis-order-changes-in-proj-6\n",
      "  return _prepare_from_string(\" \".join(pjargs))\n"
     ]
    },
    {
     "data": {
      "image/png": "[encoded data removed]",
      "text/plain": [
       "<Figure size 1080x1080 with 2 Axes>"
      ]
     },
     "metadata": {
      "needs_background": "light"
     },
     "output_type": "display_data"
    }
   ],
   "source": [
    "geometry = [Point(xy) for xy in zip(df_york['longitude'], df_york['latitude'])]\n",
    "geo_df = gpd.GeoDataFrame(df_york,crs = crs,geometry = geometry)\n",
    "fig, ax = plt.subplots(figsize=(15,15))\n",
    "street_map.plot(ax=ax, alpha=0.4,color='grey')\n",
    "geo_df.plot(column='post_prices',ax=ax,alpha=0.5, legend=True, markersize=20)\n",
    "plt.title('Rental Prices in NYC', fontsize=15,fontweight='bold')\n",
    "plt.xlabel('latitude')\n",
    "plt.ylabel('longitude')\n",
    "plt.xlim(-74.3,-73.5)\n",
    "plt.ylim( 40.5,41.18)\n",
    "plt.show()"
   ]
  },
  {
   "cell_type": "code",
   "execution_count": 342,
   "id": "australian-pitch",
   "metadata": {},
   "outputs": [
    {
     "name": "stderr",
     "output_type": "stream",
     "text": [
      "/opt/anaconda3/envs/Geo_pandas37/lib/python3.7/site-packages/pyproj/crs/crs.py:53: FutureWarning: '+init=<authority>:<code>' syntax is deprecated. '<authority>:<code>' is the preferred initialization method. When making the change, be mindful of axis order changes: https://pyproj4.github.io/pyproj/stable/gotchas.html#axis-order-changes-in-proj-6\n",
      "  return _prepare_from_string(\" \".join(pjargs))\n"
     ]
    },
    {
     "data": {
      "image/png": "[encoded data removed]",
      "text/plain": [
       "<Figure size 1080x1080 with 2 Axes>"
      ]
     },
     "metadata": {
      "needs_background": "light"
     },
     "output_type": "display_data"
    }
   ],
   "source": [
    "geometry = [Point(xy) for xy in zip(df_york_gre['longitude'], df_york_gre['latitude'])]\n",
    "geo_df = gpd.GeoDataFrame(df_york_gre,crs = crs,geometry = geometry)\n",
    "fig, ax = plt.subplots(figsize=(15,15))\n",
    "street_map.plot(ax=ax, alpha=0.4,color='grey')\n",
    "geo_df.plot(column='post_prices',ax=ax,alpha=0.5, legend=True, markersize=20)\n",
    "# add title to graph\n",
    "plt.title('Rental Prices in NYC', fontsize=15,fontweight='bold')\n",
    "plt.xlabel('latitude')\n",
    "plt.ylabel('longitude')\n",
    "plt.xlim(-74.3,-73.5)\n",
    "plt.ylim( 40.5,41.18)\n",
    "plt.show()"
   ]
  },
  {
   "cell_type": "code",
   "execution_count": null,
   "id": "endangered-deposit",
   "metadata": {},
   "outputs": [],
   "source": []
  }
 ],
 "metadata": {
  "kernelspec": {
   "display_name": "Python 3",
   "language": "python",
   "name": "python3"
  },
  "language_info": {
   "codemirror_mode": {
    "name": "ipython",
    "version": 3
   },
   "file_extension": ".py",
   "mimetype": "text/x-python",
   "name": "python",
   "nbconvert_exporter": "python",
   "pygments_lexer": "ipython3",
   "version": "3.7.7"
  }
 },
 "nbformat": 4,
 "nbformat_minor": 5
}
