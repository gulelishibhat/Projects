{
 "cells": [
  {
   "cell_type": "markdown",
   "id": "european-queensland",
   "metadata": {},
   "source": [
    "Natural Language Processing  has already been the independent, broad  topic in the machine learning  and artifical intelligence. \n",
    "Among different branches of natural language , I am interested in the text processing to obtain the sentiment of the stock tweets. Stock tweets are not as broad as other normal tweets, they are related to particular topic, stock market.\n",
    "The big tech companies with tons of text data has built the platform  to facilitate the sentiment analysis. I choose the three different models likely built by  google, flair and vader.\n",
    "I have more than 2500 random tweets from stocktwits.com, which I use to obtain the sentiment score from these three pretrained model. My next step was to evaluate which one will create the better supervised model. Later,  I used Naive Bayes to  obtain the accuracy for three different models."
   ]
  },
  {
   "cell_type": "markdown",
   "id": "rapid-event",
   "metadata": {},
   "source": [
    "### Importing the modules required"
   ]
  },
  {
   "cell_type": "code",
   "execution_count": 2,
   "id": "foster-orbit",
   "metadata": {},
   "outputs": [
    {
     "name": "stderr",
     "output_type": "stream",
     "text": [
      "[nltk_data] Downloading package wordnet to\n",
      "[nltk_data]     /Users/student1/nltk_data...\n",
      "[nltk_data]   Package wordnet is already up-to-date!\n"
     ]
    }
   ],
   "source": [
    "#importing module\n",
    "from google.cloud import language\n",
    "from google.cloud.language import enums\n",
    "from google.cloud.language import types\n",
    "import os\n",
    "import pandas as pd\n",
    "import re\n",
    "from ipywidgets import IntProgress\n",
    "from nltk.sentiment.vader import SentimentIntensityAnalyzer\n",
    "from ipywidgets import IntProgress\n",
    "import flair\n",
    "from collections import defaultdict\n",
    "from collections import Counter\n",
    "import flair\n",
    "import glob\n",
    "import os\n",
    "import numpy as np\n",
    "import nltk\n",
    "import seaborn as sns\n",
    "import matplotlib.pyplot as plt\n",
    "from sklearn.feature_extraction.text import TfidfVectorizer\n",
    "from sklearn.model_selection import train_test_split\n",
    "from nltk.tokenize import TweetTokenizer\n",
    "from sklearn.naive_bayes import MultinomialNB\n",
    "from sklearn import metrics\n",
    "from nltk.stem import PorterStemmer\n",
    "nltk.download('wordnet')\n",
    "from nltk.stem import WordNetLemmatizer\n",
    "from sklearn.metrics import confusion_matrix"
   ]
  },
  {
   "cell_type": "markdown",
   "id": "requested-offense",
   "metadata": {},
   "source": [
    "I have more than 100 files ot .txt which I join them to single file using module name glob. Later, I appended all the tweets into a single list.\n",
    "I changed the list into pandas DataFrame which makes easy for text mining and modeling. I build the columns for  date, username and tweet after spliting."
   ]
  },
  {
   "cell_type": "markdown",
   "id": "fabulous-basin",
   "metadata": {},
   "source": [
    "### Import text file and merging into single list"
   ]
  },
  {
   "cell_type": "code",
   "execution_count": 5,
   "id": "certified-stock",
   "metadata": {},
   "outputs": [],
   "source": [
    "\n",
    "# the path to your csv file directory\n",
    "mycsvdir = '/Users/student1/Desktop/Spring_board_way_data_science/Capstone__3/Stock_twits'\n",
    "\n",
    "# get all the csv files in that directory (assuming they have the extension .csv)\n",
    "csvfiles = glob.glob(os.path.join(mycsvdir, '*.txt'))\n",
    "\n",
    "# loop through the files and read them in with pandas\n",
    " # a list to hold all the individual pandas DataFrames\n",
    "dataframes = []\n",
    "for csvfile in csvfiles:\n",
    "    with open(csvfile) as file_in:\n",
    "        lines = []\n",
    "        for line in file_in:\n",
    "            lines.append(line.rstrip('\\n'))\n",
    "        dataframes.append(lines)"
   ]
  },
  {
   "cell_type": "code",
   "execution_count": 246,
   "id": "authorized-aging",
   "metadata": {},
   "outputs": [],
   "source": [
    "#extract the date, user and twits into three different columns by spliting the data in  correct way\n",
    "df = pd.DataFrame(np.concatenate(dataframes, axis = 0))\n",
    "df['date'] = df[0].apply(lambda x: x.split(';')[0])\n",
    "df['user'] = df[0].apply(lambda x: x.split(';')[-1])\n",
    "df['twits'] = df[0].apply(lambda x: x.split(';')[1:-1])"
   ]
  },
  {
   "cell_type": "code",
   "execution_count": 248,
   "id": "yellow-property",
   "metadata": {},
   "outputs": [],
   "source": [
    "#drop the columns with column name zero\n",
    "df = df.drop(columns = 0)"
   ]
  },
  {
   "cell_type": "code",
   "execution_count": 260,
   "id": "monthly-building",
   "metadata": {},
   "outputs": [],
   "source": [
    "#save the data into new csv file\n",
    "df.to_csv('Twits_sample_data.csv')"
   ]
  },
  {
   "cell_type": "code",
   "execution_count": 4,
   "id": "appreciated-spiritual",
   "metadata": {},
   "outputs": [],
   "source": [
    "#read the csv file saved\n",
    "twits = pd.read_csv('Twits_sample_data.csv', index_col = 0)"
   ]
  },
  {
   "cell_type": "code",
   "execution_count": 5,
   "id": "fancy-lesson",
   "metadata": {
    "scrolled": true
   },
   "outputs": [
    {
     "data": {
      "text/html": [
       "<div>\n",
       "<style scoped>\n",
       "    .dataframe tbody tr th:only-of-type {\n",
       "        vertical-align: middle;\n",
       "    }\n",
       "\n",
       "    .dataframe tbody tr th {\n",
       "        vertical-align: top;\n",
       "    }\n",
       "\n",
       "    .dataframe thead th {\n",
       "        text-align: right;\n",
       "    }\n",
       "</style>\n",
       "<table border=\"1\" class=\"dataframe\">\n",
       "  <thead>\n",
       "    <tr style=\"text-align: right;\">\n",
       "      <th></th>\n",
       "      <th>date</th>\n",
       "      <th>user</th>\n",
       "      <th>twits</th>\n",
       "    </tr>\n",
       "  </thead>\n",
       "  <tbody>\n",
       "    <tr>\n",
       "      <th>1996</th>\n",
       "      <td>3/11/2021 12:25:56 PM</td>\n",
       "      <td>risenhoover</td>\n",
       "      <td>['$AMCN / AirMedia Group files form 6-K https:...</td>\n",
       "    </tr>\n",
       "    <tr>\n",
       "      <th>2605</th>\n",
       "      <td>7/6/2015 1:55:21 PM</td>\n",
       "      <td>cctranscripts</td>\n",
       "      <td>['Securities registration termination [Section...</td>\n",
       "    </tr>\n",
       "    <tr>\n",
       "      <th>1277</th>\n",
       "      <td>8/2/2016 3:36:19 PM</td>\n",
       "      <td>cctranscripts</td>\n",
       "      <td>['Going private transaction by certain issuers...</td>\n",
       "    </tr>\n",
       "    <tr>\n",
       "      <th>90</th>\n",
       "      <td>3/24/2021 4:58:33 PM</td>\n",
       "      <td>tickeron</td>\n",
       "      <td>['How does this make you feel? $AMBA price may...</td>\n",
       "    </tr>\n",
       "    <tr>\n",
       "      <th>1854</th>\n",
       "      <td>9/11/2018 10:52:06 AM</td>\n",
       "      <td>macroaxis</td>\n",
       "      <td>['$AMSG - Disposition of 5018 shares by Philli...</td>\n",
       "    </tr>\n",
       "    <tr>\n",
       "      <th>298</th>\n",
       "      <td>3/24/2021 4:46:10 AM</td>\n",
       "      <td>Aigner_Andreas</td>\n",
       "      <td>['TF SELL $AMBA at 99.34 : 103.08 MidCap 98% S...</td>\n",
       "    </tr>\n",
       "    <tr>\n",
       "      <th>1183</th>\n",
       "      <td>10/19/2015 5:43:02 PM</td>\n",
       "      <td>schmiergolf</td>\n",
       "      <td>['$INO $ANLY IBB making a turn to the north.']</td>\n",
       "    </tr>\n",
       "    <tr>\n",
       "      <th>1385</th>\n",
       "      <td>4/16/2019 4:59:47 AM</td>\n",
       "      <td>DividendBot</td>\n",
       "      <td>['$ANCX bears have 3 reasons on 01-31 to pay m...</td>\n",
       "    </tr>\n",
       "    <tr>\n",
       "      <th>1194</th>\n",
       "      <td>3/10/2021 8:31:26 PM</td>\n",
       "      <td>Newsfilter</td>\n",
       "      <td>['$ANTH AM Best Assigns Issue Credit Ratings t...</td>\n",
       "    </tr>\n",
       "    <tr>\n",
       "      <th>1308</th>\n",
       "      <td>3/17/2021 8:00:05 PM</td>\n",
       "      <td>TradeWithAlerts</td>\n",
       "      <td>['Large Print $APD Size: 102205 Price: 270.67 ...</td>\n",
       "    </tr>\n",
       "    <tr>\n",
       "      <th>531</th>\n",
       "      <td>1/12/2021 9:51:05 PM</td>\n",
       "      <td>STCKPRO</td>\n",
       "      <td>['$AOD NEW ARTICLE : Aberdeen Total Dynamic Di...</td>\n",
       "    </tr>\n",
       "    <tr>\n",
       "      <th>1809</th>\n",
       "      <td>2/18/2021 9:40:24 PM</td>\n",
       "      <td>fla</td>\n",
       "      <td>['$AMRB [15s. delayed] filed SEC form 4: EVP -...</td>\n",
       "    </tr>\n",
       "    <tr>\n",
       "      <th>2304</th>\n",
       "      <td>8/19/2015 5:38:22 PM</td>\n",
       "      <td>bluma520</td>\n",
       "      <td>['&amp;quot', '@whysobullish @deg68 You&amp;#39', 're ...</td>\n",
       "    </tr>\n",
       "    <tr>\n",
       "      <th>1004</th>\n",
       "      <td>8/2/2019 10:47:55 AM</td>\n",
       "      <td>risenhoover</td>\n",
       "      <td>['$AMID / American Midstream Partners files fo...</td>\n",
       "    </tr>\n",
       "    <tr>\n",
       "      <th>1497</th>\n",
       "      <td>2/18/2015 9:22:06 PM</td>\n",
       "      <td>cctranscripts</td>\n",
       "      <td>['Current report, items 2.01, 3.01, 3.03, 5.01...</td>\n",
       "    </tr>\n",
       "    <tr>\n",
       "      <th>2166</th>\n",
       "      <td>11/2/2020 11:42:53 PM</td>\n",
       "      <td>tickeron</td>\n",
       "      <td>['Don\\\\u2019t miss out on this! $AOK in +0.16%...</td>\n",
       "    </tr>\n",
       "    <tr>\n",
       "      <th>924</th>\n",
       "      <td>3/24/2021 5:52:32 PM</td>\n",
       "      <td>WallStreetOdds_</td>\n",
       "      <td>['$APA If you had bought APA each of the 188 o...</td>\n",
       "    </tr>\n",
       "    <tr>\n",
       "      <th>916</th>\n",
       "      <td>3/14/2021 12:17:39 PM</td>\n",
       "      <td>Insider_Analysis</td>\n",
       "      <td>['$AMED In the recent reporting quarter: 15.60...</td>\n",
       "    </tr>\n",
       "    <tr>\n",
       "      <th>318</th>\n",
       "      <td>3/18/2021 9:42:01 PM</td>\n",
       "      <td>FilingsVille</td>\n",
       "      <td>['$AMBA: New SEC filing on Chief Technology Of...</td>\n",
       "    </tr>\n",
       "    <tr>\n",
       "      <th>2506</th>\n",
       "      <td>2/10/2021 3:10:11 PM</td>\n",
       "      <td>InsiderForms</td>\n",
       "      <td>['OXFORD FINANCIAL GROUP LTD,has filed Form 13...</td>\n",
       "    </tr>\n",
       "  </tbody>\n",
       "</table>\n",
       "</div>"
      ],
      "text/plain": [
       "                       date              user  \\\n",
       "1996  3/11/2021 12:25:56 PM       risenhoover   \n",
       "2605    7/6/2015 1:55:21 PM     cctranscripts   \n",
       "1277    8/2/2016 3:36:19 PM     cctranscripts   \n",
       "90     3/24/2021 4:58:33 PM          tickeron   \n",
       "1854  9/11/2018 10:52:06 AM         macroaxis   \n",
       "298    3/24/2021 4:46:10 AM    Aigner_Andreas   \n",
       "1183  10/19/2015 5:43:02 PM       schmiergolf   \n",
       "1385   4/16/2019 4:59:47 AM       DividendBot   \n",
       "1194   3/10/2021 8:31:26 PM        Newsfilter   \n",
       "1308   3/17/2021 8:00:05 PM   TradeWithAlerts   \n",
       "531    1/12/2021 9:51:05 PM           STCKPRO   \n",
       "1809   2/18/2021 9:40:24 PM               fla   \n",
       "2304   8/19/2015 5:38:22 PM          bluma520   \n",
       "1004   8/2/2019 10:47:55 AM       risenhoover   \n",
       "1497   2/18/2015 9:22:06 PM     cctranscripts   \n",
       "2166  11/2/2020 11:42:53 PM          tickeron   \n",
       "924    3/24/2021 5:52:32 PM   WallStreetOdds_   \n",
       "916   3/14/2021 12:17:39 PM  Insider_Analysis   \n",
       "318    3/18/2021 9:42:01 PM      FilingsVille   \n",
       "2506   2/10/2021 3:10:11 PM      InsiderForms   \n",
       "\n",
       "                                                  twits  \n",
       "1996  ['$AMCN / AirMedia Group files form 6-K https:...  \n",
       "2605  ['Securities registration termination [Section...  \n",
       "1277  ['Going private transaction by certain issuers...  \n",
       "90    ['How does this make you feel? $AMBA price may...  \n",
       "1854  ['$AMSG - Disposition of 5018 shares by Philli...  \n",
       "298   ['TF SELL $AMBA at 99.34 : 103.08 MidCap 98% S...  \n",
       "1183     ['$INO $ANLY IBB making a turn to the north.']  \n",
       "1385  ['$ANCX bears have 3 reasons on 01-31 to pay m...  \n",
       "1194  ['$ANTH AM Best Assigns Issue Credit Ratings t...  \n",
       "1308  ['Large Print $APD Size: 102205 Price: 270.67 ...  \n",
       "531   ['$AOD NEW ARTICLE : Aberdeen Total Dynamic Di...  \n",
       "1809  ['$AMRB [15s. delayed] filed SEC form 4: EVP -...  \n",
       "2304  ['&quot', '@whysobullish @deg68 You&#39', 're ...  \n",
       "1004  ['$AMID / American Midstream Partners files fo...  \n",
       "1497  ['Current report, items 2.01, 3.01, 3.03, 5.01...  \n",
       "2166  ['Don\\\\u2019t miss out on this! $AOK in +0.16%...  \n",
       "924   ['$APA If you had bought APA each of the 188 o...  \n",
       "916   ['$AMED In the recent reporting quarter: 15.60...  \n",
       "318   ['$AMBA: New SEC filing on Chief Technology Of...  \n",
       "2506  ['OXFORD FINANCIAL GROUP LTD,has filed Form 13...  "
      ]
     },
     "execution_count": 5,
     "metadata": {},
     "output_type": "execute_result"
    }
   ],
   "source": [
    "twits.sample(20)"
   ]
  },
  {
   "cell_type": "markdown",
   "id": "muslim-brook",
   "metadata": {},
   "source": [
    "#### See the distribution of tweets by user"
   ]
  },
  {
   "cell_type": "markdown",
   "id": "removed-isaac",
   "metadata": {},
   "source": [
    "cctranscripts has the most number of twits, followed by the Newsfilter and fla. "
   ]
  },
  {
   "cell_type": "code",
   "execution_count": 35,
   "id": "quantitative-edwards",
   "metadata": {},
   "outputs": [
    {
     "data": {
      "image/png": "[encoded data removed]",
      "text/plain": [
       "<Figure size 432x288 with 1 Axes>"
      ]
     },
     "metadata": {
      "needs_background": "light"
     },
     "output_type": "display_data"
    }
   ],
   "source": [
    "plt.figure(figsize=(6,4))\n",
    "twits.user.value_counts()[:10].plot(kind='barh', fontsize = 8)\n",
    "plt.xticks(rotation = 45)\n",
    "plt.yticks(rotation = 45)\n",
    "plt.title('username')\n",
    "plt.xlabel('counts')\n",
    "plt.savefig('user_distribution.jpeg')"
   ]
  },
  {
   "cell_type": "code",
   "execution_count": 6,
   "id": "junior-chamber",
   "metadata": {},
   "outputs": [
    {
     "data": {
      "text/plain": [
       "2737"
      ]
     },
     "execution_count": 6,
     "metadata": {},
     "output_type": "execute_result"
    }
   ],
   "source": [
    "len(twits)"
   ]
  },
  {
   "cell_type": "markdown",
   "id": "bizarre-highway",
   "metadata": {},
   "source": [
    "### Use of Google Sentiment Analysis"
   ]
  },
  {
   "cell_type": "markdown",
   "id": "prepared-january",
   "metadata": {},
   "source": [
    "I use the  Google API, with their secret keys obtain the sentiment_score. I did the scaling and used this scaled score to get the positing and negative sentiment. If the scaled score greater than 0.5 it is positive if less than 0.5 is negative. I saved them into csv file."
   ]
  },
  {
   "cell_type": "code",
   "execution_count": null,
   "id": "unlikely-handle",
   "metadata": {},
   "outputs": [],
   "source": [
    "os.environ['GOOGLE_APPLICATION_CREDENTIALS'] = API_Key"
   ]
  },
  {
   "cell_type": "code",
   "execution_count": 21,
   "id": "second-stake",
   "metadata": {},
   "outputs": [],
   "source": [
    "def google_score(text):\n",
    "    client = language.LanguageServiceClient()\n",
    "    document = types\\\n",
    "               .Document(content=text,\n",
    "                         type=enums.Document.Type.PLAIN_TEXT)\n",
    "    sentiment_score = client\\\n",
    "                      .analyze_sentiment(document=document)\\\n",
    "                      .document_sentiment\\\n",
    "                      .score\n",
    "    return sentiment_score\n",
    "\n",
    "def get_qa_sentiments_google(text):\n",
    "    min = -1\n",
    "    max = 1\n",
    "   \n",
    "    questions = defaultdict(list)\n",
    "\n",
    "    for qfilter in text:\n",
    "\n",
    "        a = google_score(qfilter)\n",
    "        a = (a - min)/(max-min)\n",
    "        a = round(a,2)\n",
    "        if(a>0.5):\n",
    "            b=1\n",
    "        else:\n",
    "            b=-1        \n",
    "\n",
    "        questions['text'].append([qfilter,str(a),str(b)])\n",
    "           \n",
    "    return(questions)\n",
    "\n",
    "if __name__ == \"__main__\":\n",
    "        \n",
    "    tweet_data = pd.read_csv('Twits_sample_data.csv')\n",
    "    # print(tweet_data.head())\n",
    "    #### TEST\n",
    "    #tweet_data = tweet_data[1:5]\n",
    "    # print(tweet_data)\n",
    "    qa_sentiments = get_qa_sentiments_google(tweet_data[\"twits\"])\n",
    "    "
   ]
  },
  {
   "cell_type": "code",
   "execution_count": 62,
   "id": "naughty-iceland",
   "metadata": {},
   "outputs": [],
   "source": [
    " twits_google_score= pd.DataFrame([[k] + j for k,v in qa_sentiments.items() for j in v], columns=['id','text', 'score', 'sent_category'])"
   ]
  },
  {
   "cell_type": "code",
   "execution_count": 72,
   "id": "assured-passport",
   "metadata": {},
   "outputs": [],
   "source": [
    "list_concat = [twits, twits_google_score]\n",
    "df_twits_google = pd.concat(list_concat, axis = 1).drop(columns =['id', 'text'])\n",
    "df_twits_google.to_csv(\"df_go_score_twits.csv\")"
   ]
  },
  {
   "cell_type": "code",
   "execution_count": 36,
   "id": "square-deficit",
   "metadata": {},
   "outputs": [],
   "source": [
    "df_twits = pd.read_csv(\"df_go_score_twits.csv\", index_col = 0)\n",
    "df_twits.rename(columns={'sent_category': 'google_sent'}, inplace=True)"
   ]
  },
  {
   "cell_type": "markdown",
   "id": "brown-laugh",
   "metadata": {},
   "source": [
    "### Use of Flair Sentiment Analysis"
   ]
  },
  {
   "cell_type": "markdown",
   "id": "difficult-struggle",
   "metadata": {},
   "source": [
    "Flair is easy and fast than google API you don't need any secred key. I direcly got the positive and negative sentiment, you can also get the probability of the sentiment."
   ]
  },
  {
   "cell_type": "code",
   "execution_count": 37,
   "id": "every-thunder",
   "metadata": {},
   "outputs": [
    {
     "name": "stdout",
     "output_type": "stream",
     "text": [
      "2021-05-03 10:50:48,731 loading file /Users/student1/.flair/models/sentiment-en-mix-distillbert_4.pt\n"
     ]
    }
   ],
   "source": [
    "#Use the flair pretrained model to get the sentiment\n",
    "sentiment_model = flair.models.TextClassifier.load('en-sentiment')\n",
    "probs = []\n",
    "sentiments = []\n",
    "\n",
    "\n",
    "for tweet in df_twits['twits'].to_list():\n",
    "\n",
    "    sentence = flair.data.Sentence(tweet)\n",
    "    sentiment_model.predict(sentence)\n",
    "\n",
    "    probs.append(sentence.labels[0].score) \n",
    "    sentiments.append(sentence.labels[0].value)\n",
    "\n",
    "\n",
    "#df_twits['probability'] = probs\n",
    "df_twits['sentiment'] = sentiments"
   ]
  },
  {
   "cell_type": "code",
   "execution_count": 38,
   "id": "hourly-enzyme",
   "metadata": {},
   "outputs": [],
   "source": [
    "df_twits['flair_sent'] = df_twits['sentiment'].replace('POSITIVE', 1).replace(\"NEGATIVE\", -1)"
   ]
  },
  {
   "cell_type": "markdown",
   "id": "checked-quebec",
   "metadata": {},
   "source": [
    "### Use of Vader Sentiment Analysis"
   ]
  },
  {
   "cell_type": "markdown",
   "id": "dimensional-borough",
   "metadata": {},
   "source": [
    "NLTK as the pretrained mode from Vade, which is even easier and fast than the flair. Flair gives three different sentiment score, poisitve , negative and neutral. I use the compound score  greater than 0.1 as postive and less than 0.1 as negative."
   ]
  },
  {
   "cell_type": "code",
   "execution_count": 39,
   "id": "offensive-arizona",
   "metadata": {},
   "outputs": [],
   "source": [
    "#Use the nltk  pretrained model sentimentAnalayzer from Vade\n",
    "sid = SentimentIntensityAnalyzer()\n",
    "df_twits['Vader_sent_scores'] = df_twits['twits'].apply(lambda twits: sid.polarity_scores(twits))\n",
    "df_twits['compound']  = df_twits['Vader_sent_scores'].apply(lambda score_dict: score_dict['compound'])\n",
    "#df_twits['neg']  = df_twits['Vader_sent_scores'].apply(lambda score_dict: score_dict['neg'])\n",
    "#df_twits['neu']  = df_twits['Vader_sent_scores'].apply(lambda score_dict: score_dict['neu'])\n",
    "df_twits['vader_sent'] = df_twits['compound'].apply(lambda c: 1 if c >0.1 else -1)"
   ]
  },
  {
   "cell_type": "code",
   "execution_count": 45,
   "id": "alike-december",
   "metadata": {},
   "outputs": [
    {
     "data": {
      "text/html": [
       "<div>\n",
       "<style scoped>\n",
       "    .dataframe tbody tr th:only-of-type {\n",
       "        vertical-align: middle;\n",
       "    }\n",
       "\n",
       "    .dataframe tbody tr th {\n",
       "        vertical-align: top;\n",
       "    }\n",
       "\n",
       "    .dataframe thead th {\n",
       "        text-align: right;\n",
       "    }\n",
       "</style>\n",
       "<table border=\"1\" class=\"dataframe\">\n",
       "  <thead>\n",
       "    <tr style=\"text-align: right;\">\n",
       "      <th></th>\n",
       "      <th>date</th>\n",
       "      <th>user</th>\n",
       "      <th>twits</th>\n",
       "      <th>google_sent</th>\n",
       "      <th>flair_sent</th>\n",
       "      <th>vader_sent</th>\n",
       "    </tr>\n",
       "  </thead>\n",
       "  <tbody>\n",
       "    <tr>\n",
       "      <th>0</th>\n",
       "      <td>3/24/2021 4:49:50 AM</td>\n",
       "      <td>utahstock12</td>\n",
       "      <td>['$ANDA Their site traffic for direct sales wh...</td>\n",
       "      <td>1</td>\n",
       "      <td>1</td>\n",
       "      <td>-1</td>\n",
       "    </tr>\n",
       "    <tr>\n",
       "      <th>1</th>\n",
       "      <td>3/23/2021 10:09:25 PM</td>\n",
       "      <td>dinoshanahan</td>\n",
       "      <td>['$ANDA ASXC This is the future of surgery wit...</td>\n",
       "      <td>1</td>\n",
       "      <td>1</td>\n",
       "      <td>-1</td>\n",
       "    </tr>\n",
       "    <tr>\n",
       "      <th>2</th>\n",
       "      <td>3/18/2021 8:08:27 PM</td>\n",
       "      <td>Tiggers23</td>\n",
       "      <td>['$ANDA stock market has now tanked a couple t...</td>\n",
       "      <td>-1</td>\n",
       "      <td>-1</td>\n",
       "      <td>-1</td>\n",
       "    </tr>\n",
       "    <tr>\n",
       "      <th>3</th>\n",
       "      <td>3/18/2021 5:31:56 PM</td>\n",
       "      <td>gimestocky</td>\n",
       "      <td>['$BENEU so the loss on this sucks right now a...</td>\n",
       "      <td>-1</td>\n",
       "      <td>-1</td>\n",
       "      <td>1</td>\n",
       "    </tr>\n",
       "    <tr>\n",
       "      <th>4</th>\n",
       "      <td>3/17/2021 5:36:28 PM</td>\n",
       "      <td>GreenOnMe</td>\n",
       "      <td>['$ANDA Have a lot of warrants very profitable...</td>\n",
       "      <td>1</td>\n",
       "      <td>1</td>\n",
       "      <td>1</td>\n",
       "    </tr>\n",
       "    <tr>\n",
       "      <th>...</th>\n",
       "      <td>...</td>\n",
       "      <td>...</td>\n",
       "      <td>...</td>\n",
       "      <td>...</td>\n",
       "      <td>...</td>\n",
       "      <td>...</td>\n",
       "    </tr>\n",
       "    <tr>\n",
       "      <th>2732</th>\n",
       "      <td>3/9/2021 12:21:02 PM</td>\n",
       "      <td>FilingsVille</td>\n",
       "      <td>['$ANIK: New SEC filing on EVP, General Counse...</td>\n",
       "      <td>-1</td>\n",
       "      <td>1</td>\n",
       "      <td>-1</td>\n",
       "    </tr>\n",
       "    <tr>\n",
       "      <th>2733</th>\n",
       "      <td>3/8/2021 10:40:41 PM</td>\n",
       "      <td>cctranscripts</td>\n",
       "      <td>['EVP of Anika Therapeutics Inc. just picked u...</td>\n",
       "      <td>-1</td>\n",
       "      <td>-1</td>\n",
       "      <td>1</td>\n",
       "    </tr>\n",
       "    <tr>\n",
       "      <th>2734</th>\n",
       "      <td>3/8/2021 10:23:25 PM</td>\n",
       "      <td>PippoBaudo</td>\n",
       "      <td>['$ANIK 22 by end of the week']</td>\n",
       "      <td>-1</td>\n",
       "      <td>-1</td>\n",
       "      <td>-1</td>\n",
       "    </tr>\n",
       "    <tr>\n",
       "      <th>2735</th>\n",
       "      <td>3/8/2021 10:07:42 PM</td>\n",
       "      <td>fla</td>\n",
       "      <td>['$ANIK [15s. delayed] filed SEC form 4: EVP, ...</td>\n",
       "      <td>1</td>\n",
       "      <td>-1</td>\n",
       "      <td>1</td>\n",
       "    </tr>\n",
       "    <tr>\n",
       "      <th>2736</th>\n",
       "      <td>3/8/2021 10:07:27 PM</td>\n",
       "      <td>Quantisnow</td>\n",
       "      <td>['$ANIK \\\\uD83D\\\\uDCDC SEC Form 4: David Colle...</td>\n",
       "      <td>-1</td>\n",
       "      <td>-1</td>\n",
       "      <td>-1</td>\n",
       "    </tr>\n",
       "  </tbody>\n",
       "</table>\n",
       "<p>2737 rows × 6 columns</p>\n",
       "</div>"
      ],
      "text/plain": [
       "                       date           user  \\\n",
       "0      3/24/2021 4:49:50 AM    utahstock12   \n",
       "1     3/23/2021 10:09:25 PM   dinoshanahan   \n",
       "2      3/18/2021 8:08:27 PM      Tiggers23   \n",
       "3      3/18/2021 5:31:56 PM     gimestocky   \n",
       "4      3/17/2021 5:36:28 PM      GreenOnMe   \n",
       "...                     ...            ...   \n",
       "2732   3/9/2021 12:21:02 PM   FilingsVille   \n",
       "2733   3/8/2021 10:40:41 PM  cctranscripts   \n",
       "2734   3/8/2021 10:23:25 PM     PippoBaudo   \n",
       "2735   3/8/2021 10:07:42 PM            fla   \n",
       "2736   3/8/2021 10:07:27 PM     Quantisnow   \n",
       "\n",
       "                                                  twits  google_sent  \\\n",
       "0     ['$ANDA Their site traffic for direct sales wh...            1   \n",
       "1     ['$ANDA ASXC This is the future of surgery wit...            1   \n",
       "2     ['$ANDA stock market has now tanked a couple t...           -1   \n",
       "3     ['$BENEU so the loss on this sucks right now a...           -1   \n",
       "4     ['$ANDA Have a lot of warrants very profitable...            1   \n",
       "...                                                 ...          ...   \n",
       "2732  ['$ANIK: New SEC filing on EVP, General Counse...           -1   \n",
       "2733  ['EVP of Anika Therapeutics Inc. just picked u...           -1   \n",
       "2734                    ['$ANIK 22 by end of the week']           -1   \n",
       "2735  ['$ANIK [15s. delayed] filed SEC form 4: EVP, ...            1   \n",
       "2736  ['$ANIK \\\\uD83D\\\\uDCDC SEC Form 4: David Colle...           -1   \n",
       "\n",
       "      flair_sent  vader_sent  \n",
       "0              1          -1  \n",
       "1              1          -1  \n",
       "2             -1          -1  \n",
       "3             -1           1  \n",
       "4              1           1  \n",
       "...          ...         ...  \n",
       "2732           1          -1  \n",
       "2733          -1           1  \n",
       "2734          -1          -1  \n",
       "2735          -1           1  \n",
       "2736          -1          -1  \n",
       "\n",
       "[2737 rows x 6 columns]"
      ]
     },
     "execution_count": 45,
     "metadata": {},
     "output_type": "execute_result"
    }
   ],
   "source": [
    "df_twits.drop(columns = ['sentiment', 'Vader_sent_scores', 'compound', 'score'])"
   ]
  },
  {
   "cell_type": "markdown",
   "id": "ordered-sitting",
   "metadata": {},
   "source": [
    "### Data Exploratory Analysis"
   ]
  },
  {
   "cell_type": "code",
   "execution_count": 71,
   "id": "golden-occasion",
   "metadata": {},
   "outputs": [
    {
     "data": {
      "text/plain": [
       "cctranscripts         346\n",
       "Newsfilter            159\n",
       "fla                   157\n",
       "Quantisnow            115\n",
       "TradeWithAlerts       113\n",
       "                     ... \n",
       "AceOfSpades             1\n",
       "moneymoves10x           1\n",
       "stantonhope             1\n",
       "SPACWarrants            1\n",
       "StrategicThoughts2      1\n",
       "Name: user, Length: 683, dtype: int64"
      ]
     },
     "execution_count": 71,
     "metadata": {},
     "output_type": "execute_result"
    }
   ],
   "source": [
    "df_twits['user'].value_counts()"
   ]
  },
  {
   "cell_type": "code",
   "execution_count": 128,
   "id": "earlier-graduate",
   "metadata": {},
   "outputs": [
    {
     "data": {
      "image/png": "[encoded data removed]",
      "text/plain": [
       "<Figure size 432x288 with 1 Axes>"
      ]
     },
     "metadata": {
      "needs_background": "light"
     },
     "output_type": "display_data"
    }
   ],
   "source": [
    "(df_twits['google_sent'].value_counts(normalize = True)*100).plot(kind = 'bar')\n",
    "plt.xlabel('google sentiment')\n",
    "plt.ylabel('counts in %')\n",
    "plt.savefig(\"Count_sentiment_google.png\")"
   ]
  },
  {
   "cell_type": "markdown",
   "id": "surface-safety",
   "metadata": {},
   "source": [
    "get the tweets from the user with highest count"
   ]
  },
  {
   "cell_type": "code",
   "execution_count": 111,
   "id": "exposed-thousand",
   "metadata": {},
   "outputs": [],
   "source": [
    "df_twits_greater = df_twits[df_twits['user'].isin(['cctranscripts', 'Newsfilter', 'fla'])]"
   ]
  },
  {
   "cell_type": "code",
   "execution_count": 129,
   "id": "instrumental-commissioner",
   "metadata": {},
   "outputs": [
    {
     "data": {
      "image/png": "[encoded data removed]",
      "text/plain": [
       "<Figure size 432x288 with 1 Axes>"
      ]
     },
     "metadata": {
      "needs_background": "light"
     },
     "output_type": "display_data"
    }
   ],
   "source": [
    "sns.countplot(x=\"user\", hue=\"google_sent\", data=df_twits_greater)\n",
    "plt.savefig('google_sent_high_user.png')\n",
    "plt.show()"
   ]
  },
  {
   "cell_type": "code",
   "execution_count": 138,
   "id": "nutritional-agenda",
   "metadata": {
    "scrolled": true
   },
   "outputs": [
    {
     "data": {
      "image/png": "[encoded data removed]",
      "text/plain": [
       "<Figure size 432x288 with 1 Axes>"
      ]
     },
     "metadata": {
      "needs_background": "light"
     },
     "output_type": "display_data"
    }
   ],
   "source": [
    "sns.barplot(x = 'user', y = 'google_sent',data = df_twits_greater)\n",
    "plt.title('Average google sentiment score of three highest count users')\n",
    "plt.savefig('average_plot_highest_google.png')"
   ]
  },
  {
   "cell_type": "code",
   "execution_count": 137,
   "id": "hybrid-agriculture",
   "metadata": {},
   "outputs": [
    {
     "data": {
      "image/png": "[encoded data removed]",
      "text/plain": [
       "<Figure size 432x288 with 1 Axes>"
      ]
     },
     "metadata": {
      "needs_background": "light"
     },
     "output_type": "display_data"
    }
   ],
   "source": [
    "sns.barplot(x = 'user', y = 'flair_sent',data = df_twits_greater)\n",
    "plt.title('Average flair sentiment score of three highest count users')\n",
    "plt.savefig('average_plot_highest_flair.png')"
   ]
  },
  {
   "cell_type": "code",
   "execution_count": 136,
   "id": "dirty-rehabilitation",
   "metadata": {},
   "outputs": [
    {
     "data": {
      "image/png": "[encoded data removed]",
      "text/plain": [
       "<Figure size 432x288 with 1 Axes>"
      ]
     },
     "metadata": {
      "needs_background": "light"
     },
     "output_type": "display_data"
    }
   ],
   "source": [
    "sns.barplot(x = 'user', y = 'vader_sent',data = df_twits_greater)\n",
    "plt.title('Average vader sentiment score of three highest count users')\n",
    "plt.savefig('average_plot_highest_vader.png')"
   ]
  },
  {
   "cell_type": "code",
   "execution_count": 91,
   "id": "tropical-wesley",
   "metadata": {},
   "outputs": [
    {
     "name": "stdout",
     "output_type": "stream",
     "text": [
      "<class 'pandas.core.frame.DataFrame'>\n",
      "Int64Index: 2737 entries, 0 to 2736\n",
      "Data columns (total 10 columns):\n",
      " #   Column             Non-Null Count  Dtype  \n",
      "---  ------             --------------  -----  \n",
      " 0   date               2737 non-null   object \n",
      " 1   user               2737 non-null   object \n",
      " 2   twits              2737 non-null   object \n",
      " 3   score              2737 non-null   float64\n",
      " 4   google_sent        2737 non-null   int64  \n",
      " 5   sentiment          2737 non-null   object \n",
      " 6   flair_sent         2737 non-null   int64  \n",
      " 7   Vader_sent_scores  2737 non-null   object \n",
      " 8   compound           2737 non-null   float64\n",
      " 9   vader_sent         2737 non-null   int64  \n",
      "dtypes: float64(2), int64(3), object(5)\n",
      "memory usage: 299.8+ KB\n"
     ]
    }
   ],
   "source": [
    "df_twits.info()"
   ]
  },
  {
   "cell_type": "code",
   "execution_count": 142,
   "id": "fifth-appendix",
   "metadata": {},
   "outputs": [],
   "source": [
    "from datetime import datetime as dt\n",
    "df_twits['date']= pd.to_datetime(df_twits['date'])\n",
    "#df_twits = df_twits.set_index('date')"
   ]
  },
  {
   "cell_type": "code",
   "execution_count": 143,
   "id": "opponent-pointer",
   "metadata": {},
   "outputs": [
    {
     "name": "stderr",
     "output_type": "stream",
     "text": [
      "/opt/anaconda3/envs/Python37/lib/python3.7/site-packages/ipykernel_launcher.py:4: FutureWarning: Series.dt.weekofyear and Series.dt.week have been deprecated.  Please use Series.dt.isocalendar().week instead.\n",
      "  after removing the cwd from sys.path.\n"
     ]
    }
   ],
   "source": [
    "df_twits['Month'] = df_twits['date'].dt.month\n",
    "df_twits['day'] = df_twits['date'].dt.day\n",
    "df_twits['year'] = df_twits['date'].dt.year\n",
    "df_twits['week'] = df_twits['date'].dt.week"
   ]
  },
  {
   "cell_type": "code",
   "execution_count": 144,
   "id": "downtown-shelf",
   "metadata": {},
   "outputs": [
    {
     "data": {
      "text/html": [
       "<div>\n",
       "<style scoped>\n",
       "    .dataframe tbody tr th:only-of-type {\n",
       "        vertical-align: middle;\n",
       "    }\n",
       "\n",
       "    .dataframe tbody tr th {\n",
       "        vertical-align: top;\n",
       "    }\n",
       "\n",
       "    .dataframe thead th {\n",
       "        text-align: right;\n",
       "    }\n",
       "</style>\n",
       "<table border=\"1\" class=\"dataframe\">\n",
       "  <thead>\n",
       "    <tr style=\"text-align: right;\">\n",
       "      <th></th>\n",
       "      <th>date</th>\n",
       "      <th>user</th>\n",
       "      <th>twits</th>\n",
       "      <th>score</th>\n",
       "      <th>google_sent</th>\n",
       "      <th>sentiment</th>\n",
       "      <th>flair_sent</th>\n",
       "      <th>Vader_sent_scores</th>\n",
       "      <th>compound</th>\n",
       "      <th>vader_sent</th>\n",
       "      <th>Month</th>\n",
       "      <th>day</th>\n",
       "      <th>year</th>\n",
       "      <th>week</th>\n",
       "    </tr>\n",
       "  </thead>\n",
       "  <tbody>\n",
       "    <tr>\n",
       "      <th>1251</th>\n",
       "      <td>2014-10-30 15:25:29</td>\n",
       "      <td>tradePilot</td>\n",
       "      <td>['Most ACTIVE energy #stocks / trading DOWN on...</td>\n",
       "      <td>0.50</td>\n",
       "      <td>-1</td>\n",
       "      <td>POSITIVE</td>\n",
       "      <td>1</td>\n",
       "      <td>{'neg': 0.0, 'neu': 0.765, 'pos': 0.235, 'comp...</td>\n",
       "      <td>0.6739</td>\n",
       "      <td>1</td>\n",
       "      <td>10</td>\n",
       "      <td>30</td>\n",
       "      <td>2014</td>\n",
       "      <td>44</td>\n",
       "    </tr>\n",
       "    <tr>\n",
       "      <th>252</th>\n",
       "      <td>2021-03-23 21:09:00</td>\n",
       "      <td>fla</td>\n",
       "      <td>['$ANF [15s. delayed] filed SEC form 4: Inside...</td>\n",
       "      <td>0.50</td>\n",
       "      <td>-1</td>\n",
       "      <td>NEGATIVE</td>\n",
       "      <td>-1</td>\n",
       "      <td>{'neg': 0.0, 'neu': 0.913, 'pos': 0.087, 'comp...</td>\n",
       "      <td>0.2960</td>\n",
       "      <td>1</td>\n",
       "      <td>3</td>\n",
       "      <td>23</td>\n",
       "      <td>2021</td>\n",
       "      <td>12</td>\n",
       "    </tr>\n",
       "    <tr>\n",
       "      <th>2144</th>\n",
       "      <td>2021-03-04 20:08:52</td>\n",
       "      <td>TradeWithAlerts</td>\n",
       "      <td>['Large Print $AOK Size: 114445 Price: 38.21 T...</td>\n",
       "      <td>0.50</td>\n",
       "      <td>-1</td>\n",
       "      <td>POSITIVE</td>\n",
       "      <td>1</td>\n",
       "      <td>{'neg': 0.0, 'neu': 1.0, 'pos': 0.0, 'compound...</td>\n",
       "      <td>0.0000</td>\n",
       "      <td>-1</td>\n",
       "      <td>3</td>\n",
       "      <td>4</td>\n",
       "      <td>2021</td>\n",
       "      <td>9</td>\n",
       "    </tr>\n",
       "    <tr>\n",
       "      <th>1745</th>\n",
       "      <td>2015-11-19 19:05:40</td>\n",
       "      <td>cctranscripts</td>\n",
       "      <td>['Notice of Delisting or Failure to Satisfy a ...</td>\n",
       "      <td>0.35</td>\n",
       "      <td>-1</td>\n",
       "      <td>NEGATIVE</td>\n",
       "      <td>-1</td>\n",
       "      <td>{'neg': 0.202, 'neu': 0.613, 'pos': 0.184, 'co...</td>\n",
       "      <td>-0.0772</td>\n",
       "      <td>-1</td>\n",
       "      <td>11</td>\n",
       "      <td>19</td>\n",
       "      <td>2015</td>\n",
       "      <td>47</td>\n",
       "    </tr>\n",
       "    <tr>\n",
       "      <th>8</th>\n",
       "      <td>2021-03-05 14:36:15</td>\n",
       "      <td>cctranscripts</td>\n",
       "      <td>['Andina Acquisition Corp. Iii  http://www.con...</td>\n",
       "      <td>0.65</td>\n",
       "      <td>1</td>\n",
       "      <td>POSITIVE</td>\n",
       "      <td>1</td>\n",
       "      <td>{'neg': 0.0, 'neu': 1.0, 'pos': 0.0, 'compound...</td>\n",
       "      <td>0.0000</td>\n",
       "      <td>-1</td>\n",
       "      <td>3</td>\n",
       "      <td>5</td>\n",
       "      <td>2021</td>\n",
       "      <td>9</td>\n",
       "    </tr>\n",
       "    <tr>\n",
       "      <th>2309</th>\n",
       "      <td>2015-06-10 14:32:24</td>\n",
       "      <td>cctranscripts</td>\n",
       "      <td>['BlackRock, Inc. just provided an update on s...</td>\n",
       "      <td>0.50</td>\n",
       "      <td>-1</td>\n",
       "      <td>NEGATIVE</td>\n",
       "      <td>-1</td>\n",
       "      <td>{'neg': 0.0, 'neu': 0.736, 'pos': 0.264, 'comp...</td>\n",
       "      <td>0.6166</td>\n",
       "      <td>1</td>\n",
       "      <td>6</td>\n",
       "      <td>10</td>\n",
       "      <td>2015</td>\n",
       "      <td>24</td>\n",
       "    </tr>\n",
       "    <tr>\n",
       "      <th>2327</th>\n",
       "      <td>2014-02-21 00:09:51</td>\n",
       "      <td>cctranscripts</td>\n",
       "      <td>['CFO of Anaren just disposed of 58,241 shares...</td>\n",
       "      <td>0.55</td>\n",
       "      <td>1</td>\n",
       "      <td>NEGATIVE</td>\n",
       "      <td>-1</td>\n",
       "      <td>{'neg': 0.0, 'neu': 0.804, 'pos': 0.196, 'comp...</td>\n",
       "      <td>0.2960</td>\n",
       "      <td>1</td>\n",
       "      <td>2</td>\n",
       "      <td>21</td>\n",
       "      <td>2014</td>\n",
       "      <td>8</td>\n",
       "    </tr>\n",
       "    <tr>\n",
       "      <th>1098</th>\n",
       "      <td>2021-03-22 22:33:55</td>\n",
       "      <td>fla</td>\n",
       "      <td>['$AMGN [15s. delayed] filed SEC form 4: Insid...</td>\n",
       "      <td>0.50</td>\n",
       "      <td>-1</td>\n",
       "      <td>NEGATIVE</td>\n",
       "      <td>-1</td>\n",
       "      <td>{'neg': 0.0, 'neu': 0.905, 'pos': 0.095, 'comp...</td>\n",
       "      <td>0.2960</td>\n",
       "      <td>1</td>\n",
       "      <td>3</td>\n",
       "      <td>22</td>\n",
       "      <td>2021</td>\n",
       "      <td>12</td>\n",
       "    </tr>\n",
       "    <tr>\n",
       "      <th>1551</th>\n",
       "      <td>2019-05-26 14:19:42</td>\n",
       "      <td>macroaxis</td>\n",
       "      <td>['$ANAD - Acquisition by Ronald Rosenzweig of ...</td>\n",
       "      <td>0.50</td>\n",
       "      <td>-1</td>\n",
       "      <td>NEGATIVE</td>\n",
       "      <td>-1</td>\n",
       "      <td>{'neg': 0.0, 'neu': 0.864, 'pos': 0.136, 'comp...</td>\n",
       "      <td>0.2960</td>\n",
       "      <td>1</td>\n",
       "      <td>5</td>\n",
       "      <td>26</td>\n",
       "      <td>2019</td>\n",
       "      <td>21</td>\n",
       "    </tr>\n",
       "    <tr>\n",
       "      <th>342</th>\n",
       "      <td>2021-02-16 15:00:41</td>\n",
       "      <td>Last10K</td>\n",
       "      <td>['Last10K highlighted 48 positive and negative...</td>\n",
       "      <td>0.55</td>\n",
       "      <td>1</td>\n",
       "      <td>NEGATIVE</td>\n",
       "      <td>-1</td>\n",
       "      <td>{'neg': 0.131, 'neu': 0.742, 'pos': 0.127, 'co...</td>\n",
       "      <td>-0.0258</td>\n",
       "      <td>-1</td>\n",
       "      <td>2</td>\n",
       "      <td>16</td>\n",
       "      <td>2021</td>\n",
       "      <td>7</td>\n",
       "    </tr>\n",
       "    <tr>\n",
       "      <th>813</th>\n",
       "      <td>2021-03-23 20:00:01</td>\n",
       "      <td>TradeWithAlerts</td>\n",
       "      <td>['Large Print $ALXN Size: 244175 Price: 152.18...</td>\n",
       "      <td>0.50</td>\n",
       "      <td>-1</td>\n",
       "      <td>POSITIVE</td>\n",
       "      <td>1</td>\n",
       "      <td>{'neg': 0.0, 'neu': 1.0, 'pos': 0.0, 'compound...</td>\n",
       "      <td>0.0000</td>\n",
       "      <td>-1</td>\n",
       "      <td>3</td>\n",
       "      <td>23</td>\n",
       "      <td>2021</td>\n",
       "      <td>12</td>\n",
       "    </tr>\n",
       "    <tr>\n",
       "      <th>1367</th>\n",
       "      <td>2018-11-16 18:02:17</td>\n",
       "      <td>cctranscripts</td>\n",
       "      <td>['Anchor Bancorp&amp;#39', 's President and CEO ju...</td>\n",
       "      <td>0.50</td>\n",
       "      <td>-1</td>\n",
       "      <td>NEGATIVE</td>\n",
       "      <td>-1</td>\n",
       "      <td>{'neg': 0.0, 'neu': 0.845, 'pos': 0.155, 'comp...</td>\n",
       "      <td>0.2960</td>\n",
       "      <td>1</td>\n",
       "      <td>11</td>\n",
       "      <td>16</td>\n",
       "      <td>2018</td>\n",
       "      <td>46</td>\n",
       "    </tr>\n",
       "    <tr>\n",
       "      <th>1761</th>\n",
       "      <td>2020-07-07 17:46:09</td>\n",
       "      <td>Quantumup</td>\n",
       "      <td>['$BTAI  @BioXcel_Tx      @ihors3   @S3Partner...</td>\n",
       "      <td>0.35</td>\n",
       "      <td>-1</td>\n",
       "      <td>NEGATIVE</td>\n",
       "      <td>-1</td>\n",
       "      <td>{'neg': 0.046, 'neu': 0.954, 'pos': 0.0, 'comp...</td>\n",
       "      <td>-0.1280</td>\n",
       "      <td>-1</td>\n",
       "      <td>7</td>\n",
       "      <td>7</td>\n",
       "      <td>2020</td>\n",
       "      <td>28</td>\n",
       "    </tr>\n",
       "    <tr>\n",
       "      <th>997</th>\n",
       "      <td>2019-10-18 21:30:35</td>\n",
       "      <td>Newsfilter</td>\n",
       "      <td>['$AMID Glancy Prongay &amp;amp', ' Murray LLP Ann...</td>\n",
       "      <td>0.50</td>\n",
       "      <td>-1</td>\n",
       "      <td>NEGATIVE</td>\n",
       "      <td>-1</td>\n",
       "      <td>{'neg': 0.0, 'neu': 1.0, 'pos': 0.0, 'compound...</td>\n",
       "      <td>0.0000</td>\n",
       "      <td>-1</td>\n",
       "      <td>10</td>\n",
       "      <td>18</td>\n",
       "      <td>2019</td>\n",
       "      <td>42</td>\n",
       "    </tr>\n",
       "    <tr>\n",
       "      <th>1977</th>\n",
       "      <td>2016-08-24 19:51:33</td>\n",
       "      <td>jacko2</td>\n",
       "      <td>['$AMTG']</td>\n",
       "      <td>0.60</td>\n",
       "      <td>1</td>\n",
       "      <td>NEGATIVE</td>\n",
       "      <td>-1</td>\n",
       "      <td>{'neg': 0.0, 'neu': 1.0, 'pos': 0.0, 'compound...</td>\n",
       "      <td>0.0000</td>\n",
       "      <td>-1</td>\n",
       "      <td>8</td>\n",
       "      <td>24</td>\n",
       "      <td>2016</td>\n",
       "      <td>34</td>\n",
       "    </tr>\n",
       "    <tr>\n",
       "      <th>731</th>\n",
       "      <td>2021-03-09 21:33:58</td>\n",
       "      <td>otcdynamics</td>\n",
       "      <td>['$APAM Artisan Partners Asset Management Inc....</td>\n",
       "      <td>0.60</td>\n",
       "      <td>1</td>\n",
       "      <td>NEGATIVE</td>\n",
       "      <td>-1</td>\n",
       "      <td>{'neg': 0.0, 'neu': 0.724, 'pos': 0.276, 'comp...</td>\n",
       "      <td>0.4939</td>\n",
       "      <td>1</td>\n",
       "      <td>3</td>\n",
       "      <td>9</td>\n",
       "      <td>2021</td>\n",
       "      <td>10</td>\n",
       "    </tr>\n",
       "    <tr>\n",
       "      <th>195</th>\n",
       "      <td>2021-03-17 06:48:53</td>\n",
       "      <td>earningscalendario</td>\n",
       "      <td>['Upcoming ER:  $ANIP on 2021-03-09 at 6:50:00...</td>\n",
       "      <td>0.50</td>\n",
       "      <td>-1</td>\n",
       "      <td>NEGATIVE</td>\n",
       "      <td>-1</td>\n",
       "      <td>{'neg': 0.0, 'neu': 0.829, 'pos': 0.171, 'comp...</td>\n",
       "      <td>0.5106</td>\n",
       "      <td>1</td>\n",
       "      <td>3</td>\n",
       "      <td>17</td>\n",
       "      <td>2021</td>\n",
       "      <td>11</td>\n",
       "    </tr>\n",
       "    <tr>\n",
       "      <th>1316</th>\n",
       "      <td>2020-02-13 04:07:59</td>\n",
       "      <td>McIntoshTrading</td>\n",
       "      <td>['Coronavirus stocks on high alert tomorrow pt...</td>\n",
       "      <td>0.50</td>\n",
       "      <td>-1</td>\n",
       "      <td>NEGATIVE</td>\n",
       "      <td>-1</td>\n",
       "      <td>{'neg': 0.0, 'neu': 0.833, 'pos': 0.167, 'comp...</td>\n",
       "      <td>0.2960</td>\n",
       "      <td>1</td>\n",
       "      <td>2</td>\n",
       "      <td>13</td>\n",
       "      <td>2020</td>\n",
       "      <td>7</td>\n",
       "    </tr>\n",
       "    <tr>\n",
       "      <th>897</th>\n",
       "      <td>2021-03-17 00:49:00</td>\n",
       "      <td>ChartMill</td>\n",
       "      <td>['$AMED&amp;#39', 's Return On Equity of 22.65% is...</td>\n",
       "      <td>0.75</td>\n",
       "      <td>1</td>\n",
       "      <td>POSITIVE</td>\n",
       "      <td>1</td>\n",
       "      <td>{'neg': 0.0, 'neu': 0.811, 'pos': 0.189, 'comp...</td>\n",
       "      <td>0.6369</td>\n",
       "      <td>1</td>\n",
       "      <td>3</td>\n",
       "      <td>17</td>\n",
       "      <td>2021</td>\n",
       "      <td>11</td>\n",
       "    </tr>\n",
       "    <tr>\n",
       "      <th>798</th>\n",
       "      <td>2021-03-18 16:18:22</td>\n",
       "      <td>smart_diamonds</td>\n",
       "      <td>['$ANGI Can\\\\u2019t wait for $150\\\\u2019s this...</td>\n",
       "      <td>0.80</td>\n",
       "      <td>1</td>\n",
       "      <td>POSITIVE</td>\n",
       "      <td>1</td>\n",
       "      <td>{'neg': 0.0, 'neu': 1.0, 'pos': 0.0, 'compound...</td>\n",
       "      <td>0.0000</td>\n",
       "      <td>-1</td>\n",
       "      <td>3</td>\n",
       "      <td>18</td>\n",
       "      <td>2021</td>\n",
       "      <td>11</td>\n",
       "    </tr>\n",
       "    <tr>\n",
       "      <th>2085</th>\n",
       "      <td>2021-03-24 01:00:43</td>\n",
       "      <td>Maradona1</td>\n",
       "      <td>['buy $HOFV  easy money tomorrow  \\\\nwe are ho...</td>\n",
       "      <td>0.55</td>\n",
       "      <td>1</td>\n",
       "      <td>NEGATIVE</td>\n",
       "      <td>-1</td>\n",
       "      <td>{'neg': 0.0, 'neu': 0.868, 'pos': 0.132, 'comp...</td>\n",
       "      <td>0.4404</td>\n",
       "      <td>1</td>\n",
       "      <td>3</td>\n",
       "      <td>24</td>\n",
       "      <td>2021</td>\n",
       "      <td>12</td>\n",
       "    </tr>\n",
       "    <tr>\n",
       "      <th>1361</th>\n",
       "      <td>2018-11-19 15:15:14</td>\n",
       "      <td>InsiderForms</td>\n",
       "      <td>['$ANCB Director &amp;quot', 'Stephenson Gordon Sh...</td>\n",
       "      <td>0.50</td>\n",
       "      <td>-1</td>\n",
       "      <td>NEGATIVE</td>\n",
       "      <td>-1</td>\n",
       "      <td>{'neg': 0.0, 'neu': 0.885, 'pos': 0.115, 'comp...</td>\n",
       "      <td>0.2960</td>\n",
       "      <td>1</td>\n",
       "      <td>11</td>\n",
       "      <td>19</td>\n",
       "      <td>2018</td>\n",
       "      <td>47</td>\n",
       "    </tr>\n",
       "    <tr>\n",
       "      <th>1657</th>\n",
       "      <td>2021-03-20 08:41:00</td>\n",
       "      <td>ChartMill</td>\n",
       "      <td>['$COOP, $DY and $AMKR are leading stocks, sho...</td>\n",
       "      <td>0.60</td>\n",
       "      <td>1</td>\n",
       "      <td>POSITIVE</td>\n",
       "      <td>1</td>\n",
       "      <td>{'neg': 0.0, 'neu': 1.0, 'pos': 0.0, 'compound...</td>\n",
       "      <td>0.0000</td>\n",
       "      <td>-1</td>\n",
       "      <td>3</td>\n",
       "      <td>20</td>\n",
       "      <td>2021</td>\n",
       "      <td>11</td>\n",
       "    </tr>\n",
       "    <tr>\n",
       "      <th>2206</th>\n",
       "      <td>2021-03-24 20:50:43</td>\n",
       "      <td>fla</td>\n",
       "      <td>['$AMT [15s. delayed]: Issued Press Release on...</td>\n",
       "      <td>0.50</td>\n",
       "      <td>-1</td>\n",
       "      <td>NEGATIVE</td>\n",
       "      <td>-1</td>\n",
       "      <td>{'neg': 0.0, 'neu': 1.0, 'pos': 0.0, 'compound...</td>\n",
       "      <td>0.0000</td>\n",
       "      <td>-1</td>\n",
       "      <td>3</td>\n",
       "      <td>24</td>\n",
       "      <td>2021</td>\n",
       "      <td>12</td>\n",
       "    </tr>\n",
       "    <tr>\n",
       "      <th>1624</th>\n",
       "      <td>2021-03-17 19:31:59</td>\n",
       "      <td>Equitymasters</td>\n",
       "      <td>['$AMSC the daily roller coaster on low volume...</td>\n",
       "      <td>0.60</td>\n",
       "      <td>1</td>\n",
       "      <td>NEGATIVE</td>\n",
       "      <td>-1</td>\n",
       "      <td>{'neg': 0.123, 'neu': 0.877, 'pos': 0.0, 'comp...</td>\n",
       "      <td>-0.2732</td>\n",
       "      <td>-1</td>\n",
       "      <td>3</td>\n",
       "      <td>17</td>\n",
       "      <td>2021</td>\n",
       "      <td>11</td>\n",
       "    </tr>\n",
       "    <tr>\n",
       "      <th>852</th>\n",
       "      <td>2021-03-22 12:25:33</td>\n",
       "      <td>otcdynamics</td>\n",
       "      <td>['$AP Dr. Matthew Wimmer Offers Patient-Friend...</td>\n",
       "      <td>0.70</td>\n",
       "      <td>1</td>\n",
       "      <td>POSITIVE</td>\n",
       "      <td>1</td>\n",
       "      <td>{'neg': 0.0, 'neu': 1.0, 'pos': 0.0, 'compound...</td>\n",
       "      <td>0.0000</td>\n",
       "      <td>-1</td>\n",
       "      <td>3</td>\n",
       "      <td>22</td>\n",
       "      <td>2021</td>\n",
       "      <td>12</td>\n",
       "    </tr>\n",
       "    <tr>\n",
       "      <th>2438</th>\n",
       "      <td>2021-03-23 22:14:23</td>\n",
       "      <td>kossmeda</td>\n",
       "      <td>['$ANSS ASXC This is the future of surgery wit...</td>\n",
       "      <td>0.75</td>\n",
       "      <td>1</td>\n",
       "      <td>POSITIVE</td>\n",
       "      <td>1</td>\n",
       "      <td>{'neg': 0.053, 'neu': 0.889, 'pos': 0.058, 'co...</td>\n",
       "      <td>0.0516</td>\n",
       "      <td>-1</td>\n",
       "      <td>3</td>\n",
       "      <td>23</td>\n",
       "      <td>2021</td>\n",
       "      <td>12</td>\n",
       "    </tr>\n",
       "    <tr>\n",
       "      <th>1519</th>\n",
       "      <td>2014-11-04 14:46:14</td>\n",
       "      <td>EarningsInsider</td>\n",
       "      <td>['AmREIT announces quarterly dividend of $0.20...</td>\n",
       "      <td>0.60</td>\n",
       "      <td>1</td>\n",
       "      <td>NEGATIVE</td>\n",
       "      <td>-1</td>\n",
       "      <td>{'neg': 0.0, 'neu': 1.0, 'pos': 0.0, 'compound...</td>\n",
       "      <td>0.0000</td>\n",
       "      <td>-1</td>\n",
       "      <td>11</td>\n",
       "      <td>4</td>\n",
       "      <td>2014</td>\n",
       "      <td>45</td>\n",
       "    </tr>\n",
       "    <tr>\n",
       "      <th>1015</th>\n",
       "      <td>2021-02-21 22:57:06</td>\n",
       "      <td>STCKPRO</td>\n",
       "      <td>['$APC NEW ARTICLE : Brookside Energy secures ...</td>\n",
       "      <td>0.65</td>\n",
       "      <td>1</td>\n",
       "      <td>POSITIVE</td>\n",
       "      <td>1</td>\n",
       "      <td>{'neg': 0.0, 'neu': 0.627, 'pos': 0.373, 'comp...</td>\n",
       "      <td>0.8176</td>\n",
       "      <td>1</td>\n",
       "      <td>2</td>\n",
       "      <td>21</td>\n",
       "      <td>2021</td>\n",
       "      <td>7</td>\n",
       "    </tr>\n",
       "    <tr>\n",
       "      <th>2683</th>\n",
       "      <td>2021-03-24 20:52:35</td>\n",
       "      <td>dhananisam</td>\n",
       "      <td>['$AMD $WKHS $PLTR $RKT can we get mf trump ag...</td>\n",
       "      <td>0.15</td>\n",
       "      <td>-1</td>\n",
       "      <td>NEGATIVE</td>\n",
       "      <td>-1</td>\n",
       "      <td>{'neg': 0.0, 'neu': 0.867, 'pos': 0.133, 'comp...</td>\n",
       "      <td>0.3182</td>\n",
       "      <td>1</td>\n",
       "      <td>3</td>\n",
       "      <td>24</td>\n",
       "      <td>2021</td>\n",
       "      <td>12</td>\n",
       "    </tr>\n",
       "    <tr>\n",
       "      <th>1231</th>\n",
       "      <td>2015-01-29 13:50:04</td>\n",
       "      <td>FinancesStocks</td>\n",
       "      <td>['$APAGF Apco Completes Merger http://stks.co/...</td>\n",
       "      <td>0.60</td>\n",
       "      <td>1</td>\n",
       "      <td>NEGATIVE</td>\n",
       "      <td>-1</td>\n",
       "      <td>{'neg': 0.0, 'neu': 1.0, 'pos': 0.0, 'compound...</td>\n",
       "      <td>0.0000</td>\n",
       "      <td>-1</td>\n",
       "      <td>1</td>\n",
       "      <td>29</td>\n",
       "      <td>2015</td>\n",
       "      <td>5</td>\n",
       "    </tr>\n",
       "    <tr>\n",
       "      <th>906</th>\n",
       "      <td>2021-03-15 11:05:24</td>\n",
       "      <td>Quantisnow</td>\n",
       "      <td>['$AMED \\\\uD83D\\\\uDCDC SEC Form 8-K filed by A...</td>\n",
       "      <td>0.50</td>\n",
       "      <td>-1</td>\n",
       "      <td>POSITIVE</td>\n",
       "      <td>1</td>\n",
       "      <td>{'neg': 0.0, 'neu': 1.0, 'pos': 0.0, 'compound...</td>\n",
       "      <td>0.0000</td>\n",
       "      <td>-1</td>\n",
       "      <td>3</td>\n",
       "      <td>15</td>\n",
       "      <td>2021</td>\n",
       "      <td>11</td>\n",
       "    </tr>\n",
       "    <tr>\n",
       "      <th>974</th>\n",
       "      <td>2021-03-24 19:41:51</td>\n",
       "      <td>landtankland</td>\n",
       "      <td>['$AMRN sold entire position, will buy back in...</td>\n",
       "      <td>0.80</td>\n",
       "      <td>1</td>\n",
       "      <td>NEGATIVE</td>\n",
       "      <td>-1</td>\n",
       "      <td>{'neg': 0.0, 'neu': 1.0, 'pos': 0.0, 'compound...</td>\n",
       "      <td>0.0000</td>\n",
       "      <td>-1</td>\n",
       "      <td>3</td>\n",
       "      <td>24</td>\n",
       "      <td>2021</td>\n",
       "      <td>12</td>\n",
       "    </tr>\n",
       "    <tr>\n",
       "      <th>1528</th>\n",
       "      <td>2013-06-24 21:26:06</td>\n",
       "      <td>cctranscripts</td>\n",
       "      <td>['PHAZAR CORP just filed its Additional defini...</td>\n",
       "      <td>0.50</td>\n",
       "      <td>-1</td>\n",
       "      <td>NEGATIVE</td>\n",
       "      <td>-1</td>\n",
       "      <td>{'neg': 0.0, 'neu': 1.0, 'pos': 0.0, 'compound...</td>\n",
       "      <td>0.0000</td>\n",
       "      <td>-1</td>\n",
       "      <td>6</td>\n",
       "      <td>24</td>\n",
       "      <td>2013</td>\n",
       "      <td>26</td>\n",
       "    </tr>\n",
       "    <tr>\n",
       "      <th>1598</th>\n",
       "      <td>2021-03-21 23:47:42</td>\n",
       "      <td>shaggy32250</td>\n",
       "      <td>['$ALT buy $Am just for the divy']</td>\n",
       "      <td>0.50</td>\n",
       "      <td>-1</td>\n",
       "      <td>NEGATIVE</td>\n",
       "      <td>-1</td>\n",
       "      <td>{'neg': 0.0, 'neu': 1.0, 'pos': 0.0, 'compound...</td>\n",
       "      <td>0.0000</td>\n",
       "      <td>-1</td>\n",
       "      <td>3</td>\n",
       "      <td>21</td>\n",
       "      <td>2021</td>\n",
       "      <td>11</td>\n",
       "    </tr>\n",
       "    <tr>\n",
       "      <th>781</th>\n",
       "      <td>2021-03-23 22:19:18</td>\n",
       "      <td>BlueHook</td>\n",
       "      <td>['$GME Apes should get hungry for shorting mor...</td>\n",
       "      <td>0.15</td>\n",
       "      <td>-1</td>\n",
       "      <td>NEGATIVE</td>\n",
       "      <td>-1</td>\n",
       "      <td>{'neg': 0.0, 'neu': 1.0, 'pos': 0.0, 'compound...</td>\n",
       "      <td>0.0000</td>\n",
       "      <td>-1</td>\n",
       "      <td>3</td>\n",
       "      <td>23</td>\n",
       "      <td>2021</td>\n",
       "      <td>12</td>\n",
       "    </tr>\n",
       "    <tr>\n",
       "      <th>992</th>\n",
       "      <td>2019-10-29 20:00:07</td>\n",
       "      <td>Newsfilter</td>\n",
       "      <td>['$AMID SHAREHOLDER ALERT: Pomerantz Law Firm ...</td>\n",
       "      <td>0.45</td>\n",
       "      <td>-1</td>\n",
       "      <td>NEGATIVE</td>\n",
       "      <td>-1</td>\n",
       "      <td>{'neg': 0.0, 'neu': 0.925, 'pos': 0.075, 'comp...</td>\n",
       "      <td>0.4466</td>\n",
       "      <td>1</td>\n",
       "      <td>10</td>\n",
       "      <td>29</td>\n",
       "      <td>2019</td>\n",
       "      <td>44</td>\n",
       "    </tr>\n",
       "    <tr>\n",
       "      <th>1089</th>\n",
       "      <td>2021-03-23 01:18:13</td>\n",
       "      <td>sleekoptions_twits</td>\n",
       "      <td>['$AMGN Red to Green move:  -1.46%  to +1.39% ...</td>\n",
       "      <td>0.50</td>\n",
       "      <td>-1</td>\n",
       "      <td>NEGATIVE</td>\n",
       "      <td>-1</td>\n",
       "      <td>{'neg': 0.0, 'neu': 1.0, 'pos': 0.0, 'compound...</td>\n",
       "      <td>0.0000</td>\n",
       "      <td>-1</td>\n",
       "      <td>3</td>\n",
       "      <td>23</td>\n",
       "      <td>2021</td>\n",
       "      <td>12</td>\n",
       "    </tr>\n",
       "    <tr>\n",
       "      <th>264</th>\n",
       "      <td>2021-03-22 15:08:19</td>\n",
       "      <td>Wycked_wil</td>\n",
       "      <td>['$ANF $32 incoming! No volume, no swag.']</td>\n",
       "      <td>0.40</td>\n",
       "      <td>-1</td>\n",
       "      <td>NEGATIVE</td>\n",
       "      <td>-1</td>\n",
       "      <td>{'neg': 0.484, 'neu': 0.516, 'pos': 0.0, 'comp...</td>\n",
       "      <td>-0.5707</td>\n",
       "      <td>-1</td>\n",
       "      <td>3</td>\n",
       "      <td>22</td>\n",
       "      <td>2021</td>\n",
       "      <td>12</td>\n",
       "    </tr>\n",
       "    <tr>\n",
       "      <th>894</th>\n",
       "      <td>2021-03-19 20:00:10</td>\n",
       "      <td>TradeWithAlerts</td>\n",
       "      <td>['Large Print $AMED Size: 129892 Price: 269 Ti...</td>\n",
       "      <td>0.50</td>\n",
       "      <td>-1</td>\n",
       "      <td>POSITIVE</td>\n",
       "      <td>1</td>\n",
       "      <td>{'neg': 0.0, 'neu': 1.0, 'pos': 0.0, 'compound...</td>\n",
       "      <td>0.0000</td>\n",
       "      <td>-1</td>\n",
       "      <td>3</td>\n",
       "      <td>19</td>\n",
       "      <td>2021</td>\n",
       "      <td>11</td>\n",
       "    </tr>\n",
       "  </tbody>\n",
       "</table>\n",
       "</div>"
      ],
      "text/plain": [
       "                    date                user  \\\n",
       "1251 2014-10-30 15:25:29          tradePilot   \n",
       "252  2021-03-23 21:09:00                 fla   \n",
       "2144 2021-03-04 20:08:52     TradeWithAlerts   \n",
       "1745 2015-11-19 19:05:40       cctranscripts   \n",
       "8    2021-03-05 14:36:15       cctranscripts   \n",
       "2309 2015-06-10 14:32:24       cctranscripts   \n",
       "2327 2014-02-21 00:09:51       cctranscripts   \n",
       "1098 2021-03-22 22:33:55                 fla   \n",
       "1551 2019-05-26 14:19:42           macroaxis   \n",
       "342  2021-02-16 15:00:41             Last10K   \n",
       "813  2021-03-23 20:00:01     TradeWithAlerts   \n",
       "1367 2018-11-16 18:02:17       cctranscripts   \n",
       "1761 2020-07-07 17:46:09           Quantumup   \n",
       "997  2019-10-18 21:30:35          Newsfilter   \n",
       "1977 2016-08-24 19:51:33              jacko2   \n",
       "731  2021-03-09 21:33:58         otcdynamics   \n",
       "195  2021-03-17 06:48:53  earningscalendario   \n",
       "1316 2020-02-13 04:07:59     McIntoshTrading   \n",
       "897  2021-03-17 00:49:00           ChartMill   \n",
       "798  2021-03-18 16:18:22      smart_diamonds   \n",
       "2085 2021-03-24 01:00:43           Maradona1   \n",
       "1361 2018-11-19 15:15:14        InsiderForms   \n",
       "1657 2021-03-20 08:41:00           ChartMill   \n",
       "2206 2021-03-24 20:50:43                 fla   \n",
       "1624 2021-03-17 19:31:59       Equitymasters   \n",
       "852  2021-03-22 12:25:33         otcdynamics   \n",
       "2438 2021-03-23 22:14:23            kossmeda   \n",
       "1519 2014-11-04 14:46:14     EarningsInsider   \n",
       "1015 2021-02-21 22:57:06             STCKPRO   \n",
       "2683 2021-03-24 20:52:35          dhananisam   \n",
       "1231 2015-01-29 13:50:04      FinancesStocks   \n",
       "906  2021-03-15 11:05:24          Quantisnow   \n",
       "974  2021-03-24 19:41:51        landtankland   \n",
       "1528 2013-06-24 21:26:06       cctranscripts   \n",
       "1598 2021-03-21 23:47:42         shaggy32250   \n",
       "781  2021-03-23 22:19:18            BlueHook   \n",
       "992  2019-10-29 20:00:07          Newsfilter   \n",
       "1089 2021-03-23 01:18:13  sleekoptions_twits   \n",
       "264  2021-03-22 15:08:19          Wycked_wil   \n",
       "894  2021-03-19 20:00:10     TradeWithAlerts   \n",
       "\n",
       "                                                  twits  score  google_sent  \\\n",
       "1251  ['Most ACTIVE energy #stocks / trading DOWN on...   0.50           -1   \n",
       "252   ['$ANF [15s. delayed] filed SEC form 4: Inside...   0.50           -1   \n",
       "2144  ['Large Print $AOK Size: 114445 Price: 38.21 T...   0.50           -1   \n",
       "1745  ['Notice of Delisting or Failure to Satisfy a ...   0.35           -1   \n",
       "8     ['Andina Acquisition Corp. Iii  http://www.con...   0.65            1   \n",
       "2309  ['BlackRock, Inc. just provided an update on s...   0.50           -1   \n",
       "2327  ['CFO of Anaren just disposed of 58,241 shares...   0.55            1   \n",
       "1098  ['$AMGN [15s. delayed] filed SEC form 4: Insid...   0.50           -1   \n",
       "1551  ['$ANAD - Acquisition by Ronald Rosenzweig of ...   0.50           -1   \n",
       "342   ['Last10K highlighted 48 positive and negative...   0.55            1   \n",
       "813   ['Large Print $ALXN Size: 244175 Price: 152.18...   0.50           -1   \n",
       "1367  ['Anchor Bancorp&#39', 's President and CEO ju...   0.50           -1   \n",
       "1761  ['$BTAI  @BioXcel_Tx      @ihors3   @S3Partner...   0.35           -1   \n",
       "997   ['$AMID Glancy Prongay &amp', ' Murray LLP Ann...   0.50           -1   \n",
       "1977                                          ['$AMTG']   0.60            1   \n",
       "731   ['$APAM Artisan Partners Asset Management Inc....   0.60            1   \n",
       "195   ['Upcoming ER:  $ANIP on 2021-03-09 at 6:50:00...   0.50           -1   \n",
       "1316  ['Coronavirus stocks on high alert tomorrow pt...   0.50           -1   \n",
       "897   ['$AMED&#39', 's Return On Equity of 22.65% is...   0.75            1   \n",
       "798   ['$ANGI Can\\\\u2019t wait for $150\\\\u2019s this...   0.80            1   \n",
       "2085  ['buy $HOFV  easy money tomorrow  \\\\nwe are ho...   0.55            1   \n",
       "1361  ['$ANCB Director &quot', 'Stephenson Gordon Sh...   0.50           -1   \n",
       "1657  ['$COOP, $DY and $AMKR are leading stocks, sho...   0.60            1   \n",
       "2206  ['$AMT [15s. delayed]: Issued Press Release on...   0.50           -1   \n",
       "1624  ['$AMSC the daily roller coaster on low volume...   0.60            1   \n",
       "852   ['$AP Dr. Matthew Wimmer Offers Patient-Friend...   0.70            1   \n",
       "2438  ['$ANSS ASXC This is the future of surgery wit...   0.75            1   \n",
       "1519  ['AmREIT announces quarterly dividend of $0.20...   0.60            1   \n",
       "1015  ['$APC NEW ARTICLE : Brookside Energy secures ...   0.65            1   \n",
       "2683  ['$AMD $WKHS $PLTR $RKT can we get mf trump ag...   0.15           -1   \n",
       "1231  ['$APAGF Apco Completes Merger http://stks.co/...   0.60            1   \n",
       "906   ['$AMED \\\\uD83D\\\\uDCDC SEC Form 8-K filed by A...   0.50           -1   \n",
       "974   ['$AMRN sold entire position, will buy back in...   0.80            1   \n",
       "1528  ['PHAZAR CORP just filed its Additional defini...   0.50           -1   \n",
       "1598                 ['$ALT buy $Am just for the divy']   0.50           -1   \n",
       "781   ['$GME Apes should get hungry for shorting mor...   0.15           -1   \n",
       "992   ['$AMID SHAREHOLDER ALERT: Pomerantz Law Firm ...   0.45           -1   \n",
       "1089  ['$AMGN Red to Green move:  -1.46%  to +1.39% ...   0.50           -1   \n",
       "264          ['$ANF $32 incoming! No volume, no swag.']   0.40           -1   \n",
       "894   ['Large Print $AMED Size: 129892 Price: 269 Ti...   0.50           -1   \n",
       "\n",
       "     sentiment  flair_sent                                  Vader_sent_scores  \\\n",
       "1251  POSITIVE           1  {'neg': 0.0, 'neu': 0.765, 'pos': 0.235, 'comp...   \n",
       "252   NEGATIVE          -1  {'neg': 0.0, 'neu': 0.913, 'pos': 0.087, 'comp...   \n",
       "2144  POSITIVE           1  {'neg': 0.0, 'neu': 1.0, 'pos': 0.0, 'compound...   \n",
       "1745  NEGATIVE          -1  {'neg': 0.202, 'neu': 0.613, 'pos': 0.184, 'co...   \n",
       "8     POSITIVE           1  {'neg': 0.0, 'neu': 1.0, 'pos': 0.0, 'compound...   \n",
       "2309  NEGATIVE          -1  {'neg': 0.0, 'neu': 0.736, 'pos': 0.264, 'comp...   \n",
       "2327  NEGATIVE          -1  {'neg': 0.0, 'neu': 0.804, 'pos': 0.196, 'comp...   \n",
       "1098  NEGATIVE          -1  {'neg': 0.0, 'neu': 0.905, 'pos': 0.095, 'comp...   \n",
       "1551  NEGATIVE          -1  {'neg': 0.0, 'neu': 0.864, 'pos': 0.136, 'comp...   \n",
       "342   NEGATIVE          -1  {'neg': 0.131, 'neu': 0.742, 'pos': 0.127, 'co...   \n",
       "813   POSITIVE           1  {'neg': 0.0, 'neu': 1.0, 'pos': 0.0, 'compound...   \n",
       "1367  NEGATIVE          -1  {'neg': 0.0, 'neu': 0.845, 'pos': 0.155, 'comp...   \n",
       "1761  NEGATIVE          -1  {'neg': 0.046, 'neu': 0.954, 'pos': 0.0, 'comp...   \n",
       "997   NEGATIVE          -1  {'neg': 0.0, 'neu': 1.0, 'pos': 0.0, 'compound...   \n",
       "1977  NEGATIVE          -1  {'neg': 0.0, 'neu': 1.0, 'pos': 0.0, 'compound...   \n",
       "731   NEGATIVE          -1  {'neg': 0.0, 'neu': 0.724, 'pos': 0.276, 'comp...   \n",
       "195   NEGATIVE          -1  {'neg': 0.0, 'neu': 0.829, 'pos': 0.171, 'comp...   \n",
       "1316  NEGATIVE          -1  {'neg': 0.0, 'neu': 0.833, 'pos': 0.167, 'comp...   \n",
       "897   POSITIVE           1  {'neg': 0.0, 'neu': 0.811, 'pos': 0.189, 'comp...   \n",
       "798   POSITIVE           1  {'neg': 0.0, 'neu': 1.0, 'pos': 0.0, 'compound...   \n",
       "2085  NEGATIVE          -1  {'neg': 0.0, 'neu': 0.868, 'pos': 0.132, 'comp...   \n",
       "1361  NEGATIVE          -1  {'neg': 0.0, 'neu': 0.885, 'pos': 0.115, 'comp...   \n",
       "1657  POSITIVE           1  {'neg': 0.0, 'neu': 1.0, 'pos': 0.0, 'compound...   \n",
       "2206  NEGATIVE          -1  {'neg': 0.0, 'neu': 1.0, 'pos': 0.0, 'compound...   \n",
       "1624  NEGATIVE          -1  {'neg': 0.123, 'neu': 0.877, 'pos': 0.0, 'comp...   \n",
       "852   POSITIVE           1  {'neg': 0.0, 'neu': 1.0, 'pos': 0.0, 'compound...   \n",
       "2438  POSITIVE           1  {'neg': 0.053, 'neu': 0.889, 'pos': 0.058, 'co...   \n",
       "1519  NEGATIVE          -1  {'neg': 0.0, 'neu': 1.0, 'pos': 0.0, 'compound...   \n",
       "1015  POSITIVE           1  {'neg': 0.0, 'neu': 0.627, 'pos': 0.373, 'comp...   \n",
       "2683  NEGATIVE          -1  {'neg': 0.0, 'neu': 0.867, 'pos': 0.133, 'comp...   \n",
       "1231  NEGATIVE          -1  {'neg': 0.0, 'neu': 1.0, 'pos': 0.0, 'compound...   \n",
       "906   POSITIVE           1  {'neg': 0.0, 'neu': 1.0, 'pos': 0.0, 'compound...   \n",
       "974   NEGATIVE          -1  {'neg': 0.0, 'neu': 1.0, 'pos': 0.0, 'compound...   \n",
       "1528  NEGATIVE          -1  {'neg': 0.0, 'neu': 1.0, 'pos': 0.0, 'compound...   \n",
       "1598  NEGATIVE          -1  {'neg': 0.0, 'neu': 1.0, 'pos': 0.0, 'compound...   \n",
       "781   NEGATIVE          -1  {'neg': 0.0, 'neu': 1.0, 'pos': 0.0, 'compound...   \n",
       "992   NEGATIVE          -1  {'neg': 0.0, 'neu': 0.925, 'pos': 0.075, 'comp...   \n",
       "1089  NEGATIVE          -1  {'neg': 0.0, 'neu': 1.0, 'pos': 0.0, 'compound...   \n",
       "264   NEGATIVE          -1  {'neg': 0.484, 'neu': 0.516, 'pos': 0.0, 'comp...   \n",
       "894   POSITIVE           1  {'neg': 0.0, 'neu': 1.0, 'pos': 0.0, 'compound...   \n",
       "\n",
       "      compound  vader_sent  Month  day  year  week  \n",
       "1251    0.6739           1     10   30  2014    44  \n",
       "252     0.2960           1      3   23  2021    12  \n",
       "2144    0.0000          -1      3    4  2021     9  \n",
       "1745   -0.0772          -1     11   19  2015    47  \n",
       "8       0.0000          -1      3    5  2021     9  \n",
       "2309    0.6166           1      6   10  2015    24  \n",
       "2327    0.2960           1      2   21  2014     8  \n",
       "1098    0.2960           1      3   22  2021    12  \n",
       "1551    0.2960           1      5   26  2019    21  \n",
       "342    -0.0258          -1      2   16  2021     7  \n",
       "813     0.0000          -1      3   23  2021    12  \n",
       "1367    0.2960           1     11   16  2018    46  \n",
       "1761   -0.1280          -1      7    7  2020    28  \n",
       "997     0.0000          -1     10   18  2019    42  \n",
       "1977    0.0000          -1      8   24  2016    34  \n",
       "731     0.4939           1      3    9  2021    10  \n",
       "195     0.5106           1      3   17  2021    11  \n",
       "1316    0.2960           1      2   13  2020     7  \n",
       "897     0.6369           1      3   17  2021    11  \n",
       "798     0.0000          -1      3   18  2021    11  \n",
       "2085    0.4404           1      3   24  2021    12  \n",
       "1361    0.2960           1     11   19  2018    47  \n",
       "1657    0.0000          -1      3   20  2021    11  \n",
       "2206    0.0000          -1      3   24  2021    12  \n",
       "1624   -0.2732          -1      3   17  2021    11  \n",
       "852     0.0000          -1      3   22  2021    12  \n",
       "2438    0.0516          -1      3   23  2021    12  \n",
       "1519    0.0000          -1     11    4  2014    45  \n",
       "1015    0.8176           1      2   21  2021     7  \n",
       "2683    0.3182           1      3   24  2021    12  \n",
       "1231    0.0000          -1      1   29  2015     5  \n",
       "906     0.0000          -1      3   15  2021    11  \n",
       "974     0.0000          -1      3   24  2021    12  \n",
       "1528    0.0000          -1      6   24  2013    26  \n",
       "1598    0.0000          -1      3   21  2021    11  \n",
       "781     0.0000          -1      3   23  2021    12  \n",
       "992     0.4466           1     10   29  2019    44  \n",
       "1089    0.0000          -1      3   23  2021    12  \n",
       "264    -0.5707          -1      3   22  2021    12  \n",
       "894     0.0000          -1      3   19  2021    11  "
      ]
     },
     "execution_count": 144,
     "metadata": {},
     "output_type": "execute_result"
    }
   ],
   "source": [
    "df_twits.sample(40)"
   ]
  },
  {
   "cell_type": "markdown",
   "id": "democratic-cologne",
   "metadata": {},
   "source": [
    "Do the time series analysis to see the different in sentiment analysis for three different model. "
   ]
  },
  {
   "cell_type": "markdown",
   "id": "mental-worship",
   "metadata": {},
   "source": [
    "#### Evaluate the sentimental for google, vader and flair for different years"
   ]
  },
  {
   "cell_type": "code",
   "execution_count": 152,
   "id": "center-emergency",
   "metadata": {},
   "outputs": [
    {
     "data": {
      "text/plain": [
       "Text(18.625, 0.5, 'Average sentiment')"
      ]
     },
     "execution_count": 152,
     "metadata": {},
     "output_type": "execute_result"
    },
    {
     "data": {
      "image/png": "[encoded data removed]",
      "text/plain": [
       "<Figure size 432x288 with 1 Axes>"
      ]
     },
     "metadata": {
      "needs_background": "light"
     },
     "output_type": "display_data"
    }
   ],
   "source": [
    "sns.lineplot(x='year',y='flair_sent',data=df_twits[df_twits['year']>2014], label=\"flair\")\n",
    "sns.lineplot(x='year',y='vader_sent',data=df_twits[df_twits['year']>2014], label=\"vader\")\n",
    "sns.lineplot(x='year',y='google_sent',data=df_twits[df_twits['year']>2014], label=\"google\")\n",
    "plt.title(\"Yearly sentiment change for three different model for same stocktweets\")\n",
    "plt.savefig(\"Yearly sentiment change for three different model.png\")\n",
    "plt.ylabel(\"Average sentiment\")"
   ]
  },
  {
   "cell_type": "markdown",
   "id": "binding-occasion",
   "metadata": {},
   "source": [
    "#### Evaluate the sentiment of the google, vader and flair for different months"
   ]
  },
  {
   "cell_type": "code",
   "execution_count": 146,
   "id": "progressive-distribution",
   "metadata": {},
   "outputs": [],
   "source": [
    "df_twits_flair_month = df_twits.groupby('Month')[['flair_sent']].mean()\n",
    "df_twits_google_month = df_twits.groupby('Month')[['google_sent']].mean()\n",
    "df_twits_vader_month = df_twits.groupby('Month')[['vader_sent']].mean()"
   ]
  },
  {
   "cell_type": "code",
   "execution_count": 147,
   "id": "patient-knowing",
   "metadata": {},
   "outputs": [],
   "source": [
    "import seaborn as sns\n",
    "import matplotlib.pyplot as plt"
   ]
  },
  {
   "cell_type": "code",
   "execution_count": 153,
   "id": "cheap-checklist",
   "metadata": {},
   "outputs": [
    {
     "data": {
      "text/plain": [
       "Text(0.5, 1.0, 'Stocktwits sentiments variation for different months')"
      ]
     },
     "execution_count": 153,
     "metadata": {},
     "output_type": "execute_result"
    },
    {
     "data": {
      "image/png": "[encoded data removed]",
      "text/plain": [
       "<Figure size 432x288 with 1 Axes>"
      ]
     },
     "metadata": {
      "needs_background": "light"
     },
     "output_type": "display_data"
    }
   ],
   "source": [
    "sns.lineplot(x='Month',y='flair_sent',data=df_twits_flair_month, label=\"flair\")\n",
    "sns.lineplot(x='Month',y='vader_sent',data=df_twits_vader_month, label=\"vader\")\n",
    "sns.lineplot(x='Month',y='google_sent',data=df_twits_google_month, label=\"google\")\n",
    "plt.ylabel('sentiments')\n",
    "plt.savefig(\"Stocktwits sentiments variation for different months.png\")\n",
    "plt.title('Stocktwits sentiments variation for different months')"
   ]
  },
  {
   "cell_type": "markdown",
   "id": "sealed-fusion",
   "metadata": {},
   "source": [
    "google and  vader shows some similar trend for monthly average in comparison to the flair \n"
   ]
  },
  {
   "cell_type": "markdown",
   "id": "express-channel",
   "metadata": {},
   "source": [
    "#### How the sentiments vary for different months in different years"
   ]
  },
  {
   "cell_type": "code",
   "execution_count": 149,
   "id": "imperial-surname",
   "metadata": {},
   "outputs": [
    {
     "data": {
      "text/plain": [
       "<AxesSubplot:xlabel='Month', ylabel='google_sent'>"
      ]
     },
     "execution_count": 149,
     "metadata": {},
     "output_type": "execute_result"
    },
    {
     "data": {
      "image/png": "[encoded data removed]",
      "text/plain": [
       "<Figure size 432x288 with 1 Axes>"
      ]
     },
     "metadata": {
      "needs_background": "light"
     },
     "output_type": "display_data"
    }
   ],
   "source": [
    "sns.lineplot(x='Month',y='google_sent',hue='year',data=df_twits[df_twits['year']>2017])"
   ]
  },
  {
   "cell_type": "code",
   "execution_count": 150,
   "id": "generic-montreal",
   "metadata": {},
   "outputs": [
    {
     "data": {
      "text/plain": [
       "<AxesSubplot:xlabel='Month', ylabel='flair_sent'>"
      ]
     },
     "execution_count": 150,
     "metadata": {},
     "output_type": "execute_result"
    },
    {
     "data": {
      "image/png": "[encoded data removed]",
      "text/plain": [
       "<Figure size 432x288 with 1 Axes>"
      ]
     },
     "metadata": {
      "needs_background": "light"
     },
     "output_type": "display_data"
    }
   ],
   "source": [
    "sns.lineplot(x='Month',y='flair_sent',hue='year',data=df_twits[df_twits['year']>2017])"
   ]
  },
  {
   "cell_type": "code",
   "execution_count": 151,
   "id": "advanced-galaxy",
   "metadata": {},
   "outputs": [
    {
     "data": {
      "text/plain": [
       "<AxesSubplot:xlabel='Month', ylabel='vader_sent'>"
      ]
     },
     "execution_count": 151,
     "metadata": {},
     "output_type": "execute_result"
    },
    {
     "data": {
      "image/png": "[encoded data removed]",
      "text/plain": [
       "<Figure size 432x288 with 1 Axes>"
      ]
     },
     "metadata": {
      "needs_background": "light"
     },
     "output_type": "display_data"
    }
   ],
   "source": [
    "sns.lineplot(x='Month',y='vader_sent',hue='year',data=df_twits[df_twits['year']>2017])"
   ]
  },
  {
   "cell_type": "markdown",
   "id": "olive-eugene",
   "metadata": {},
   "source": [
    "#### Let see for the 2021 how the sentimet score vary for three different pretrained model"
   ]
  },
  {
   "cell_type": "code",
   "execution_count": 25,
   "id": "surprised-consumption",
   "metadata": {},
   "outputs": [],
   "source": [
    "df_twits_2021 = df_twits[df_twits['year']==2021].sort_values(by= ['Month'])"
   ]
  },
  {
   "cell_type": "code",
   "execution_count": 26,
   "id": "chinese-mercy",
   "metadata": {},
   "outputs": [
    {
     "data": {
      "text/plain": [
       "3    1482\n",
       "2     193\n",
       "1      66\n",
       "Name: Month, dtype: int64"
      ]
     },
     "execution_count": 26,
     "metadata": {},
     "output_type": "execute_result"
    }
   ],
   "source": [
    "#Counts of twits for different months \n",
    "df_twits_2021['Month'].value_counts()"
   ]
  },
  {
   "cell_type": "code",
   "execution_count": 27,
   "id": "british-pursuit",
   "metadata": {},
   "outputs": [
    {
     "data": {
      "text/plain": [
       "Newsfilter                 133\n",
       "fla                        132\n",
       "Quantisnow                 115\n",
       "TradeWithAlerts            112\n",
       "cctranscripts               96\n",
       "tickeron                    69\n",
       "STCKPRO                     57\n",
       "Insider_Analysis            48\n",
       "CZARBETS                    45\n",
       "otcdynamics                 43\n",
       "risenhoover                 39\n",
       "ChartMill                   36\n",
       "MarketBeat                  30\n",
       "FilingsVille                28\n",
       "Stock_Titan                 22\n",
       "Last10K                     20\n",
       "LORD_QUAS                   18\n",
       "SweepCast                   17\n",
       "earningscalendario          13\n",
       "dividendinvestorbyeagle     11\n",
       "Name: user, dtype: int64"
      ]
     },
     "execution_count": 27,
     "metadata": {},
     "output_type": "execute_result"
    }
   ],
   "source": [
    "#Number of twits from different users\n",
    "df_twits_2021['user'].value_counts(ascending = False).head(20)"
   ]
  },
  {
   "cell_type": "code",
   "execution_count": 28,
   "id": "suspended-stock",
   "metadata": {},
   "outputs": [
    {
     "data": {
      "text/plain": [
       "flair_sent  user                   \n",
       "-1          fla                        126\n",
       "            Newsfilter                 105\n",
       "            cctranscripts               68\n",
       "            tickeron                    65\n",
       "            Insider_Analysis            47\n",
       "            Quantisnow                  42\n",
       "            risenhoover                 39\n",
       "            TradeWithAlerts             38\n",
       "            STCKPRO                     34\n",
       "            MarketBeat                  30\n",
       "            ChartMill                   27\n",
       "            otcdynamics                 26\n",
       "            CZARBETS                    23\n",
       "            Last10K                     20\n",
       "            SweepCast                   17\n",
       "            FilingsVille                13\n",
       "            LORD_QUAS                   11\n",
       "            dividendinvestorbyeagle     11\n",
       "            earningscalendario          11\n",
       "            mikedeatworld               10\n",
       "Name: user, dtype: int64"
      ]
     },
     "execution_count": 28,
     "metadata": {},
     "output_type": "execute_result"
    }
   ],
   "source": [
    "df_twits_2021.groupby(['flair_sent'])['user'].value_counts(ascending= False).head(20)"
   ]
  },
  {
   "cell_type": "markdown",
   "id": "quiet-arizona",
   "metadata": {},
   "source": [
    "Top users has more than 90% of their twits with negative sentiments these looks like professional twits advertisement for stock market recommendation"
   ]
  },
  {
   "cell_type": "markdown",
   "id": "prime-exception",
   "metadata": {},
   "source": [
    "#### Compare the google and flair pretrained model for stocktwits"
   ]
  },
  {
   "cell_type": "code",
   "execution_count": 29,
   "id": "effective-drive",
   "metadata": {},
   "outputs": [],
   "source": [
    "df_twits['google_flair'] = np.where(df_twits['google_sent'] == df_twits['flair_sent'], 'True', 'False')"
   ]
  },
  {
   "cell_type": "code",
   "execution_count": 30,
   "id": "continuous-theorem",
   "metadata": {
    "scrolled": true
   },
   "outputs": [
    {
     "data": {
      "text/plain": [
       "True     0.673365\n",
       "False    0.326635\n",
       "Name: google_flair, dtype: float64"
      ]
     },
     "execution_count": 30,
     "metadata": {},
     "output_type": "execute_result"
    }
   ],
   "source": [
    "df_twits['google_flair'].value_counts(normalize = True)"
   ]
  },
  {
   "cell_type": "markdown",
   "id": "uniform-firmware",
   "metadata": {},
   "source": [
    "There is match in the prediction for the google and flair sentiment for 67% percentile. "
   ]
  },
  {
   "cell_type": "code",
   "execution_count": 31,
   "id": "fatal-necessity",
   "metadata": {},
   "outputs": [
    {
     "data": {
      "text/plain": [
       "6    ['Obscure SPAC time  \\\\n\\\\n$ANDA - Merging wit...\n",
       "7                ['$ANDA Waiting on merger news like']\n",
       "9    ['Prospectuses and communications, business co...\n",
       "Name: twits, dtype: object"
      ]
     },
     "execution_count": 31,
     "metadata": {},
     "output_type": "execute_result"
    }
   ],
   "source": [
    "#exploring the twits with wrong prediction between the google and flair\n",
    "df_twits[df_twits['google_flair']== 'False']['twits'][:3]"
   ]
  },
  {
   "cell_type": "code",
   "execution_count": 32,
   "id": "sophisticated-camera",
   "metadata": {},
   "outputs": [],
   "source": [
    "from nltk.corpus import stopwords\n",
    "stops = stopwords.words('english')\n",
    "# we can find lots of single letters so append with the stop words\n",
    "list_stops = ['a', 'b', 'c', 'd', 'e', 'f', 'g', 'h', 'i', 'j', 'l','m', 'n', 'o', 'p', 'q', 'r', 's', 't', 'u','v', 'w', 'x', 'y', 'z']\n",
    "for i in list_stops:\n",
    "    stops.append(i)"
   ]
  },
  {
   "cell_type": "code",
   "execution_count": 33,
   "id": "copyrighted-employment",
   "metadata": {},
   "outputs": [],
   "source": [
    "lemmatizer = WordNetLemmatizer()\n",
    "porters = PorterStemmer()\n",
    "\n",
    "\n",
    "def clean_tweet(tweet):\n",
    "    'remove punctuation, clean ,lemmatize and stem'\n",
    "    tweet = re.sub(r\"[$]\\w+\", \"\", tweet)# remove the tickers at any place with dollar sign\n",
    "    tweet = re.sub(r\"[u]\\d+\", \"\", tweet)# remove anything starting with u and the digits\n",
    "    tweet=  re.sub('((www\\.[^\\s]+)|(https?://[^\\s]+))','', tweet)# remove the url\n",
    "    tweet = ' '.join(re.sub('(@[A-Za-z0-9]+)|([^A-Za-z \\t])|(\\w+:\\/\\/\\S+)', ' ', tweet).lower().split())\n",
    "    tweet = lemmatizer.lemmatize(tweet)\n",
    "    tweet = porters.stem(tweet)\n",
    "    return tweet\n",
    "\n",
    "df_twits[\"Clean_Tweet\"] = df_twits['twits'].apply(lambda x: clean_tweet(x))"
   ]
  },
  {
   "cell_type": "code",
   "execution_count": 166,
   "id": "arranged-novel",
   "metadata": {},
   "outputs": [],
   "source": [
    "token = TweetTokenizer()\n",
    "tfidf = TfidfVectorizer(stop_words = 'english', tokenizer = token.tokenize)\n",
    "text_count = tfidf.fit_transform(df_twits['Clean_Tweet'])\n",
    "\n",
    "#splitting the twits for train and test\n",
    "X_train, X_test, y_train, y_test = train_test_split(text_count, df_twits['google_sent'], test_size = 0.25, random_state = 5)"
   ]
  },
  {
   "cell_type": "markdown",
   "id": "treated-dragon",
   "metadata": {},
   "source": [
    "## Modeling"
   ]
  },
  {
   "cell_type": "markdown",
   "id": "fatty-finland",
   "metadata": {},
   "source": [
    "We get the labelled data now we want to build the model for three different labelled data. We will train our labelled data and evaluate the accuracy.\n",
    "I used the TfidfVectorizer and Naive Bayes model and obtain the accuracy."
   ]
  },
  {
   "cell_type": "markdown",
   "id": "widespread-register",
   "metadata": {},
   "source": [
    "#### Test of the google sentiment with Naive Bayes model"
   ]
  },
  {
   "cell_type": "code",
   "execution_count": 167,
   "id": "nearby-surface",
   "metadata": {},
   "outputs": [],
   "source": [
    "from sklearn.metrics import precision_score, recall_score, confusion_matrix\n",
    "from sklearn.metrics import f1_score"
   ]
  },
  {
   "cell_type": "code",
   "execution_count": 168,
   "id": "every-microphone",
   "metadata": {},
   "outputs": [
    {
     "name": "stdout",
     "output_type": "stream",
     "text": [
      "The confusion_matrix for MNB is [[470 158]\n",
      " [ 10  47]]\n",
      "The precision score for MNB is 0.22926829268292684\n",
      "The recall score for MNB is 0.8245614035087719\n",
      "The f1 score for MNB is 0.35877862595419846\n",
      "The accuracy score for MNB is 75.47445255474453\n"
     ]
    }
   ],
   "source": [
    "# Naive Bayes model \n",
    "MNB = MultinomialNB()\n",
    "MNB.fit(X_train, y_train)\n",
    "predicted = MNB.predict(X_test)\n",
    "accuracy_score = metrics.accuracy_score(y_test, predicted)\n",
    "print('The confusion_matrix for MNB is {}'.format(confusion_matrix(predicted, y_test)))\n",
    "print('The precision score for MNB is {}'.format(precision_score(predicted, y_test)))\n",
    "print('The recall score for MNB is {}'.format(recall_score(predicted, y_test)))\n",
    "print('The f1 score for MNB is {}'.format(f1_score(predicted, y_test)))\n",
    "print('The accuracy score for MNB is {}'.format(accuracy_score*100))"
   ]
  },
  {
   "cell_type": "markdown",
   "id": "fourth-nancy",
   "metadata": {},
   "source": [
    "#### Test of the flair sentiment with Naive Bayes model"
   ]
  },
  {
   "cell_type": "code",
   "execution_count": 169,
   "id": "least-fiber",
   "metadata": {},
   "outputs": [],
   "source": [
    "X_train, X_test, y_train, y_test = train_test_split(text_count, df_twits['flair_sent'], test_size = 0.25, random_state = 5)"
   ]
  },
  {
   "cell_type": "code",
   "execution_count": 170,
   "id": "automotive-legislation",
   "metadata": {},
   "outputs": [
    {
     "name": "stdout",
     "output_type": "stream",
     "text": [
      "The confusion_matrix for MNB is [[507  96]\n",
      " [ 26  56]]\n",
      "The precision score for MNB is 0.3684210526315789\n",
      "The recall score for MNB is 0.6829268292682927\n",
      "The f1 score for MNB is 0.47863247863247865\n",
      "The accuracy score for MNB is 82.18978102189782\n"
     ]
    }
   ],
   "source": [
    "# Naive Bayes model \n",
    "MNB = MultinomialNB()\n",
    "MNB.fit(X_train, y_train)\n",
    "predicted = MNB.predict(X_test)\n",
    "accuracy_score = metrics.accuracy_score(y_test, predicted)\n",
    "print('The confusion_matrix for MNB is {}'.format(confusion_matrix(predicted, y_test)))\n",
    "print('The precision score for MNB is {}'.format(precision_score(predicted, y_test)))\n",
    "print('The recall score for MNB is {}'.format(recall_score(predicted, y_test)))\n",
    "print('The f1 score for MNB is {}'.format(f1_score(predicted, y_test)))\n",
    "print('The accuracy score for MNB is {}'.format(accuracy_score*100))"
   ]
  },
  {
   "cell_type": "markdown",
   "id": "cardiovascular-atmosphere",
   "metadata": {},
   "source": [
    "#### Test of the vader sentiment with  Bayes model"
   ]
  },
  {
   "cell_type": "code",
   "execution_count": 171,
   "id": "expanded-public",
   "metadata": {},
   "outputs": [],
   "source": [
    "X_train, X_test, y_train, y_test = train_test_split(text_count, df_twits['vader_sent'], test_size = 0.25, random_state = 5)"
   ]
  },
  {
   "cell_type": "code",
   "execution_count": 172,
   "id": "gentle-church",
   "metadata": {},
   "outputs": [
    {
     "name": "stdout",
     "output_type": "stream",
     "text": [
      "The confusion_matrix for MNB is [[402  86]\n",
      " [ 27 170]]\n",
      "The precision score for MNB is 0.6640625\n",
      "The recall score for MNB is 0.8629441624365483\n",
      "The f1 score for MNB is 0.7505518763796909\n",
      "The accuracy score for MNB is 83.5036496350365\n"
     ]
    }
   ],
   "source": [
    "# Naive Bayes model \n",
    "MNB = MultinomialNB()\n",
    "MNB.fit(X_train, y_train)\n",
    "predicted = MNB.predict(X_test)\n",
    "accuracy_score = metrics.accuracy_score(y_test, predicted)\n",
    "print('The confusion_matrix for MNB is {}'.format(confusion_matrix(predicted, y_test)))\n",
    "print('The precision score for MNB is {}'.format(precision_score(predicted, y_test)))\n",
    "print('The recall score for MNB is {}'.format(recall_score(predicted, y_test)))\n",
    "print('The f1 score for MNB is {}'.format(f1_score(predicted, y_test)))\n",
    "print('The accuracy score for MNB is {}'.format(accuracy_score*100))"
   ]
  },
  {
   "cell_type": "markdown",
   "id": "increased-singles",
   "metadata": {},
   "source": [
    "vader gave  the better results with highest accuracy and recall score compare to google and flair for building the Naive Bayes Model. "
   ]
  },
  {
   "cell_type": "code",
   "execution_count": null,
   "id": "demographic-scholar",
   "metadata": {},
   "outputs": [],
   "source": []
  }
 ],
 "metadata": {
  "kernelspec": {
   "display_name": "Python 3",
   "language": "python",
   "name": "python3"
  },
  "language_info": {
   "codemirror_mode": {
    "name": "ipython",
    "version": 3
   },
   "file_extension": ".py",
   "mimetype": "text/x-python",
   "name": "python",
   "nbconvert_exporter": "python",
   "pygments_lexer": "ipython3",
   "version": "3.7.7"
  }
 },
 "nbformat": 4,
 "nbformat_minor": 5
}
