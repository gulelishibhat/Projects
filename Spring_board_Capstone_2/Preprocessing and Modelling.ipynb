{
 "cells": [
  {
   "cell_type": "markdown",
   "metadata": {},
   "source": [
    "### importing and parsing"
   ]
  },
  {
   "cell_type": "code",
   "execution_count": 1,
   "metadata": {},
   "outputs": [],
   "source": [
    "import pandas as pd\n",
    "from datetime import datetime\n",
    "import seaborn as sns\n",
    "import matplotlib.pyplot as plt\n",
    "from sklearn.model_selection import train_test_split\n",
    "from sklearn.linear_model import LinearRegression\n",
    "from sklearn.metrics import explained_variance_score as evs\n",
    "from sklearn.metrics import r2_score as r2\n",
    "from sklearn.preprocessing import LabelEncoder\n",
    "from scipy.stats import norm\n",
    "from sklearn.ensemble import RandomForestRegressor,  GradientBoostingRegressor\n",
    "from sklearn.model_selection import KFold, cross_val_score, train_test_split\n",
    "from sklearn.metrics import mean_squared_error\n",
    "import xgboost as xgb\n",
    "from sklearn.model_selection import GridSearchCV\n",
    "import numpy as np\n",
    "from sklearn.metrics import classification_report\n",
    "from sklearn.metrics import confusion_matrix, mean_squared_error, mean_absolute_error"
   ]
  },
  {
   "cell_type": "code",
   "execution_count": 2,
   "metadata": {},
   "outputs": [],
   "source": [
    "dateparse = lambda x: datetime.strptime(x, '%Y-%m-%d %H:%M')\n",
    "\n",
    "df_york = pd.read_csv(\"df_york_model.csv\", parse_dates=['post_timing'], date_parser=dateparse, index_col = 0)\n",
    "df_philly = pd.read_csv(\"df_philly_model.csv\", parse_dates=['post_timing'], date_parser=dateparse, index_col = 0)"
   ]
  },
  {
   "cell_type": "code",
   "execution_count": 3,
   "metadata": {},
   "outputs": [
    {
     "data": {
      "text/plain": [
       "Timestamp('2021-02-18 16:47:00')"
      ]
     },
     "execution_count": 3,
     "metadata": {},
     "output_type": "execute_result"
    }
   ],
   "source": [
    "df_york['post_timing'].max()"
   ]
  },
  {
   "cell_type": "code",
   "execution_count": 4,
   "metadata": {},
   "outputs": [
    {
     "data": {
      "text/plain": [
       "Timestamp('2021-02-18 17:22:00')"
      ]
     },
     "execution_count": 4,
     "metadata": {},
     "output_type": "execute_result"
    }
   ],
   "source": [
    "df_philly['post_timing'].max()"
   ]
  },
  {
   "cell_type": "code",
   "execution_count": 5,
   "metadata": {},
   "outputs": [],
   "source": [
    "df_york['post_timing_days'] = (df_york['post_timing'].max() - df_york['post_timing']).dt.days\n",
    "df_york = df_york.drop(columns = ['post_timing'])\n",
    "df_philly['post_timing_days'] = (df_philly['post_timing'].max() - df_philly['post_timing']).dt.days\n",
    "df_philly = df_philly.drop(columns = ['post_timing'])"
   ]
  },
  {
   "cell_type": "code",
   "execution_count": 6,
   "metadata": {},
   "outputs": [
    {
     "data": {
      "text/plain": [
       "<AxesSubplot:>"
      ]
     },
     "execution_count": 6,
     "metadata": {},
     "output_type": "execute_result"
    },
    {
     "data": {
      "image/png": "[encoded data removed]",
      "text/plain": [
       "<Figure size 432x288 with 1 Axes>"
      ]
     },
     "metadata": {
      "needs_background": "light"
     },
     "output_type": "display_data"
    }
   ],
   "source": [
    "(df_york['post_timing_days'].astype(str)).value_counts(ascending = False)[:15].plot(kind='bar')"
   ]
  },
  {
   "cell_type": "code",
   "execution_count": 7,
   "metadata": {},
   "outputs": [
    {
     "data": {
      "text/plain": [
       "<AxesSubplot:xlabel='post_timing_days'>"
      ]
     },
     "execution_count": 7,
     "metadata": {},
     "output_type": "execute_result"
    },
    {
     "data": {
      "image/png": "[encoded data removed]",
      "text/plain": [
       "<Figure size 432x288 with 1 Axes>"
      ]
     },
     "metadata": {
      "needs_background": "light"
     },
     "output_type": "display_data"
    }
   ],
   "source": [
    "#The average for different housing types for number of days old in Craiglist looks same.\n",
    "df_york.groupby(['post_timing_days'])['post_prices'].mean().plot(kind = 'bar')"
   ]
  },
  {
   "cell_type": "code",
   "execution_count": 8,
   "metadata": {},
   "outputs": [
    {
     "data": {
      "text/plain": [
       "<AxesSubplot:xlabel='post_timing_days'>"
      ]
     },
     "execution_count": 8,
     "metadata": {},
     "output_type": "execute_result"
    },
    {
     "data": {
      "image/png": "[encoded data removed]",
      "text/plain": [
       "<Figure size 432x288 with 1 Axes>"
      ]
     },
     "metadata": {
      "needs_background": "light"
     },
     "output_type": "display_data"
    }
   ],
   "source": [
    "df_philly.groupby(['post_timing_days'])['post_prices'].mean().plot(kind = 'bar')"
   ]
  },
  {
   "cell_type": "code",
   "execution_count": 9,
   "metadata": {},
   "outputs": [],
   "source": [
    "#Compare to Newyork , Philly has listing post just 2 days old."
   ]
  },
  {
   "cell_type": "markdown",
   "metadata": {},
   "source": [
    "### Change float to integer\n",
    "There are number of features like sqfts, price , bedroom and bathroom count in float"
   ]
  },
  {
   "cell_type": "code",
   "execution_count": 10,
   "metadata": {},
   "outputs": [
    {
     "name": "stdout",
     "output_type": "stream",
     "text": [
      "<class 'pandas.core.frame.DataFrame'>\n",
      "Int64Index: 2321 entries, 0 to 2321\n",
      "Data columns (total 11 columns):\n",
      " #   Column            Non-Null Count  Dtype  \n",
      "---  ------            --------------  -----  \n",
      " 0   post_prices       2321 non-null   float64\n",
      " 1   sqfts             2321 non-null   float64\n",
      " 2   bedroom_counts    2321 non-null   float64\n",
      " 3   No_of_bathrooms   2321 non-null   float64\n",
      " 4   pet               2321 non-null   object \n",
      " 5   laundry           2321 non-null   object \n",
      " 6   parking           2321 non-null   object \n",
      " 7   Apartment_type    2321 non-null   object \n",
      " 8   postcode          2321 non-null   object \n",
      " 9   pickup cluster    2321 non-null   int64  \n",
      " 10  post_timing_days  2321 non-null   int64  \n",
      "dtypes: float64(4), int64(2), object(5)\n",
      "memory usage: 217.6+ KB\n"
     ]
    }
   ],
   "source": [
    "df_york.info()"
   ]
  },
  {
   "cell_type": "code",
   "execution_count": 11,
   "metadata": {},
   "outputs": [],
   "source": [
    "columns = df_york.select_dtypes(include=['float']).columns"
   ]
  },
  {
   "cell_type": "code",
   "execution_count": 12,
   "metadata": {},
   "outputs": [
    {
     "data": {
      "text/html": [
       "<div>\n",
       "<style scoped>\n",
       "    .dataframe tbody tr th:only-of-type {\n",
       "        vertical-align: middle;\n",
       "    }\n",
       "\n",
       "    .dataframe tbody tr th {\n",
       "        vertical-align: top;\n",
       "    }\n",
       "\n",
       "    .dataframe thead th {\n",
       "        text-align: right;\n",
       "    }\n",
       "</style>\n",
       "<table border=\"1\" class=\"dataframe\">\n",
       "  <thead>\n",
       "    <tr style=\"text-align: right;\">\n",
       "      <th></th>\n",
       "      <th>post_prices</th>\n",
       "      <th>sqfts</th>\n",
       "      <th>bedroom_counts</th>\n",
       "      <th>No_of_bathrooms</th>\n",
       "      <th>pet</th>\n",
       "      <th>laundry</th>\n",
       "      <th>parking</th>\n",
       "      <th>Apartment_type</th>\n",
       "      <th>postcode</th>\n",
       "      <th>pickup cluster</th>\n",
       "      <th>post_timing_days</th>\n",
       "    </tr>\n",
       "  </thead>\n",
       "  <tbody>\n",
       "    <tr>\n",
       "      <th>0</th>\n",
       "      <td>3045</td>\n",
       "      <td>1002</td>\n",
       "      <td>2</td>\n",
       "      <td>2</td>\n",
       "      <td>both pets</td>\n",
       "      <td>in unit</td>\n",
       "      <td>no</td>\n",
       "      <td>multi</td>\n",
       "      <td>19123</td>\n",
       "      <td>10</td>\n",
       "      <td>0</td>\n",
       "    </tr>\n",
       "    <tr>\n",
       "      <th>1</th>\n",
       "      <td>1000</td>\n",
       "      <td>859</td>\n",
       "      <td>1</td>\n",
       "      <td>1</td>\n",
       "      <td>no pet</td>\n",
       "      <td>in unit</td>\n",
       "      <td>off-street</td>\n",
       "      <td>multi</td>\n",
       "      <td>19148</td>\n",
       "      <td>0</td>\n",
       "      <td>0</td>\n",
       "    </tr>\n",
       "    <tr>\n",
       "      <th>2</th>\n",
       "      <td>2487</td>\n",
       "      <td>859</td>\n",
       "      <td>1</td>\n",
       "      <td>1</td>\n",
       "      <td>no pet</td>\n",
       "      <td>in unit</td>\n",
       "      <td>no</td>\n",
       "      <td>multi</td>\n",
       "      <td>19104</td>\n",
       "      <td>7</td>\n",
       "      <td>0</td>\n",
       "    </tr>\n",
       "    <tr>\n",
       "      <th>3</th>\n",
       "      <td>1690</td>\n",
       "      <td>1100</td>\n",
       "      <td>1</td>\n",
       "      <td>1</td>\n",
       "      <td>no pet</td>\n",
       "      <td>in unit</td>\n",
       "      <td>no</td>\n",
       "      <td>multi</td>\n",
       "      <td>19106</td>\n",
       "      <td>0</td>\n",
       "      <td>0</td>\n",
       "    </tr>\n",
       "    <tr>\n",
       "      <th>4</th>\n",
       "      <td>1100</td>\n",
       "      <td>859</td>\n",
       "      <td>1</td>\n",
       "      <td>1</td>\n",
       "      <td>both pets</td>\n",
       "      <td>no laundry</td>\n",
       "      <td>no</td>\n",
       "      <td>multi</td>\n",
       "      <td>19130</td>\n",
       "      <td>0</td>\n",
       "      <td>0</td>\n",
       "    </tr>\n",
       "    <tr>\n",
       "      <th>...</th>\n",
       "      <td>...</td>\n",
       "      <td>...</td>\n",
       "      <td>...</td>\n",
       "      <td>...</td>\n",
       "      <td>...</td>\n",
       "      <td>...</td>\n",
       "      <td>...</td>\n",
       "      <td>...</td>\n",
       "      <td>...</td>\n",
       "      <td>...</td>\n",
       "      <td>...</td>\n",
       "    </tr>\n",
       "    <tr>\n",
       "      <th>1809</th>\n",
       "      <td>1000</td>\n",
       "      <td>859</td>\n",
       "      <td>1</td>\n",
       "      <td>1</td>\n",
       "      <td>both pets</td>\n",
       "      <td>on site</td>\n",
       "      <td>no</td>\n",
       "      <td>multi</td>\n",
       "      <td>19125</td>\n",
       "      <td>10</td>\n",
       "      <td>2</td>\n",
       "    </tr>\n",
       "    <tr>\n",
       "      <th>1810</th>\n",
       "      <td>1300</td>\n",
       "      <td>859</td>\n",
       "      <td>1</td>\n",
       "      <td>1</td>\n",
       "      <td>both pets</td>\n",
       "      <td>in unit</td>\n",
       "      <td>no</td>\n",
       "      <td>multi</td>\n",
       "      <td>19147</td>\n",
       "      <td>0</td>\n",
       "      <td>2</td>\n",
       "    </tr>\n",
       "    <tr>\n",
       "      <th>1811</th>\n",
       "      <td>2177</td>\n",
       "      <td>780</td>\n",
       "      <td>1</td>\n",
       "      <td>1</td>\n",
       "      <td>both pets</td>\n",
       "      <td>in unit</td>\n",
       "      <td>protected</td>\n",
       "      <td>multi</td>\n",
       "      <td>19107</td>\n",
       "      <td>0</td>\n",
       "      <td>2</td>\n",
       "    </tr>\n",
       "    <tr>\n",
       "      <th>1812</th>\n",
       "      <td>5895</td>\n",
       "      <td>1610</td>\n",
       "      <td>5</td>\n",
       "      <td>2</td>\n",
       "      <td>both pets</td>\n",
       "      <td>in unit</td>\n",
       "      <td>no</td>\n",
       "      <td>multi</td>\n",
       "      <td>19104</td>\n",
       "      <td>7</td>\n",
       "      <td>2</td>\n",
       "    </tr>\n",
       "    <tr>\n",
       "      <th>1813</th>\n",
       "      <td>1695</td>\n",
       "      <td>859</td>\n",
       "      <td>1</td>\n",
       "      <td>1</td>\n",
       "      <td>both pets</td>\n",
       "      <td>in unit</td>\n",
       "      <td>no</td>\n",
       "      <td>multi</td>\n",
       "      <td>19147</td>\n",
       "      <td>0</td>\n",
       "      <td>2</td>\n",
       "    </tr>\n",
       "  </tbody>\n",
       "</table>\n",
       "<p>1808 rows × 11 columns</p>\n",
       "</div>"
      ],
      "text/plain": [
       "      post_prices  sqfts  bedroom_counts  No_of_bathrooms        pet  \\\n",
       "0            3045   1002               2                2  both pets   \n",
       "1            1000    859               1                1     no pet   \n",
       "2            2487    859               1                1     no pet   \n",
       "3            1690   1100               1                1     no pet   \n",
       "4            1100    859               1                1  both pets   \n",
       "...           ...    ...             ...              ...        ...   \n",
       "1809         1000    859               1                1  both pets   \n",
       "1810         1300    859               1                1  both pets   \n",
       "1811         2177    780               1                1  both pets   \n",
       "1812         5895   1610               5                2  both pets   \n",
       "1813         1695    859               1                1  both pets   \n",
       "\n",
       "         laundry     parking Apartment_type postcode  pickup cluster  \\\n",
       "0        in unit          no          multi    19123              10   \n",
       "1        in unit  off-street          multi    19148               0   \n",
       "2        in unit          no          multi    19104               7   \n",
       "3        in unit          no          multi    19106               0   \n",
       "4     no laundry          no          multi    19130               0   \n",
       "...          ...         ...            ...      ...             ...   \n",
       "1809     on site          no          multi    19125              10   \n",
       "1810     in unit          no          multi    19147               0   \n",
       "1811     in unit   protected          multi    19107               0   \n",
       "1812     in unit          no          multi    19104               7   \n",
       "1813     in unit          no          multi    19147               0   \n",
       "\n",
       "      post_timing_days  \n",
       "0                    0  \n",
       "1                    0  \n",
       "2                    0  \n",
       "3                    0  \n",
       "4                    0  \n",
       "...                ...  \n",
       "1809                 2  \n",
       "1810                 2  \n",
       "1811                 2  \n",
       "1812                 2  \n",
       "1813                 2  \n",
       "\n",
       "[1808 rows x 11 columns]"
      ]
     },
     "execution_count": 12,
     "metadata": {},
     "output_type": "execute_result"
    }
   ],
   "source": [
    "def change_float(df):\n",
    "    '''Change the float columns into integer in pandas DataFrame'''\n",
    "    for col in df.select_dtypes(include=['float']).columns:\n",
    "        df[col]= df[col].astype(int)\n",
    "    return df\n",
    "change_float(df_york)\n",
    "change_float(df_philly)"
   ]
  },
  {
   "cell_type": "code",
   "execution_count": 13,
   "metadata": {},
   "outputs": [
    {
     "name": "stdout",
     "output_type": "stream",
     "text": [
      "<class 'pandas.core.frame.DataFrame'>\n",
      "Int64Index: 2321 entries, 0 to 2321\n",
      "Data columns (total 11 columns):\n",
      " #   Column            Non-Null Count  Dtype \n",
      "---  ------            --------------  ----- \n",
      " 0   post_prices       2321 non-null   int64 \n",
      " 1   sqfts             2321 non-null   int64 \n",
      " 2   bedroom_counts    2321 non-null   int64 \n",
      " 3   No_of_bathrooms   2321 non-null   int64 \n",
      " 4   pet               2321 non-null   object\n",
      " 5   laundry           2321 non-null   object\n",
      " 6   parking           2321 non-null   object\n",
      " 7   Apartment_type    2321 non-null   object\n",
      " 8   postcode          2321 non-null   object\n",
      " 9   pickup cluster    2321 non-null   int64 \n",
      " 10  post_timing_days  2321 non-null   int64 \n",
      "dtypes: int64(6), object(5)\n",
      "memory usage: 217.6+ KB\n"
     ]
    }
   ],
   "source": [
    "df_york.info()"
   ]
  },
  {
   "cell_type": "code",
   "execution_count": 14,
   "metadata": {},
   "outputs": [
    {
     "name": "stdout",
     "output_type": "stream",
     "text": [
      "<class 'pandas.core.frame.DataFrame'>\n",
      "Int64Index: 1808 entries, 0 to 1813\n",
      "Data columns (total 11 columns):\n",
      " #   Column            Non-Null Count  Dtype \n",
      "---  ------            --------------  ----- \n",
      " 0   post_prices       1808 non-null   int64 \n",
      " 1   sqfts             1808 non-null   int64 \n",
      " 2   bedroom_counts    1808 non-null   int64 \n",
      " 3   No_of_bathrooms   1808 non-null   int64 \n",
      " 4   pet               1808 non-null   object\n",
      " 5   laundry           1808 non-null   object\n",
      " 6   parking           1808 non-null   object\n",
      " 7   Apartment_type    1808 non-null   object\n",
      " 8   postcode          1808 non-null   object\n",
      " 9   pickup cluster    1808 non-null   int64 \n",
      " 10  post_timing_days  1808 non-null   int64 \n",
      "dtypes: int64(6), object(5)\n",
      "memory usage: 169.5+ KB\n"
     ]
    }
   ],
   "source": [
    "df_philly.info()"
   ]
  },
  {
   "cell_type": "code",
   "execution_count": 15,
   "metadata": {},
   "outputs": [
    {
     "data": {
      "image/png": "[encoded data removed]",
      "text/plain": [
       "<Figure size 432x288 with 2 Axes>"
      ]
     },
     "metadata": {
      "needs_background": "light"
     },
     "output_type": "display_data"
    }
   ],
   "source": [
    "sns.heatmap(df_york.corr(), annot = True, cmap = 'magma')\n",
    "\n",
    "plt.savefig('york_heatmap.png')\n",
    "plt.show()"
   ]
  },
  {
   "cell_type": "code",
   "execution_count": 16,
   "metadata": {},
   "outputs": [
    {
     "data": {
      "image/png": "[encoded data removed]",
      "text/plain": [
       "<Figure size 432x288 with 2 Axes>"
      ]
     },
     "metadata": {
      "needs_background": "light"
     },
     "output_type": "display_data"
    }
   ],
   "source": [
    "sns.heatmap(df_philly.corr(), annot = True, cmap = 'magma')\n",
    "\n",
    "plt.savefig('philly_heatmap.png', dpi=300, bbox_inches = \"tight\")\n",
    "plt.show()"
   ]
  },
  {
   "cell_type": "markdown",
   "metadata": {},
   "source": [
    "Post_timing_days is not correlated with post_prices or any other features.\n",
    "Bedroom Count is correlated with sqfts and post prices and bathroom counts."
   ]
  },
  {
   "cell_type": "markdown",
   "metadata": {},
   "source": [
    "#### Stack vertically both philadelphia and York to train the model"
   ]
  },
  {
   "cell_type": "code",
   "execution_count": 17,
   "metadata": {},
   "outputs": [],
   "source": [
    "df = pd.concat([df_york, df_philly])"
   ]
  },
  {
   "cell_type": "code",
   "execution_count": 18,
   "metadata": {},
   "outputs": [
    {
     "name": "stdout",
     "output_type": "stream",
     "text": [
      "<class 'pandas.core.frame.DataFrame'>\n",
      "Int64Index: 4129 entries, 0 to 1813\n",
      "Data columns (total 11 columns):\n",
      " #   Column            Non-Null Count  Dtype \n",
      "---  ------            --------------  ----- \n",
      " 0   post_prices       4129 non-null   int64 \n",
      " 1   sqfts             4129 non-null   int64 \n",
      " 2   bedroom_counts    4129 non-null   int64 \n",
      " 3   No_of_bathrooms   4129 non-null   int64 \n",
      " 4   pet               4129 non-null   object\n",
      " 5   laundry           4129 non-null   object\n",
      " 6   parking           4129 non-null   object\n",
      " 7   Apartment_type    4129 non-null   object\n",
      " 8   postcode          4129 non-null   object\n",
      " 9   pickup cluster    4129 non-null   int64 \n",
      " 10  post_timing_days  4129 non-null   int64 \n",
      "dtypes: int64(6), object(5)\n",
      "memory usage: 387.1+ KB\n"
     ]
    }
   ],
   "source": [
    "df.info()"
   ]
  },
  {
   "cell_type": "code",
   "execution_count": 19,
   "metadata": {},
   "outputs": [
    {
     "name": "stderr",
     "output_type": "stream",
     "text": [
      "/opt/anaconda3/lib/python3.8/site-packages/seaborn/distributions.py:2557: FutureWarning: `distplot` is a deprecated function and will be removed in a future version. Please adapt your code to use either `displot` (a figure-level function with similar flexibility) or `histplot` (an axes-level function for histograms).\n",
      "  warnings.warn(msg, FutureWarning)\n"
     ]
    },
    {
     "data": {
      "image/png": "[encoded data removed]",
      "text/plain": [
       "<Figure size 432x288 with 1 Axes>"
      ]
     },
     "metadata": {
      "needs_background": "light"
     },
     "output_type": "display_data"
    }
   ],
   "source": [
    "sns.distplot(df['post_prices'], fit = norm)\n",
    "(mu, sigma) = norm.fit(df['post_prices'])"
   ]
  },
  {
   "cell_type": "code",
   "execution_count": 20,
   "metadata": {},
   "outputs": [],
   "source": [
    "def ecdf(df):\n",
    "    \"\"\"Compute ECDF for a one-dimensional array of measurements.\"\"\"\n",
    "    n = len(df)\n",
    "\n",
    "    x = np.sort(df)\n",
    "\n",
    "    y = np.arange(1, n+1) / n\n",
    "\n",
    "    return x, y"
   ]
  },
  {
   "cell_type": "code",
   "execution_count": 21,
   "metadata": {},
   "outputs": [
    {
     "data": {
      "image/png": "[encoded data removed]",
      "text/plain": [
       "<Figure size 432x288 with 1 Axes>"
      ]
     },
     "metadata": {
      "needs_background": "light"
     },
     "output_type": "display_data"
    }
   ],
   "source": [
    "x_vers, y_vers = ecdf(df['post_prices'])\n",
    "\n",
    "# Generate plot\n",
    "plt.plot(x_vers, y_vers, marker = '.', linestyle = 'none')\n",
    "\n",
    "# Label the axes\n",
    "plt.xlabel('post prices')\n",
    "plt.ylabel('Empricial Cumulative Distribution Function')\n",
    "plt.savefig(\"empirical_cdf_price.png\")\n",
    "\n",
    "# Display the plot\n",
    "plt.show()"
   ]
  },
  {
   "cell_type": "markdown",
   "metadata": {},
   "source": [
    "We have 70% data having listing price less than $2800"
   ]
  },
  {
   "cell_type": "markdown",
   "metadata": {},
   "source": [
    "### Label Encoding"
   ]
  },
  {
   "cell_type": "code",
   "execution_count": 22,
   "metadata": {},
   "outputs": [],
   "source": [
    "non_num = df.select_dtypes(include=['object']).columns\n",
    "for c in non_num:\n",
    "    lbl = LabelEncoder() \n",
    "    lbl.fit(list(df[c].values)) \n",
    "    df[c] = lbl.transform(list(df[c].values))"
   ]
  },
  {
   "cell_type": "markdown",
   "metadata": {},
   "source": [
    "### Linear_Regression_Model"
   ]
  },
  {
   "cell_type": "code",
   "execution_count": 23,
   "metadata": {},
   "outputs": [],
   "source": [
    "X_df = df[['sqfts', 'bedroom_counts', 'No_of_bathrooms', 'pickup cluster', 'post_timing_days','pet', 'laundry', 'parking', 'Apartment_type', 'postcode']]"
   ]
  },
  {
   "cell_type": "code",
   "execution_count": 24,
   "metadata": {},
   "outputs": [],
   "source": [
    "y_df= df[['post_prices']]"
   ]
  },
  {
   "cell_type": "code",
   "execution_count": 25,
   "metadata": {},
   "outputs": [],
   "source": [
    "X_train, X_test, y_train, y_test = train_test_split(X_df, y_df, test_size = 0.3, random_state = 42)"
   ]
  },
  {
   "cell_type": "code",
   "execution_count": 28,
   "metadata": {},
   "outputs": [
    {
     "ename": "NameError",
     "evalue": "name 'ols_pred' is not defined",
     "output_type": "error",
     "traceback": [
      "\u001b[0;31m---------------------------------------------------------------------------\u001b[0m",
      "\u001b[0;31mNameError\u001b[0m                                 Traceback (most recent call last)",
      "\u001b[0;32m<ipython-input-28-22232b28d3b2>\u001b[0m in \u001b[0;36m<module>\u001b[0;34m\u001b[0m\n\u001b[0;32m----> 1\u001b[0;31m \u001b[0mlen\u001b[0m\u001b[0;34m(\u001b[0m\u001b[0mnp\u001b[0m\u001b[0;34m.\u001b[0m\u001b[0marray\u001b[0m\u001b[0;34m(\u001b[0m\u001b[0mols_pred\u001b[0m\u001b[0;34m)\u001b[0m\u001b[0;34m)\u001b[0m\u001b[0;34m\u001b[0m\u001b[0;34m\u001b[0m\u001b[0m\n\u001b[0m",
      "\u001b[0;31mNameError\u001b[0m: name 'ols_pred' is not defined"
     ]
    }
   ],
   "source": [
    "len(np.array(ols_pred))"
   ]
  },
  {
   "cell_type": "code",
   "execution_count": 29,
   "metadata": {},
   "outputs": [],
   "source": [
    " from sklearn.metrics import f1_score"
   ]
  },
  {
   "cell_type": "code",
   "execution_count": 30,
   "metadata": {},
   "outputs": [],
   "source": [
    "ols = LinearRegression()\n",
    "ols.fit(X_train, y_train)\n",
    "ols_pred = ols.predict(X_test)"
   ]
  },
  {
   "cell_type": "code",
   "execution_count": 31,
   "metadata": {},
   "outputs": [
    {
     "data": {
      "text/plain": [
       "575.5341866867524"
      ]
     },
     "execution_count": 31,
     "metadata": {},
     "output_type": "execute_result"
    }
   ],
   "source": [
    "#mean square error\n",
    "np.sqrt(mean_squared_error(y_test, ols_pred))"
   ]
  },
  {
   "cell_type": "code",
   "execution_count": 32,
   "metadata": {},
   "outputs": [
    {
     "data": {
      "text/plain": [
       "0.4252295470880457"
      ]
     },
     "execution_count": 32,
     "metadata": {},
     "output_type": "execute_result"
    }
   ],
   "source": [
    "#explained_variance_score\n",
    "evs(y_test, ols_pred)"
   ]
  },
  {
   "cell_type": "code",
   "execution_count": 33,
   "metadata": {},
   "outputs": [
    {
     "data": {
      "text/plain": [
       "0.4252113368622287"
      ]
     },
     "execution_count": 33,
     "metadata": {},
     "output_type": "execute_result"
    }
   ],
   "source": [
    "#r-squared error\n",
    "r2(y_test, ols_pred)"
   ]
  },
  {
   "cell_type": "code",
   "execution_count": 34,
   "metadata": {},
   "outputs": [
    {
     "name": "stdout",
     "output_type": "stream",
     "text": [
      "0.43304192341813785\n"
     ]
    }
   ],
   "source": [
    "print(ols.score(X_train, y_train))"
   ]
  },
  {
   "cell_type": "markdown",
   "metadata": {},
   "source": [
    "### Bayesian_model"
   ]
  },
  {
   "cell_type": "code",
   "execution_count": 35,
   "metadata": {},
   "outputs": [
    {
     "name": "stderr",
     "output_type": "stream",
     "text": [
      "/opt/anaconda3/lib/python3.8/site-packages/sklearn/utils/validation.py:72: DataConversionWarning: A column-vector y was passed when a 1d array was expected. Please change the shape of y to (n_samples, ), for example using ravel().\n",
      "  return f(**kwargs)\n"
     ]
    }
   ],
   "source": [
    "from sklearn.linear_model import BayesianRidge\n",
    "bayesian = BayesianRidge()\n",
    "bayesian.fit(X_train, y_train)\n",
    "bayesian_pred = bayesian.predict(X_test)"
   ]
  },
  {
   "cell_type": "code",
   "execution_count": 36,
   "metadata": {},
   "outputs": [
    {
     "data": {
      "text/plain": [
       "0.42474307647951703"
      ]
     },
     "execution_count": 36,
     "metadata": {},
     "output_type": "execute_result"
    }
   ],
   "source": [
    "#explained_variance_score\n",
    "evs(y_test, bayesian_pred)"
   ]
  },
  {
   "cell_type": "code",
   "execution_count": 37,
   "metadata": {},
   "outputs": [
    {
     "data": {
      "text/plain": [
       "0.4247248429103143"
      ]
     },
     "execution_count": 37,
     "metadata": {},
     "output_type": "execute_result"
    }
   ],
   "source": [
    "r2(y_test, bayesian_pred)"
   ]
  },
  {
   "cell_type": "code",
   "execution_count": 38,
   "metadata": {},
   "outputs": [
    {
     "data": {
      "text/plain": [
       "575.7776976483623"
      ]
     },
     "execution_count": 38,
     "metadata": {},
     "output_type": "execute_result"
    }
   ],
   "source": [
    "#mean square error\n",
    "np.sqrt(mean_squared_error(y_test, bayesian_pred))"
   ]
  },
  {
   "cell_type": "markdown",
   "metadata": {},
   "source": [
    "### XGB_regressor"
   ]
  },
  {
   "cell_type": "code",
   "execution_count": 39,
   "metadata": {},
   "outputs": [],
   "source": [
    "xgb_m = xgb.XGBRegressor(objective ='reg:linear', \n",
    "                  n_estimators = 10, seed = 123)"
   ]
  },
  {
   "cell_type": "code",
   "execution_count": 40,
   "metadata": {},
   "outputs": [
    {
     "name": "stdout",
     "output_type": "stream",
     "text": [
      "[21:41:48] WARNING: /opt/concourse/worker/volumes/live/7a2b9f41-3287-451b-6691-43e9a6c0910f/volume/xgboost-split_1619728204606/work/src/objective/regression_obj.cu:170: reg:linear is now deprecated in favor of reg:squarederror.\n"
     ]
    }
   ],
   "source": [
    "xgb_m.fit(X_train, y_train) \n",
    "xgb_pred = xgb_m.predict(X_test)"
   ]
  },
  {
   "cell_type": "code",
   "execution_count": 41,
   "metadata": {},
   "outputs": [
    {
     "data": {
      "text/plain": [
       "0.5917778588984596"
      ]
     },
     "execution_count": 41,
     "metadata": {},
     "output_type": "execute_result"
    }
   ],
   "source": [
    "evs(y_test, xgb_pred)"
   ]
  },
  {
   "cell_type": "code",
   "execution_count": 42,
   "metadata": {},
   "outputs": [
    {
     "data": {
      "text/plain": [
       "0.5852783701344253"
      ]
     },
     "execution_count": 42,
     "metadata": {},
     "output_type": "execute_result"
    }
   ],
   "source": [
    "r2(y_test, xgb_pred)"
   ]
  },
  {
   "cell_type": "code",
   "execution_count": 43,
   "metadata": {},
   "outputs": [
    {
     "data": {
      "text/plain": [
       "488.8722345482705"
      ]
     },
     "execution_count": 43,
     "metadata": {},
     "output_type": "execute_result"
    }
   ],
   "source": [
    "np.sqrt(mean_squared_error(y_test, xgb_pred))"
   ]
  },
  {
   "cell_type": "code",
   "execution_count": 44,
   "metadata": {},
   "outputs": [
    {
     "data": {
      "text/plain": [
       "314.66512891570824"
      ]
     },
     "execution_count": 44,
     "metadata": {},
     "output_type": "execute_result"
    }
   ],
   "source": [
    "mean_absolute_error(y_test, xgb_pred)"
   ]
  },
  {
   "cell_type": "code",
   "execution_count": 45,
   "metadata": {},
   "outputs": [],
   "source": [
    "xgb_prd = xgb_m.predict(X_train)"
   ]
  },
  {
   "cell_type": "code",
   "execution_count": 46,
   "metadata": {},
   "outputs": [
    {
     "data": {
      "text/plain": [
       "0.7403759371615866"
      ]
     },
     "execution_count": 46,
     "metadata": {},
     "output_type": "execute_result"
    }
   ],
   "source": [
    "r2(y_train, xgb_prd)"
   ]
  },
  {
   "cell_type": "code",
   "execution_count": 47,
   "metadata": {},
   "outputs": [
    {
     "name": "stdout",
     "output_type": "stream",
     "text": [
      "0.7403759371615866\n"
     ]
    }
   ],
   "source": [
    "print(xgb_m.score(X_train, y_train))"
   ]
  },
  {
   "cell_type": "markdown",
   "metadata": {},
   "source": [
    "### RandomForest_Regressor"
   ]
  },
  {
   "cell_type": "code",
   "execution_count": 48,
   "metadata": {},
   "outputs": [],
   "source": [
    "rf_reg = RandomForestRegressor(random_state = 42)"
   ]
  },
  {
   "cell_type": "code",
   "execution_count": 49,
   "metadata": {},
   "outputs": [
    {
     "name": "stderr",
     "output_type": "stream",
     "text": [
      "<ipython-input-49-5bd3804456c0>:1: DataConversionWarning: A column-vector y was passed when a 1d array was expected. Please change the shape of y to (n_samples,), for example using ravel().\n",
      "  rf_reg.fit(X_train, y_train)\n"
     ]
    },
    {
     "data": {
      "text/plain": [
       "RandomForestRegressor(random_state=42)"
      ]
     },
     "execution_count": 49,
     "metadata": {},
     "output_type": "execute_result"
    }
   ],
   "source": [
    "rf_reg.fit(X_train, y_train) \n",
    "#rf_pred = rf_reg.predict(X_test)"
   ]
  },
  {
   "cell_type": "code",
   "execution_count": 50,
   "metadata": {},
   "outputs": [
    {
     "data": {
      "text/plain": [
       "1239"
      ]
     },
     "execution_count": 50,
     "metadata": {},
     "output_type": "execute_result"
    }
   ],
   "source": [
    "rf_pred = rf_reg.predict(X_test)\n",
    "len(rf_pred)"
   ]
  },
  {
   "cell_type": "code",
   "execution_count": 51,
   "metadata": {},
   "outputs": [
    {
     "name": "stdout",
     "output_type": "stream",
     "text": [
      "0.5961699894021193\n"
     ]
    }
   ],
   "source": [
    "print(rf_reg.score(X_test, y_test))"
   ]
  },
  {
   "cell_type": "code",
   "execution_count": 52,
   "metadata": {},
   "outputs": [
    {
     "name": "stdout",
     "output_type": "stream",
     "text": [
      "0.5961699894021193\n"
     ]
    }
   ],
   "source": [
    "print(r2(y_test,rf_pred))"
   ]
  },
  {
   "cell_type": "code",
   "execution_count": 53,
   "metadata": {},
   "outputs": [
    {
     "data": {
      "text/plain": [
       "482.4100247556307"
      ]
     },
     "execution_count": 53,
     "metadata": {},
     "output_type": "execute_result"
    }
   ],
   "source": [
    "np.sqrt(mean_squared_error(y_test, rf_pred))"
   ]
  },
  {
   "cell_type": "code",
   "execution_count": 54,
   "metadata": {},
   "outputs": [
    {
     "data": {
      "text/plain": [
       "0.5963311035665146"
      ]
     },
     "execution_count": 54,
     "metadata": {},
     "output_type": "execute_result"
    }
   ],
   "source": [
    "evs(y_test, rf_pred)"
   ]
  },
  {
   "cell_type": "code",
   "execution_count": 55,
   "metadata": {},
   "outputs": [
    {
     "data": {
      "image/png": "[encoded data removed]",
      "text/plain": [
       "<Figure size 432x288 with 1 Axes>"
      ]
     },
     "metadata": {
      "needs_background": "light"
     },
     "output_type": "display_data"
    }
   ],
   "source": [
    "sorted_idx = rf_reg.feature_importances_.argsort()\n",
    "plt.barh(X_train.columns[sorted_idx], rf_reg.feature_importances_[sorted_idx])\n",
    "plt.xlabel(\"Random Forest Feature Importance\")\n",
    "plt.savefig(\"Random Forest Feature Importance.jpeg\", dpi=300, bbox_inches = \"tight\")"
   ]
  },
  {
   "cell_type": "code",
   "execution_count": null,
   "metadata": {},
   "outputs": [],
   "source": [
    "The best performance features for the Ranom Forest Model"
   ]
  },
  {
   "cell_type": "markdown",
   "metadata": {},
   "source": [
    "Overfitting Model"
   ]
  },
  {
   "cell_type": "code",
   "execution_count": 57,
   "metadata": {},
   "outputs": [
    {
     "name": "stdout",
     "output_type": "stream",
     "text": [
      "0.9338042223879803\n"
     ]
    }
   ],
   "source": [
    "print(rf_reg.score(X_train, y_train))"
   ]
  },
  {
   "cell_type": "code",
   "execution_count": 598,
   "metadata": {},
   "outputs": [
    {
     "data": {
      "text/plain": [
       "dict_keys(['bootstrap', 'ccp_alpha', 'criterion', 'max_depth', 'max_features', 'max_leaf_nodes', 'max_samples', 'min_impurity_decrease', 'min_impurity_split', 'min_samples_leaf', 'min_samples_split', 'min_weight_fraction_leaf', 'n_estimators', 'n_jobs', 'oob_score', 'random_state', 'verbose', 'warm_start'])"
      ]
     },
     "execution_count": 598,
     "metadata": {},
     "output_type": "execute_result"
    }
   ],
   "source": [
    "rf_reg.get_params().keys()"
   ]
  },
  {
   "cell_type": "markdown",
   "metadata": {},
   "source": [
    "### Use K folds Cross Validation"
   ]
  },
  {
   "cell_type": "markdown",
   "metadata": {},
   "source": [
    "#### cross val with xgboostregressor"
   ]
  },
  {
   "cell_type": "code",
   "execution_count": null,
   "metadata": {},
   "outputs": [],
   "source": [
    "cv_r2_scores_xgb = cross_val_score(xgb_m, X_df, y_df, cv=5,scoring='r2')"
   ]
  },
  {
   "cell_type": "code",
   "execution_count": null,
   "metadata": {},
   "outputs": [],
   "source": [
    "print(cv_r2_scores_xgb)\n",
    "print(np.mean(cv_r2_scores_xgb))"
   ]
  },
  {
   "cell_type": "markdown",
   "metadata": {},
   "source": [
    "#### cross val with randomforestregressor"
   ]
  },
  {
   "cell_type": "code",
   "execution_count": null,
   "metadata": {},
   "outputs": [],
   "source": [
    "cv_r2_scores_rf = cross_val_score(rf_reg, X_df, y_df, cv=5,scoring='r2')"
   ]
  },
  {
   "cell_type": "code",
   "execution_count": null,
   "metadata": {},
   "outputs": [],
   "source": [
    "from sklearn.model_selection import cross_val_predict"
   ]
  },
  {
   "cell_type": "code",
   "execution_count": null,
   "metadata": {},
   "outputs": [],
   "source": [
    "print(cv_r2_scores_rf)\n",
    "print(cv_r2_scores_rf.mean())"
   ]
  },
  {
   "cell_type": "code",
   "execution_count": null,
   "metadata": {},
   "outputs": [],
   "source": [
    "predicted = cross_val_predict(rf_reg, X_df, y_df, cv=5)\n",
    "fig, ax = plt.subplots()\n",
    "ax.scatter(y_df, predicted)\n",
    "ax.plot([y_df.min(), y_df.max()], [y_df.min(), y_df.max()], 'k--', lw=4)\n",
    "ax.set_xlabel('Measured')\n",
    "ax.set_ylabel('Predicted')\n",
    "plt.savefig(\"Actual vs Predicted Values.png\")\n",
    "plt.show()"
   ]
  },
  {
   "cell_type": "markdown",
   "metadata": {},
   "source": [
    "### Manually perform the training repeatedly on each k-1 folds (x_train, y_train) and \n",
    "use the Kth fold (x_test, y_test) for testing "
   ]
  },
  {
   "cell_type": "markdown",
   "metadata": {},
   "source": [
    "#### RandomForestRegressor"
   ]
  },
  {
   "cell_type": "code",
   "execution_count": null,
   "metadata": {},
   "outputs": [],
   "source": [
    "scores = []\n",
    "for i in range(5):\n",
    "    kf = KFold(n_splits=5)\n",
    "    result = next(kf.split(X_df), None)\n",
    "    X_train = X_df.iloc[result[0]]\n",
    "    X_test = X_df.iloc[result[1]]\n",
    "    y_train = y_df.iloc[result[0]]\n",
    "    y_test = y_df.iloc[result[1]]\n",
    "    rf_reg.fit(X_train,y_train)\n",
    "    predictions = rf_reg.predict(X_test)\n",
    "    scores.append(r2(y_test, predictions))\n",
    "print('Scores from each Iteration: ', scores)\n",
    "print('Average K-Fold Score :' , np.mean(scores))"
   ]
  },
  {
   "cell_type": "code",
   "execution_count": null,
   "metadata": {},
   "outputs": [],
   "source": [
    "np.sqrt(mean_squared_error(y_test, predictions))"
   ]
  },
  {
   "cell_type": "code",
   "execution_count": null,
   "metadata": {},
   "outputs": [],
   "source": [
    "np.sqrt(mean_squared_error(y_train, ))"
   ]
  },
  {
   "cell_type": "markdown",
   "metadata": {},
   "source": [
    "#### XGBooostRegressor"
   ]
  },
  {
   "cell_type": "code",
   "execution_count": null,
   "metadata": {},
   "outputs": [],
   "source": [
    "scores = []\n",
    "for i in range(5):\n",
    "    result = next(kf.split(X_df), None)\n",
    "    X_train = X_df.iloc[result[0]]\n",
    "    X_test = X_df.iloc[result[1]]\n",
    "    y_train = y_df.iloc[result[0]]\n",
    "    y_test = y_df.iloc[result[1]]\n",
    "    model = xgb_m.fit(X_train,y_train)\n",
    "    predictions = xgb_m.predict(X_test)\n",
    "    scores.append(model.score(X_test,y_test))\n",
    "print('Scores from each performance: ', scores)\n",
    "print('Average score :' , np.mean(scores))"
   ]
  },
  {
   "cell_type": "markdown",
   "metadata": {},
   "source": [
    "# HyperParameter Tuning Using GridSearch"
   ]
  },
  {
   "cell_type": "code",
   "execution_count": null,
   "metadata": {},
   "outputs": [],
   "source": [
    "from sklearn.model_selection import RandomizedSearchCV\n",
    "# Number of trees in random forest\n",
    "n_estimators = [int(x) for x in np.linspace(start = 20, stop = 200, num = 10)]\n",
    "# Number of features to consider at every split\n",
    "max_features = ['auto', 'sqrt']\n",
    "# Maximum number of levels in tree\n",
    "max_depth = [int(x) for x in np.linspace(10, 110, num = 11)]\n",
    "max_depth.append(None)\n",
    "# Minimum number of samples required to split a node\n",
    "min_samples_split = [2, 5, 10]\n",
    "# Minimum number of samples required at each leaf node\n",
    "min_samples_leaf = [1, 2, 4]\n",
    "# Method of selecting samples for training each tree\n",
    "bootstrap = [True, False]"
   ]
  },
  {
   "cell_type": "code",
   "execution_count": null,
   "metadata": {},
   "outputs": [],
   "source": [
    "random_grid = {'n_estimators': n_estimators,\n",
    "               'max_features': max_features,\n",
    "               'max_depth': max_depth,\n",
    "               'min_samples_split': min_samples_split,\n",
    "               'min_samples_leaf': min_samples_leaf,\n",
    "               'bootstrap': bootstrap}"
   ]
  },
  {
   "cell_type": "code",
   "execution_count": null,
   "metadata": {},
   "outputs": [],
   "source": [
    "rf = RandomForestRegressor()"
   ]
  },
  {
   "cell_type": "code",
   "execution_count": null,
   "metadata": {},
   "outputs": [],
   "source": [
    "rf_random = RandomizedSearchCV(estimator = rf, param_distributions = random_grid, n_iter = 100, cv = 3, verbose=2, random_state=42, n_jobs = -1)"
   ]
  },
  {
   "cell_type": "code",
   "execution_count": null,
   "metadata": {},
   "outputs": [],
   "source": [
    "rf_random.fit(X_df, y_df)"
   ]
  },
  {
   "cell_type": "code",
   "execution_count": null,
   "metadata": {},
   "outputs": [],
   "source": [
    "rf_random.best_params_"
   ]
  },
  {
   "cell_type": "code",
   "execution_count": null,
   "metadata": {},
   "outputs": [],
   "source": [
    "rf_reg = RandomForestRegressor(random_state = 42, bootstrap= True, max_features= 'auto', min_samples_leaf= 2, \n",
    "                               n_estimators = 180,max_depth = None, min_samples_split = 2)"
   ]
  },
  {
   "cell_type": "code",
   "execution_count": null,
   "metadata": {},
   "outputs": [],
   "source": [
    "cv_r2_scores_rf = cross_val_score(rf_reg, X_df, y_df, cv=5, scoring='r2')"
   ]
  },
  {
   "cell_type": "code",
   "execution_count": null,
   "metadata": {},
   "outputs": [],
   "source": [
    "print(cv_r2_scores_rf)\n",
    "print(cv_r2_scores_rf.mean())"
   ]
  },
  {
   "cell_type": "code",
   "execution_count": null,
   "metadata": {},
   "outputs": [],
   "source": [
    "{'n_estimators': 180,\n",
    " 'min_samples_split': 2,\n",
    " 'min_samples_leaf': 2,\n",
    " 'max_features': 'auto',\n",
    " 'max_depth': None,\n",
    " 'bootstrap': True}"
   ]
  },
  {
   "cell_type": "code",
   "execution_count": null,
   "metadata": {},
   "outputs": [],
   "source": [
    "def Grid_Search_CV_RFR(X_df, y_df):\n",
    "\n",
    "    estimator = RandomForestRegressor(random_state = 42)\n",
    "    param_grid = {\"n_estimators\" : [160,180,190],\n",
    "            \"max_features\": [\"auto\"],\n",
    "            \"min_samples_split\" : [1,2,3],\n",
    "            \"bootstrap\": [True],\n",
    "            \"min_samples_leaf\" : [1,2,3]}\n",
    "    grid = GridSearchCV(estimator, param_grid, n_jobs=-1, cv=5, verbose = 2)\n",
    "\n",
    "    grid.fit(X_df, y_df)\n",
    "\n",
    "    return grid.best_score_ , grid.best_params_"
   ]
  },
  {
   "cell_type": "code",
   "execution_count": null,
   "metadata": {},
   "outputs": [],
   "source": [
    "Grid_Search_CV_RFR(X_df, y_df)"
   ]
  },
  {
   "cell_type": "code",
   "execution_count": null,
   "metadata": {},
   "outputs": [],
   "source": [
    "#Using the best params from the GridSearch\n",
    "rf_reg = RandomForestRegressor(bootstrap= True, max_features= 'auto', min_samples_split= 2, n_estimators=180, random_state =42, min_samples_leaf = 3)"
   ]
  },
  {
   "cell_type": "code",
   "execution_count": null,
   "metadata": {},
   "outputs": [],
   "source": [
    "cv_r2_scores_rf = cross_val_score(rf_reg, X_df, y_df, cv=5, scoring='r2')"
   ]
  },
  {
   "cell_type": "code",
   "execution_count": null,
   "metadata": {},
   "outputs": [],
   "source": [
    "print(cv_r2_scores_rf)\n",
    "print(cv_r2_scores_rf.mean())"
   ]
  },
  {
   "cell_type": "markdown",
   "metadata": {},
   "source": [
    "#### Our data is limited for the better prediction. On comparing the different model, RandomForestClassifer shows better performance."
   ]
  },
  {
   "cell_type": "code",
   "execution_count": null,
   "metadata": {},
   "outputs": [],
   "source": [
    "sorted_idx = feature_importances_.argsort()\n",
    "plt.barh(X_train.columns[sorted_idx], rf_reg.feature_importances_[sorted_idx])\n",
    "plt.xlabel(\"Random Forest Feature Importance\")\n",
    "plt.savefig(\"Random Forest Feature Importance.jpeg\", dpi=300, bbox_inches = \"tight\")"
   ]
  }
 ],
 "metadata": {
  "kernelspec": {
   "display_name": "Python 3",
   "language": "python",
   "name": "python3"
  },
  "language_info": {
   "codemirror_mode": {
    "name": "ipython",
    "version": 3
   },
   "file_extension": ".py",
   "mimetype": "text/x-python",
   "name": "python",
   "nbconvert_exporter": "python",
   "pygments_lexer": "ipython3",
   "version": "3.8.5"
  }
 },
 "nbformat": 4,
 "nbformat_minor": 5
}
