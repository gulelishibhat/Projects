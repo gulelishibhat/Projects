{
 "cells": [
  {
   "cell_type": "markdown",
   "id": "arabic-heritage",
   "metadata": {},
   "source": [
    "### importing and parsing"
   ]
  },
  {
   "cell_type": "code",
   "execution_count": 907,
   "id": "recreational-parts",
   "metadata": {},
   "outputs": [],
   "source": [
    "import pandas as pd\n",
    "from datetime import datetime\n",
    "import seaborn as sns\n",
    "import matplotlib.pyplot as plt\n",
    "from sklearn.model_selection import train_test_split\n",
    "from sklearn.linear_model import LinearRegression\n",
    "from sklearn.metrics import explained_variance_score as evs\n",
    "from sklearn.metrics import r2_score as r2\n",
    "from sklearn.preprocessing import LabelEncoder\n",
    "from scipy.stats import norm\n",
    "from sklearn.ensemble import RandomForestRegressor,  GradientBoostingRegressor\n",
    "from sklearn.model_selection import KFold, cross_val_score, train_test_split\n",
    "from sklearn.metrics import mean_squared_error\n",
    "import xgboost as xgb\n",
    "from sklearn.model_selection import GridSearchCV\n",
    "import numpy as np\n",
    "from sklearn.metrics import classification_report\n",
    "from sklearn.metrics import confusion_matrix, mean_squared_error"
   ]
  },
  {
   "cell_type": "code",
   "execution_count": 715,
   "id": "special-disorder",
   "metadata": {},
   "outputs": [],
   "source": [
    "dateparse = lambda x: datetime.strptime(x, '%Y-%m-%d %H:%M')\n",
    "\n",
    "df_york = pd.read_csv(\"df_york_model.csv\", parse_dates=['post_timing'], date_parser=dateparse, index_col = 0)\n",
    "df_philly = pd.read_csv(\"df_philly_model.csv\", parse_dates=['post_timing'], date_parser=dateparse, index_col = 0)"
   ]
  },
  {
   "cell_type": "code",
   "execution_count": 716,
   "id": "consistent-canvas",
   "metadata": {},
   "outputs": [
    {
     "data": {
      "text/plain": [
       "Timestamp('2021-02-18 16:47:00')"
      ]
     },
     "execution_count": 716,
     "metadata": {},
     "output_type": "execute_result"
    }
   ],
   "source": [
    "df_york['post_timing'].max()"
   ]
  },
  {
   "cell_type": "code",
   "execution_count": 717,
   "id": "heard-withdrawal",
   "metadata": {},
   "outputs": [
    {
     "data": {
      "text/plain": [
       "Timestamp('2021-02-18 17:22:00')"
      ]
     },
     "execution_count": 717,
     "metadata": {},
     "output_type": "execute_result"
    }
   ],
   "source": [
    "df_philly['post_timing'].max()"
   ]
  },
  {
   "cell_type": "code",
   "execution_count": 718,
   "id": "front-fantasy",
   "metadata": {},
   "outputs": [],
   "source": [
    "df_york['post_timing_days'] = (df_york['post_timing'].max() - df_york['post_timing']).dt.days\n",
    "df_york = df_york.drop(columns = ['post_timing'])\n",
    "df_philly['post_timing_days'] = (df_philly['post_timing'].max() - df_philly['post_timing']).dt.days\n",
    "df_philly = df_philly.drop(columns = ['post_timing'])"
   ]
  },
  {
   "cell_type": "code",
   "execution_count": 719,
   "id": "brutal-private",
   "metadata": {},
   "outputs": [
    {
     "data": {
      "text/plain": [
       "<AxesSubplot:>"
      ]
     },
     "execution_count": 719,
     "metadata": {},
     "output_type": "execute_result"
    },
    {
     "data": {
      "image/png": "[encoded data removed]",
      "text/plain": [
       "<Figure size 432x288 with 1 Axes>"
      ]
     },
     "metadata": {
      "needs_background": "light"
     },
     "output_type": "display_data"
    }
   ],
   "source": [
    "(df_york['post_timing_days'].astype(str)).value_counts(ascending = False)[:15].plot(kind='bar')"
   ]
  },
  {
   "cell_type": "code",
   "execution_count": 720,
   "id": "hungarian-breed",
   "metadata": {},
   "outputs": [
    {
     "data": {
      "text/plain": [
       "<AxesSubplot:xlabel='post_timing_days'>"
      ]
     },
     "execution_count": 720,
     "metadata": {},
     "output_type": "execute_result"
    },
    {
     "data": {
      "image/png": "[encoded data removed]",
      "text/plain": [
       "<Figure size 432x288 with 1 Axes>"
      ]
     },
     "metadata": {
      "needs_background": "light"
     },
     "output_type": "display_data"
    }
   ],
   "source": [
    "#The average for different housing types for number of days old in Craiglist looks same.\n",
    "df_york.groupby(['post_timing_days'])['post_prices'].mean().plot(kind = 'bar')"
   ]
  },
  {
   "cell_type": "code",
   "execution_count": 721,
   "id": "advised-kennedy",
   "metadata": {},
   "outputs": [
    {
     "data": {
      "text/plain": [
       "<AxesSubplot:xlabel='post_timing_days'>"
      ]
     },
     "execution_count": 721,
     "metadata": {},
     "output_type": "execute_result"
    },
    {
     "data": {
      "image/png": "[encoded data removed]",
      "text/plain": [
       "<Figure size 432x288 with 1 Axes>"
      ]
     },
     "metadata": {
      "needs_background": "light"
     },
     "output_type": "display_data"
    }
   ],
   "source": [
    "df_philly.groupby(['post_timing_days'])['post_prices'].mean().plot(kind = 'bar')"
   ]
  },
  {
   "cell_type": "code",
   "execution_count": 722,
   "id": "statewide-muscle",
   "metadata": {},
   "outputs": [],
   "source": [
    "#Compare to Newyork , Philly has listing post just 2 days old."
   ]
  },
  {
   "cell_type": "markdown",
   "id": "champion-emergency",
   "metadata": {},
   "source": [
    "### Change float to integer\n",
    "There are number of features like sqfts, price , bedroom and bathroom count in float"
   ]
  },
  {
   "cell_type": "code",
   "execution_count": 723,
   "id": "theoretical-holocaust",
   "metadata": {},
   "outputs": [
    {
     "name": "stdout",
     "output_type": "stream",
     "text": [
      "<class 'pandas.core.frame.DataFrame'>\n",
      "Int64Index: 2321 entries, 0 to 2321\n",
      "Data columns (total 11 columns):\n",
      " #   Column            Non-Null Count  Dtype  \n",
      "---  ------            --------------  -----  \n",
      " 0   post_prices       2321 non-null   float64\n",
      " 1   sqfts             2321 non-null   float64\n",
      " 2   bedroom_counts    2321 non-null   float64\n",
      " 3   No_of_bathrooms   2321 non-null   float64\n",
      " 4   pet               2321 non-null   object \n",
      " 5   laundry           2321 non-null   object \n",
      " 6   parking           2321 non-null   object \n",
      " 7   Apartment_type    2321 non-null   object \n",
      " 8   postcode          2321 non-null   object \n",
      " 9   pickup cluster    2321 non-null   int64  \n",
      " 10  post_timing_days  2321 non-null   int64  \n",
      "dtypes: float64(4), int64(2), object(5)\n",
      "memory usage: 217.6+ KB\n"
     ]
    }
   ],
   "source": [
    "df_york.info()"
   ]
  },
  {
   "cell_type": "code",
   "execution_count": 724,
   "id": "unauthorized-muslim",
   "metadata": {},
   "outputs": [],
   "source": [
    "columns = df_york.select_dtypes(include=['float']).columns"
   ]
  },
  {
   "cell_type": "code",
   "execution_count": 725,
   "id": "fancy-neighborhood",
   "metadata": {},
   "outputs": [
    {
     "data": {
      "text/html": [
       "<div>\n",
       "<style scoped>\n",
       "    .dataframe tbody tr th:only-of-type {\n",
       "        vertical-align: middle;\n",
       "    }\n",
       "\n",
       "    .dataframe tbody tr th {\n",
       "        vertical-align: top;\n",
       "    }\n",
       "\n",
       "    .dataframe thead th {\n",
       "        text-align: right;\n",
       "    }\n",
       "</style>\n",
       "<table border=\"1\" class=\"dataframe\">\n",
       "  <thead>\n",
       "    <tr style=\"text-align: right;\">\n",
       "      <th></th>\n",
       "      <th>post_prices</th>\n",
       "      <th>sqfts</th>\n",
       "      <th>bedroom_counts</th>\n",
       "      <th>No_of_bathrooms</th>\n",
       "      <th>pet</th>\n",
       "      <th>laundry</th>\n",
       "      <th>parking</th>\n",
       "      <th>Apartment_type</th>\n",
       "      <th>postcode</th>\n",
       "      <th>pickup cluster</th>\n",
       "      <th>post_timing_days</th>\n",
       "    </tr>\n",
       "  </thead>\n",
       "  <tbody>\n",
       "    <tr>\n",
       "      <th>0</th>\n",
       "      <td>3045</td>\n",
       "      <td>1002</td>\n",
       "      <td>2</td>\n",
       "      <td>2</td>\n",
       "      <td>both pets</td>\n",
       "      <td>in unit</td>\n",
       "      <td>no</td>\n",
       "      <td>multi</td>\n",
       "      <td>19123</td>\n",
       "      <td>7</td>\n",
       "      <td>0</td>\n",
       "    </tr>\n",
       "    <tr>\n",
       "      <th>1</th>\n",
       "      <td>1000</td>\n",
       "      <td>859</td>\n",
       "      <td>1</td>\n",
       "      <td>1</td>\n",
       "      <td>no pet</td>\n",
       "      <td>in unit</td>\n",
       "      <td>off-street</td>\n",
       "      <td>multi</td>\n",
       "      <td>19148</td>\n",
       "      <td>3</td>\n",
       "      <td>0</td>\n",
       "    </tr>\n",
       "    <tr>\n",
       "      <th>2</th>\n",
       "      <td>2487</td>\n",
       "      <td>859</td>\n",
       "      <td>1</td>\n",
       "      <td>1</td>\n",
       "      <td>no pet</td>\n",
       "      <td>in unit</td>\n",
       "      <td>no</td>\n",
       "      <td>multi</td>\n",
       "      <td>19104</td>\n",
       "      <td>12</td>\n",
       "      <td>0</td>\n",
       "    </tr>\n",
       "    <tr>\n",
       "      <th>3</th>\n",
       "      <td>1690</td>\n",
       "      <td>1100</td>\n",
       "      <td>1</td>\n",
       "      <td>1</td>\n",
       "      <td>no pet</td>\n",
       "      <td>in unit</td>\n",
       "      <td>no</td>\n",
       "      <td>multi</td>\n",
       "      <td>19106</td>\n",
       "      <td>3</td>\n",
       "      <td>0</td>\n",
       "    </tr>\n",
       "    <tr>\n",
       "      <th>4</th>\n",
       "      <td>1100</td>\n",
       "      <td>859</td>\n",
       "      <td>1</td>\n",
       "      <td>1</td>\n",
       "      <td>both pets</td>\n",
       "      <td>no laundry</td>\n",
       "      <td>no</td>\n",
       "      <td>multi</td>\n",
       "      <td>19130</td>\n",
       "      <td>17</td>\n",
       "      <td>0</td>\n",
       "    </tr>\n",
       "    <tr>\n",
       "      <th>...</th>\n",
       "      <td>...</td>\n",
       "      <td>...</td>\n",
       "      <td>...</td>\n",
       "      <td>...</td>\n",
       "      <td>...</td>\n",
       "      <td>...</td>\n",
       "      <td>...</td>\n",
       "      <td>...</td>\n",
       "      <td>...</td>\n",
       "      <td>...</td>\n",
       "      <td>...</td>\n",
       "    </tr>\n",
       "    <tr>\n",
       "      <th>1809</th>\n",
       "      <td>1000</td>\n",
       "      <td>859</td>\n",
       "      <td>1</td>\n",
       "      <td>1</td>\n",
       "      <td>both pets</td>\n",
       "      <td>on site</td>\n",
       "      <td>no</td>\n",
       "      <td>multi</td>\n",
       "      <td>19125</td>\n",
       "      <td>7</td>\n",
       "      <td>2</td>\n",
       "    </tr>\n",
       "    <tr>\n",
       "      <th>1810</th>\n",
       "      <td>1300</td>\n",
       "      <td>859</td>\n",
       "      <td>1</td>\n",
       "      <td>1</td>\n",
       "      <td>both pets</td>\n",
       "      <td>in unit</td>\n",
       "      <td>no</td>\n",
       "      <td>multi</td>\n",
       "      <td>19147</td>\n",
       "      <td>3</td>\n",
       "      <td>2</td>\n",
       "    </tr>\n",
       "    <tr>\n",
       "      <th>1811</th>\n",
       "      <td>2177</td>\n",
       "      <td>780</td>\n",
       "      <td>1</td>\n",
       "      <td>1</td>\n",
       "      <td>both pets</td>\n",
       "      <td>in unit</td>\n",
       "      <td>proctected</td>\n",
       "      <td>multi</td>\n",
       "      <td>19107</td>\n",
       "      <td>17</td>\n",
       "      <td>2</td>\n",
       "    </tr>\n",
       "    <tr>\n",
       "      <th>1812</th>\n",
       "      <td>5895</td>\n",
       "      <td>1610</td>\n",
       "      <td>5</td>\n",
       "      <td>2</td>\n",
       "      <td>both pets</td>\n",
       "      <td>in unit</td>\n",
       "      <td>no</td>\n",
       "      <td>multi</td>\n",
       "      <td>19104</td>\n",
       "      <td>12</td>\n",
       "      <td>2</td>\n",
       "    </tr>\n",
       "    <tr>\n",
       "      <th>1813</th>\n",
       "      <td>1695</td>\n",
       "      <td>859</td>\n",
       "      <td>1</td>\n",
       "      <td>1</td>\n",
       "      <td>both pets</td>\n",
       "      <td>in unit</td>\n",
       "      <td>no</td>\n",
       "      <td>multi</td>\n",
       "      <td>19147</td>\n",
       "      <td>3</td>\n",
       "      <td>2</td>\n",
       "    </tr>\n",
       "  </tbody>\n",
       "</table>\n",
       "<p>1808 rows × 11 columns</p>\n",
       "</div>"
      ],
      "text/plain": [
       "      post_prices  sqfts  bedroom_counts  No_of_bathrooms        pet  \\\n",
       "0            3045   1002               2                2  both pets   \n",
       "1            1000    859               1                1     no pet   \n",
       "2            2487    859               1                1     no pet   \n",
       "3            1690   1100               1                1     no pet   \n",
       "4            1100    859               1                1  both pets   \n",
       "...           ...    ...             ...              ...        ...   \n",
       "1809         1000    859               1                1  both pets   \n",
       "1810         1300    859               1                1  both pets   \n",
       "1811         2177    780               1                1  both pets   \n",
       "1812         5895   1610               5                2  both pets   \n",
       "1813         1695    859               1                1  both pets   \n",
       "\n",
       "         laundry     parking Apartment_type postcode  pickup cluster  \\\n",
       "0        in unit          no          multi    19123               7   \n",
       "1        in unit  off-street          multi    19148               3   \n",
       "2        in unit          no          multi    19104              12   \n",
       "3        in unit          no          multi    19106               3   \n",
       "4     no laundry          no          multi    19130              17   \n",
       "...          ...         ...            ...      ...             ...   \n",
       "1809     on site          no          multi    19125               7   \n",
       "1810     in unit          no          multi    19147               3   \n",
       "1811     in unit  proctected          multi    19107              17   \n",
       "1812     in unit          no          multi    19104              12   \n",
       "1813     in unit          no          multi    19147               3   \n",
       "\n",
       "      post_timing_days  \n",
       "0                    0  \n",
       "1                    0  \n",
       "2                    0  \n",
       "3                    0  \n",
       "4                    0  \n",
       "...                ...  \n",
       "1809                 2  \n",
       "1810                 2  \n",
       "1811                 2  \n",
       "1812                 2  \n",
       "1813                 2  \n",
       "\n",
       "[1808 rows x 11 columns]"
      ]
     },
     "execution_count": 725,
     "metadata": {},
     "output_type": "execute_result"
    }
   ],
   "source": [
    "def change_float(df):\n",
    "    '''Change the float columns into integer in pandas DataFrame'''\n",
    "    for col in df.select_dtypes(include=['float']).columns:\n",
    "        df[col]= df[col].astype(int)\n",
    "    return df\n",
    "change_float(df_york)\n",
    "change_float(df_philly)"
   ]
  },
  {
   "cell_type": "code",
   "execution_count": 726,
   "id": "according-taylor",
   "metadata": {},
   "outputs": [
    {
     "name": "stdout",
     "output_type": "stream",
     "text": [
      "<class 'pandas.core.frame.DataFrame'>\n",
      "Int64Index: 2321 entries, 0 to 2321\n",
      "Data columns (total 11 columns):\n",
      " #   Column            Non-Null Count  Dtype \n",
      "---  ------            --------------  ----- \n",
      " 0   post_prices       2321 non-null   int64 \n",
      " 1   sqfts             2321 non-null   int64 \n",
      " 2   bedroom_counts    2321 non-null   int64 \n",
      " 3   No_of_bathrooms   2321 non-null   int64 \n",
      " 4   pet               2321 non-null   object\n",
      " 5   laundry           2321 non-null   object\n",
      " 6   parking           2321 non-null   object\n",
      " 7   Apartment_type    2321 non-null   object\n",
      " 8   postcode          2321 non-null   object\n",
      " 9   pickup cluster    2321 non-null   int64 \n",
      " 10  post_timing_days  2321 non-null   int64 \n",
      "dtypes: int64(6), object(5)\n",
      "memory usage: 217.6+ KB\n"
     ]
    }
   ],
   "source": [
    "df_york.info()"
   ]
  },
  {
   "cell_type": "code",
   "execution_count": 727,
   "id": "adequate-staff",
   "metadata": {},
   "outputs": [
    {
     "name": "stdout",
     "output_type": "stream",
     "text": [
      "<class 'pandas.core.frame.DataFrame'>\n",
      "Int64Index: 1808 entries, 0 to 1813\n",
      "Data columns (total 11 columns):\n",
      " #   Column            Non-Null Count  Dtype \n",
      "---  ------            --------------  ----- \n",
      " 0   post_prices       1808 non-null   int64 \n",
      " 1   sqfts             1808 non-null   int64 \n",
      " 2   bedroom_counts    1808 non-null   int64 \n",
      " 3   No_of_bathrooms   1808 non-null   int64 \n",
      " 4   pet               1808 non-null   object\n",
      " 5   laundry           1808 non-null   object\n",
      " 6   parking           1808 non-null   object\n",
      " 7   Apartment_type    1808 non-null   object\n",
      " 8   postcode          1808 non-null   object\n",
      " 9   pickup cluster    1808 non-null   int64 \n",
      " 10  post_timing_days  1808 non-null   int64 \n",
      "dtypes: int64(6), object(5)\n",
      "memory usage: 169.5+ KB\n"
     ]
    }
   ],
   "source": [
    "df_philly.info()"
   ]
  },
  {
   "cell_type": "code",
   "execution_count": 728,
   "id": "declared-assembly",
   "metadata": {},
   "outputs": [
    {
     "data": {
      "image/png": "[encoded data removed]",
      "text/plain": [
       "<Figure size 432x288 with 2 Axes>"
      ]
     },
     "metadata": {
      "needs_background": "light"
     },
     "output_type": "display_data"
    }
   ],
   "source": [
    "sns.heatmap(df_york.corr(), annot = True, cmap = 'magma')\n",
    "\n",
    "plt.savefig('york_heatmap.png')\n",
    "plt.show()"
   ]
  },
  {
   "cell_type": "code",
   "execution_count": 729,
   "id": "organizational-florist",
   "metadata": {},
   "outputs": [
    {
     "data": {
      "image/png": "[encoded data removed]",
      "text/plain": [
       "<Figure size 432x288 with 2 Axes>"
      ]
     },
     "metadata": {
      "needs_background": "light"
     },
     "output_type": "display_data"
    }
   ],
   "source": [
    "sns.heatmap(df_philly.corr(), annot = True, cmap = 'magma')\n",
    "\n",
    "plt.savefig('philly_heatmap.png')\n",
    "plt.show()"
   ]
  },
  {
   "cell_type": "markdown",
   "id": "fourth-village",
   "metadata": {},
   "source": [
    "Post_timing_days is not correlated with post_prices or any other features.\n",
    "Bedroom Count is correlated with sqfts and post prices and bathroom counts."
   ]
  },
  {
   "cell_type": "markdown",
   "id": "qualified-healing",
   "metadata": {},
   "source": [
    "#### Stack vertically both philadelphia and York to train the model"
   ]
  },
  {
   "cell_type": "code",
   "execution_count": 816,
   "id": "organized-mortgage",
   "metadata": {},
   "outputs": [],
   "source": [
    "df = pd.concat([df_york, df_philly])"
   ]
  },
  {
   "cell_type": "code",
   "execution_count": 817,
   "id": "coordinated-motion",
   "metadata": {},
   "outputs": [
    {
     "name": "stdout",
     "output_type": "stream",
     "text": [
      "<class 'pandas.core.frame.DataFrame'>\n",
      "Int64Index: 4129 entries, 0 to 1813\n",
      "Data columns (total 11 columns):\n",
      " #   Column            Non-Null Count  Dtype \n",
      "---  ------            --------------  ----- \n",
      " 0   post_prices       4129 non-null   int64 \n",
      " 1   sqfts             4129 non-null   int64 \n",
      " 2   bedroom_counts    4129 non-null   int64 \n",
      " 3   No_of_bathrooms   4129 non-null   int64 \n",
      " 4   pet               4129 non-null   object\n",
      " 5   laundry           4129 non-null   object\n",
      " 6   parking           4129 non-null   object\n",
      " 7   Apartment_type    4129 non-null   object\n",
      " 8   postcode          4129 non-null   object\n",
      " 9   pickup cluster    4129 non-null   int64 \n",
      " 10  post_timing_days  4129 non-null   int64 \n",
      "dtypes: int64(6), object(5)\n",
      "memory usage: 387.1+ KB\n"
     ]
    }
   ],
   "source": [
    "df.info()"
   ]
  },
  {
   "cell_type": "code",
   "execution_count": 818,
   "id": "lonely-orlando",
   "metadata": {},
   "outputs": [
    {
     "name": "stderr",
     "output_type": "stream",
     "text": [
      "/opt/anaconda3/envs/Geo_pandas37/lib/python3.7/site-packages/seaborn/distributions.py:2557: FutureWarning: `distplot` is a deprecated function and will be removed in a future version. Please adapt your code to use either `displot` (a figure-level function with similar flexibility) or `histplot` (an axes-level function for histograms).\n",
      "  warnings.warn(msg, FutureWarning)\n"
     ]
    },
    {
     "data": {
      "image/png": "[encoded data removed]",
      "text/plain": [
       "<Figure size 432x288 with 1 Axes>"
      ]
     },
     "metadata": {
      "needs_background": "light"
     },
     "output_type": "display_data"
    }
   ],
   "source": [
    "sns.distplot(df['post_prices'], fit = norm)\n",
    "(mu, sigma) = norm.fit(df['post_prices'])"
   ]
  },
  {
   "cell_type": "code",
   "execution_count": 819,
   "id": "exact-chance",
   "metadata": {},
   "outputs": [],
   "source": [
    "def ecdf(df):\n",
    "    \"\"\"Compute ECDF for a one-dimensional array of measurements.\"\"\"\n",
    "    n = len(df)\n",
    "\n",
    "    x = np.sort(df)\n",
    "\n",
    "    y = np.arange(1, n+1) / n\n",
    "\n",
    "    return x, y"
   ]
  },
  {
   "cell_type": "code",
   "execution_count": 820,
   "id": "quantitative-planner",
   "metadata": {},
   "outputs": [
    {
     "data": {
      "image/png": "[encoded data removed]",
      "text/plain": [
       "<Figure size 432x288 with 1 Axes>"
      ]
     },
     "metadata": {
      "needs_background": "light"
     },
     "output_type": "display_data"
    }
   ],
   "source": [
    "x_vers, y_vers = ecdf(df['post_prices'])\n",
    "\n",
    "# Generate plot\n",
    "plt.plot(x_vers, y_vers, marker = '.', linestyle = 'none')\n",
    "\n",
    "# Label the axes\n",
    "plt.xlabel('post prices')\n",
    "plt.ylabel('Empricial Cumulative Distribution Function')\n",
    "\n",
    "\n",
    "# Display the plot\n",
    "plt.show()"
   ]
  },
  {
   "cell_type": "markdown",
   "id": "owned-silver",
   "metadata": {},
   "source": [
    "We have 70% data having listing price less than $2800"
   ]
  },
  {
   "cell_type": "markdown",
   "id": "working-chocolate",
   "metadata": {},
   "source": [
    "### Label Encoding"
   ]
  },
  {
   "cell_type": "code",
   "execution_count": 821,
   "id": "opposite-ghana",
   "metadata": {},
   "outputs": [],
   "source": [
    "non_num = df.select_dtypes(include=['object']).columns\n",
    "for c in non_num:\n",
    "    lbl = LabelEncoder() \n",
    "    lbl.fit(list(df[c].values)) \n",
    "    df[c] = lbl.transform(list(df[c].values))"
   ]
  },
  {
   "cell_type": "markdown",
   "id": "knowing-jimmy",
   "metadata": {},
   "source": [
    "### Linear_Regression_Model"
   ]
  },
  {
   "cell_type": "code",
   "execution_count": 876,
   "id": "asian-wisconsin",
   "metadata": {},
   "outputs": [],
   "source": [
    "X_df = df[['sqfts', 'bedroom_counts', 'No_of_bathrooms', 'pickup cluster', 'post_timing_days','pet', 'laundry', 'parking', 'Apartment_type', 'postcode']]"
   ]
  },
  {
   "cell_type": "code",
   "execution_count": 877,
   "id": "pointed-defense",
   "metadata": {},
   "outputs": [],
   "source": [
    "y_df= df[['post_prices']]"
   ]
  },
  {
   "cell_type": "code",
   "execution_count": 878,
   "id": "fancy-florence",
   "metadata": {},
   "outputs": [],
   "source": [
    "X_train, X_test, y_train, y_test = train_test_split(X_df, y_df, test_size = 0.3, random_state = 42)"
   ]
  },
  {
   "cell_type": "code",
   "execution_count": 879,
   "id": "commercial-adams",
   "metadata": {},
   "outputs": [
    {
     "data": {
      "text/plain": [
       "1239"
      ]
     },
     "execution_count": 879,
     "metadata": {},
     "output_type": "execute_result"
    }
   ],
   "source": [
    "len(np.array(y_test))"
   ]
  },
  {
   "cell_type": "code",
   "execution_count": 880,
   "id": "certain-making",
   "metadata": {},
   "outputs": [
    {
     "data": {
      "text/plain": [
       "826"
      ]
     },
     "execution_count": 880,
     "metadata": {},
     "output_type": "execute_result"
    }
   ],
   "source": [
    "len(np.array(ols_pred))"
   ]
  },
  {
   "cell_type": "code",
   "execution_count": 881,
   "id": "crucial-hybrid",
   "metadata": {},
   "outputs": [],
   "source": [
    " from sklearn.metrics import f1_score"
   ]
  },
  {
   "cell_type": "code",
   "execution_count": 882,
   "id": "curious-guest",
   "metadata": {},
   "outputs": [],
   "source": [
    "ols = LinearRegression()\n",
    "ols.fit(X_train, y_train)\n",
    "ols_pred = ols.predict(X_test)"
   ]
  },
  {
   "cell_type": "code",
   "execution_count": 883,
   "id": "joined-liability",
   "metadata": {},
   "outputs": [
    {
     "data": {
      "text/plain": [
       "577.4690316240085"
      ]
     },
     "execution_count": 883,
     "metadata": {},
     "output_type": "execute_result"
    }
   ],
   "source": [
    "#mean square error\n",
    "np.sqrt(mean_squared_error(y_test, ols_pred))"
   ]
  },
  {
   "cell_type": "code",
   "execution_count": 884,
   "id": "stainless-candy",
   "metadata": {},
   "outputs": [
    {
     "data": {
      "text/plain": [
       "0.4213458690902161"
      ]
     },
     "execution_count": 884,
     "metadata": {},
     "output_type": "execute_result"
    }
   ],
   "source": [
    "#explained_variance_score\n",
    "evs(y_test, ols_pred)"
   ]
  },
  {
   "cell_type": "code",
   "execution_count": 885,
   "id": "announced-clone",
   "metadata": {},
   "outputs": [
    {
     "data": {
      "text/plain": [
       "0.421340163443067"
      ]
     },
     "execution_count": 885,
     "metadata": {},
     "output_type": "execute_result"
    }
   ],
   "source": [
    "#r-squared error\n",
    "r2(y_test, ols_pred)"
   ]
  },
  {
   "cell_type": "markdown",
   "id": "animal-vacuum",
   "metadata": {},
   "source": [
    "### Bayesian_model"
   ]
  },
  {
   "cell_type": "code",
   "execution_count": 886,
   "id": "entertaining-senior",
   "metadata": {},
   "outputs": [
    {
     "name": "stderr",
     "output_type": "stream",
     "text": [
      "/opt/anaconda3/envs/Geo_pandas37/lib/python3.7/site-packages/sklearn/utils/validation.py:760: DataConversionWarning: A column-vector y was passed when a 1d array was expected. Please change the shape of y to (n_samples, ), for example using ravel().\n",
      "  y = column_or_1d(y, warn=True)\n"
     ]
    }
   ],
   "source": [
    "bayesian = BayesianRidge()\n",
    "bayesian.fit(X_train, y_train)\n",
    "bayesian_pred = bayesian.predict(X_test)"
   ]
  },
  {
   "cell_type": "code",
   "execution_count": 887,
   "id": "split-conclusion",
   "metadata": {},
   "outputs": [
    {
     "data": {
      "text/plain": [
       "0.42089208577492954"
      ]
     },
     "execution_count": 887,
     "metadata": {},
     "output_type": "execute_result"
    }
   ],
   "source": [
    "#explained_variance_score\n",
    "evs(y_test, bayesian_pred)"
   ]
  },
  {
   "cell_type": "code",
   "execution_count": 888,
   "id": "grand-judgment",
   "metadata": {},
   "outputs": [
    {
     "data": {
      "text/plain": [
       "0.4208862730962466"
      ]
     },
     "execution_count": 888,
     "metadata": {},
     "output_type": "execute_result"
    }
   ],
   "source": [
    "r2(y_test, bayesian_pred)"
   ]
  },
  {
   "cell_type": "code",
   "execution_count": 889,
   "id": "cloudy-update",
   "metadata": {},
   "outputs": [
    {
     "data": {
      "text/plain": [
       "577.6954653805191"
      ]
     },
     "execution_count": 889,
     "metadata": {},
     "output_type": "execute_result"
    }
   ],
   "source": [
    "#mean square error\n",
    "np.sqrt(mean_squared_error(y_test, bayesian_pred))"
   ]
  },
  {
   "cell_type": "markdown",
   "id": "alpha-scope",
   "metadata": {},
   "source": [
    "### XGB_regressor"
   ]
  },
  {
   "cell_type": "code",
   "execution_count": 890,
   "id": "junior-mortgage",
   "metadata": {},
   "outputs": [],
   "source": [
    "xgb_m = xgb.XGBRegressor(objective ='reg:linear', \n",
    "                  n_estimators = 10, seed = 123)"
   ]
  },
  {
   "cell_type": "code",
   "execution_count": 891,
   "id": "bibliographic-guatemala",
   "metadata": {},
   "outputs": [
    {
     "name": "stdout",
     "output_type": "stream",
     "text": [
      "[21:14:11] WARNING: /Users/runner/miniforge3/conda-bld/xgboost_1607604592557/work/src/objective/regression_obj.cu:170: reg:linear is now deprecated in favor of reg:squarederror.\n"
     ]
    }
   ],
   "source": [
    "xgb_m.fit(X_train, y_train) \n",
    "xgb_pred = xgb_m.predict(X_test)"
   ]
  },
  {
   "cell_type": "code",
   "execution_count": 892,
   "id": "legislative-notebook",
   "metadata": {},
   "outputs": [
    {
     "data": {
      "text/plain": [
       "0.5813196117552162"
      ]
     },
     "execution_count": 892,
     "metadata": {},
     "output_type": "execute_result"
    }
   ],
   "source": [
    "evs(y_test, xgb_pred)"
   ]
  },
  {
   "cell_type": "code",
   "execution_count": 893,
   "id": "separate-newman",
   "metadata": {},
   "outputs": [
    {
     "data": {
      "text/plain": [
       "0.5733427042456434"
      ]
     },
     "execution_count": 893,
     "metadata": {},
     "output_type": "execute_result"
    }
   ],
   "source": [
    "r2(y_test, xgb_pred)"
   ]
  },
  {
   "cell_type": "code",
   "execution_count": 894,
   "id": "decimal-hungary",
   "metadata": {},
   "outputs": [
    {
     "data": {
      "text/plain": [
       "495.85719247939596"
      ]
     },
     "execution_count": 894,
     "metadata": {},
     "output_type": "execute_result"
    }
   ],
   "source": [
    "np.sqrt(mean_squared_error(y_test, xgb_pred))"
   ]
  },
  {
   "cell_type": "markdown",
   "id": "opposite-national",
   "metadata": {},
   "source": [
    "### RandomForest_Regressor"
   ]
  },
  {
   "cell_type": "code",
   "execution_count": 896,
   "id": "auburn-limitation",
   "metadata": {},
   "outputs": [],
   "source": [
    "rf_reg = RandomForestRegressor(random_state = 42)"
   ]
  },
  {
   "cell_type": "code",
   "execution_count": 897,
   "id": "guilty-testament",
   "metadata": {},
   "outputs": [
    {
     "name": "stderr",
     "output_type": "stream",
     "text": [
      "/opt/anaconda3/envs/Geo_pandas37/lib/python3.7/site-packages/ipykernel_launcher.py:1: DataConversionWarning: A column-vector y was passed when a 1d array was expected. Please change the shape of y to (n_samples,), for example using ravel().\n",
      "  \"\"\"Entry point for launching an IPython kernel.\n"
     ]
    }
   ],
   "source": [
    "rf_reg.fit(X_train, y_train) \n",
    "rf_pred = rf_reg.predict(X_test)"
   ]
  },
  {
   "cell_type": "code",
   "execution_count": 898,
   "id": "accredited-appeal",
   "metadata": {},
   "outputs": [
    {
     "name": "stdout",
     "output_type": "stream",
     "text": [
      "0.5909979564957477\n",
      "0.5909979564957477\n"
     ]
    }
   ],
   "source": [
    "print(rf_reg.score(X_test,y_test))\n",
    "print(r2(y_test,rf_pred))\n"
   ]
  },
  {
   "cell_type": "code",
   "execution_count": 899,
   "id": "exterior-november",
   "metadata": {},
   "outputs": [
    {
     "data": {
      "text/plain": [
       "485.489417609241"
      ]
     },
     "execution_count": 899,
     "metadata": {},
     "output_type": "execute_result"
    }
   ],
   "source": [
    "np.sqrt(mean_squared_error(y_test, rf_pred))"
   ]
  },
  {
   "cell_type": "code",
   "execution_count": 900,
   "id": "adverse-reminder",
   "metadata": {},
   "outputs": [
    {
     "data": {
      "text/plain": [
       "0.5911343118210919"
      ]
     },
     "execution_count": 900,
     "metadata": {},
     "output_type": "execute_result"
    }
   ],
   "source": [
    "evs(y_test, rf_pred)"
   ]
  },
  {
   "cell_type": "markdown",
   "id": "congressional-template",
   "metadata": {},
   "source": [
    "### Use K folds Cross Validation"
   ]
  },
  {
   "cell_type": "markdown",
   "id": "mineral-diary",
   "metadata": {},
   "source": [
    "#### cross val with xgboostregressor"
   ]
  },
  {
   "cell_type": "code",
   "execution_count": 901,
   "id": "selective-liberty",
   "metadata": {},
   "outputs": [
    {
     "name": "stdout",
     "output_type": "stream",
     "text": [
      "[21:15:55] WARNING: /Users/runner/miniforge3/conda-bld/xgboost_1607604592557/work/src/objective/regression_obj.cu:170: reg:linear is now deprecated in favor of reg:squarederror.\n",
      "[21:15:55] WARNING: /Users/runner/miniforge3/conda-bld/xgboost_1607604592557/work/src/objective/regression_obj.cu:170: reg:linear is now deprecated in favor of reg:squarederror.\n",
      "[21:15:55] WARNING: /Users/runner/miniforge3/conda-bld/xgboost_1607604592557/work/src/objective/regression_obj.cu:170: reg:linear is now deprecated in favor of reg:squarederror.\n",
      "[21:15:55] WARNING: /Users/runner/miniforge3/conda-bld/xgboost_1607604592557/work/src/objective/regression_obj.cu:170: reg:linear is now deprecated in favor of reg:squarederror.\n",
      "[21:15:55] WARNING: /Users/runner/miniforge3/conda-bld/xgboost_1607604592557/work/src/objective/regression_obj.cu:170: reg:linear is now deprecated in favor of reg:squarederror.\n"
     ]
    }
   ],
   "source": [
    "cv_r2_scores_xgb = cross_val_score(xgb_m, X_df, y_df, cv=5,scoring='r2')"
   ]
  },
  {
   "cell_type": "code",
   "execution_count": 902,
   "id": "circular-arrival",
   "metadata": {},
   "outputs": [
    {
     "name": "stdout",
     "output_type": "stream",
     "text": [
      "[0.3418751  0.43356648 0.51929662 0.47324876 0.56137795]\n",
      "0.465872983660155\n"
     ]
    }
   ],
   "source": [
    "print(cv_r2_scores_xgb)\n",
    "print(np.mean(cv_r2_scores_xgb))"
   ]
  },
  {
   "cell_type": "markdown",
   "id": "fiscal-yemen",
   "metadata": {},
   "source": [
    "#### cross val with randomforestregressor"
   ]
  },
  {
   "cell_type": "code",
   "execution_count": 903,
   "id": "universal-strike",
   "metadata": {},
   "outputs": [
    {
     "name": "stderr",
     "output_type": "stream",
     "text": [
      "/opt/anaconda3/envs/Geo_pandas37/lib/python3.7/site-packages/sklearn/model_selection/_validation.py:515: DataConversionWarning: A column-vector y was passed when a 1d array was expected. Please change the shape of y to (n_samples,), for example using ravel().\n",
      "  estimator.fit(X_train, y_train, **fit_params)\n",
      "/opt/anaconda3/envs/Geo_pandas37/lib/python3.7/site-packages/sklearn/model_selection/_validation.py:515: DataConversionWarning: A column-vector y was passed when a 1d array was expected. Please change the shape of y to (n_samples,), for example using ravel().\n",
      "  estimator.fit(X_train, y_train, **fit_params)\n",
      "/opt/anaconda3/envs/Geo_pandas37/lib/python3.7/site-packages/sklearn/model_selection/_validation.py:515: DataConversionWarning: A column-vector y was passed when a 1d array was expected. Please change the shape of y to (n_samples,), for example using ravel().\n",
      "  estimator.fit(X_train, y_train, **fit_params)\n",
      "/opt/anaconda3/envs/Geo_pandas37/lib/python3.7/site-packages/sklearn/model_selection/_validation.py:515: DataConversionWarning: A column-vector y was passed when a 1d array was expected. Please change the shape of y to (n_samples,), for example using ravel().\n",
      "  estimator.fit(X_train, y_train, **fit_params)\n",
      "/opt/anaconda3/envs/Geo_pandas37/lib/python3.7/site-packages/sklearn/model_selection/_validation.py:515: DataConversionWarning: A column-vector y was passed when a 1d array was expected. Please change the shape of y to (n_samples,), for example using ravel().\n",
      "  estimator.fit(X_train, y_train, **fit_params)\n"
     ]
    }
   ],
   "source": [
    "cv_r2_scores_rf = cross_val_score(rf_reg, X_df, y_df, cv=5,scoring='r2')"
   ]
  },
  {
   "cell_type": "code",
   "execution_count": 904,
   "id": "increased-classic",
   "metadata": {},
   "outputs": [
    {
     "name": "stdout",
     "output_type": "stream",
     "text": [
      "[0.3441667  0.3548682  0.5248401  0.50287505 0.63328871]\n",
      "0.4720077525560315\n"
     ]
    }
   ],
   "source": [
    "print(cv_r2_scores_rf)\n",
    "print(cv_r2_scores_rf.mean())"
   ]
  },
  {
   "cell_type": "markdown",
   "id": "collect-january",
   "metadata": {},
   "source": [
    "### Manually perform the training repeatedly on each k-1 folds (x_train, y_train) and \n",
    "use the Kth fold (x_test, y_test) for testing "
   ]
  },
  {
   "cell_type": "markdown",
   "id": "interpreted-brass",
   "metadata": {},
   "source": [
    "#### RandomForestRegressor"
   ]
  },
  {
   "cell_type": "code",
   "execution_count": 905,
   "id": "exposed-white",
   "metadata": {},
   "outputs": [
    {
     "name": "stderr",
     "output_type": "stream",
     "text": [
      "/opt/anaconda3/envs/Geo_pandas37/lib/python3.7/site-packages/ipykernel_launcher.py:8: DataConversionWarning: A column-vector y was passed when a 1d array was expected. Please change the shape of y to (n_samples,), for example using ravel().\n",
      "  \n",
      "/opt/anaconda3/envs/Geo_pandas37/lib/python3.7/site-packages/ipykernel_launcher.py:8: DataConversionWarning: A column-vector y was passed when a 1d array was expected. Please change the shape of y to (n_samples,), for example using ravel().\n",
      "  \n",
      "/opt/anaconda3/envs/Geo_pandas37/lib/python3.7/site-packages/ipykernel_launcher.py:8: DataConversionWarning: A column-vector y was passed when a 1d array was expected. Please change the shape of y to (n_samples,), for example using ravel().\n",
      "  \n",
      "/opt/anaconda3/envs/Geo_pandas37/lib/python3.7/site-packages/ipykernel_launcher.py:8: DataConversionWarning: A column-vector y was passed when a 1d array was expected. Please change the shape of y to (n_samples,), for example using ravel().\n",
      "  \n",
      "/opt/anaconda3/envs/Geo_pandas37/lib/python3.7/site-packages/ipykernel_launcher.py:8: DataConversionWarning: A column-vector y was passed when a 1d array was expected. Please change the shape of y to (n_samples,), for example using ravel().\n",
      "  \n"
     ]
    },
    {
     "name": "stdout",
     "output_type": "stream",
     "text": [
      "Scores from each Iteration:  [0.6128487730176415, 0.5888013832750008, 0.6019223286071079, 0.5698204078910376, 0.6431469081786318]\n",
      "Average K-Fold Score : 0.6033079601938839\n"
     ]
    }
   ],
   "source": [
    "scores = []\n",
    "for i in range(5):\n",
    "    result = next(kf.split(X_df), None)\n",
    "    X_train = X_df.iloc[result[0]]\n",
    "    X_test = X_df.iloc[result[1]]\n",
    "    y_train = y_df.iloc[result[0]]\n",
    "    y_test = y_df.iloc[result[1]]\n",
    "    rf_reg.fit(X_train,y_train)\n",
    "    predictions = rf_reg.predict(X_test)\n",
    "    scores.append(r2(y_test, predictions))\n",
    "print('Scores from each Iteration: ', scores)\n",
    "print('Average K-Fold Score :' , np.mean(scores))"
   ]
  },
  {
   "cell_type": "code",
   "execution_count": 906,
   "id": "universal-military",
   "metadata": {},
   "outputs": [
    {
     "data": {
      "text/plain": [
       "449.83866469608597"
      ]
     },
     "execution_count": 906,
     "metadata": {},
     "output_type": "execute_result"
    }
   ],
   "source": [
    "np.sqrt(mean_squared_error(y_test, predictions))"
   ]
  },
  {
   "cell_type": "markdown",
   "id": "british-midwest",
   "metadata": {},
   "source": [
    "#### XGBooostRegressor"
   ]
  },
  {
   "cell_type": "code",
   "execution_count": 847,
   "id": "afraid-salvation",
   "metadata": {},
   "outputs": [
    {
     "name": "stdout",
     "output_type": "stream",
     "text": [
      "[20:52:48] WARNING: /Users/runner/miniforge3/conda-bld/xgboost_1607604592557/work/src/objective/regression_obj.cu:170: reg:linear is now deprecated in favor of reg:squarederror.\n",
      "[20:52:49] WARNING: /Users/runner/miniforge3/conda-bld/xgboost_1607604592557/work/src/objective/regression_obj.cu:170: reg:linear is now deprecated in favor of reg:squarederror.\n",
      "[20:52:49] WARNING: /Users/runner/miniforge3/conda-bld/xgboost_1607604592557/work/src/objective/regression_obj.cu:170: reg:linear is now deprecated in favor of reg:squarederror.\n",
      "[20:52:49] WARNING: /Users/runner/miniforge3/conda-bld/xgboost_1607604592557/work/src/objective/regression_obj.cu:170: reg:linear is now deprecated in favor of reg:squarederror.\n",
      "[20:52:49] WARNING: /Users/runner/miniforge3/conda-bld/xgboost_1607604592557/work/src/objective/regression_obj.cu:170: reg:linear is now deprecated in favor of reg:squarederror.\n",
      "Scores from each performance:  [0.4819935634222045, 0.5593881854335354, 0.6044320367450925, 0.5256576155256145, 0.6185050025502059]\n",
      "Average score : 0.5579952807353307\n"
     ]
    }
   ],
   "source": [
    "scores = []\n",
    "for i in range(5):\n",
    "    result = next(kf.split(X_df), None)\n",
    "    X_train = X_df.iloc[result[0]]\n",
    "    X_test = X_df.iloc[result[1]]\n",
    "    y_train = y_df.iloc[result[0]]\n",
    "    y_test = y_df.iloc[result[1]]\n",
    "    model = xgb_m.fit(X_train,y_train)\n",
    "    predictions = xgb_m.predict(X_test)\n",
    "    scores.append(model.score(X_test,y_test))\n",
    "print('Scores from each performance: ', scores)\n",
    "print('Average score :' , np.mean(scores))"
   ]
  },
  {
   "cell_type": "markdown",
   "id": "rising-naples",
   "metadata": {},
   "source": [
    "# HyperParameter Tuning Using GridSearch"
   ]
  },
  {
   "cell_type": "code",
   "execution_count": 848,
   "id": "loose-owner",
   "metadata": {},
   "outputs": [],
   "source": [
    "def Grid_Search_CV_RFR(X_train, y_train):\n",
    "\n",
    "    estimator = RandomForestRegressor(random_state = 42)\n",
    "    param_grid = { \n",
    "            \"n_estimators\"      : [5,10,20,30,40],\n",
    "            \"max_features\"      : [\"auto\", \"sqrt\", \"log2\"],\n",
    "            \"min_samples_split\" : [2,4,6,8,10],\n",
    "            \"bootstrap\": [True, False],\n",
    "            }\n",
    "\n",
    "    grid = GridSearchCV(estimator, param_grid, n_jobs=-1, cv=5, verbose = 2)\n",
    "\n",
    "    grid.fit(X_df, y_df)\n",
    "\n",
    "    return grid.best_score_ , grid.best_params_"
   ]
  },
  {
   "cell_type": "code",
   "execution_count": 849,
   "id": "opposed-vietnam",
   "metadata": {},
   "outputs": [
    {
     "name": "stdout",
     "output_type": "stream",
     "text": [
      "Fitting 5 folds for each of 150 candidates, totalling 750 fits\n"
     ]
    },
    {
     "name": "stderr",
     "output_type": "stream",
     "text": [
      "[Parallel(n_jobs=-1)]: Using backend LokyBackend with 8 concurrent workers.\n",
      "[Parallel(n_jobs=-1)]: Done  25 tasks      | elapsed:    3.5s\n",
      "[Parallel(n_jobs=-1)]: Done 146 tasks      | elapsed:    6.3s\n",
      "[Parallel(n_jobs=-1)]: Done 349 tasks      | elapsed:    9.6s\n",
      "[Parallel(n_jobs=-1)]: Done 632 tasks      | elapsed:   18.6s\n",
      "[Parallel(n_jobs=-1)]: Done 750 out of 750 | elapsed:   21.1s finished\n",
      "/opt/anaconda3/envs/Geo_pandas37/lib/python3.7/site-packages/sklearn/model_selection/_search.py:739: DataConversionWarning: A column-vector y was passed when a 1d array was expected. Please change the shape of y to (n_samples,), for example using ravel().\n",
      "  self.best_estimator_.fit(X, y, **fit_params)\n"
     ]
    },
    {
     "data": {
      "text/plain": [
       "(0.48820245477169505,\n",
       " {'bootstrap': True,\n",
       "  'max_features': 'sqrt',\n",
       "  'min_samples_split': 4,\n",
       "  'n_estimators': 40})"
      ]
     },
     "execution_count": 849,
     "metadata": {},
     "output_type": "execute_result"
    }
   ],
   "source": [
    "Grid_Search_CV_RFR(X_train, y_train)"
   ]
  },
  {
   "cell_type": "code",
   "execution_count": 621,
   "id": "homeless-volunteer",
   "metadata": {},
   "outputs": [],
   "source": [
    "#Using the best params from the GridSearch\n",
    "rf_reg = RandomForestRegressor(bootstrap= True, max_features= 'sqrt', min_samples_split= 4, n_estimators=40, random_state =42)"
   ]
  },
  {
   "cell_type": "code",
   "execution_count": 622,
   "id": "subsequent-optics",
   "metadata": {},
   "outputs": [],
   "source": [
    "cv_r2_scores_rf = cross_val_score(rf_reg, X_df, y_df, cv=5, scoring='r2')"
   ]
  },
  {
   "cell_type": "code",
   "execution_count": 623,
   "id": "meaningful-millennium",
   "metadata": {},
   "outputs": [
    {
     "name": "stdout",
     "output_type": "stream",
     "text": [
      "[0.39252631 0.43068981 0.51617969 0.50949058 0.59212588]\n",
      "0.48820245477169505\n"
     ]
    }
   ],
   "source": [
    "print(cv_r2_scores_rf)\n",
    "print(cv_r2_scores_rf.mean())"
   ]
  },
  {
   "cell_type": "markdown",
   "id": "developmental-beijing",
   "metadata": {},
   "source": [
    "#### Our data is limited for the better prediction. On comparing the different model, RandomForestClassifer shows better performance."
   ]
  },
  {
   "cell_type": "code",
   "execution_count": null,
   "id": "light-invalid",
   "metadata": {},
   "outputs": [],
   "source": []
  }
 ],
 "metadata": {
  "kernelspec": {
   "display_name": "Python 3",
   "language": "python",
   "name": "python3"
  },
  "language_info": {
   "codemirror_mode": {
    "name": "ipython",
    "version": 3
   },
   "file_extension": ".py",
   "mimetype": "text/x-python",
   "name": "python",
   "nbconvert_exporter": "python",
   "pygments_lexer": "ipython3",
   "version": "3.7.7"
  }
 },
 "nbformat": 4,
 "nbformat_minor": 5
}
